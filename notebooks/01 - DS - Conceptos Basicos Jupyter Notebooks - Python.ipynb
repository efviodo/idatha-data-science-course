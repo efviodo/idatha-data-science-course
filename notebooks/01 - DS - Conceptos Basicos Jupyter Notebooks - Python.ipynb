{
 "cells": [
  {
   "cell_type": "markdown",
   "metadata": {},
   "source": [
    "[![Open In Colab](https://colab.research.google.com/assets/colab-badge.svg)](#)"
   ]
  },
  {
   "cell_type": "markdown",
   "metadata": {},
   "source": [
    "<img src=\"figures/idatha-logo.jpeg\" width=\"100px\" height=\"100px\" style=\"float:left\"/>"
   ]
  },
  {
   "cell_type": "markdown",
   "metadata": {},
   "source": [
    "# Conceptos Básicos de Jupyter Notebooks"
   ]
  },
  {
   "cell_type": "markdown",
   "metadata": {},
   "source": [
    "## Objetivos"
   ]
  },
  {
   "cell_type": "markdown",
   "metadata": {},
   "source": [
    "* Entender qué es y para que sirve\n",
    "* Comprender conceptos y funcionalidades básicas\n",
    "* Familiarizarse con la herramienta\n"
   ]
  },
  {
   "cell_type": "markdown",
   "metadata": {},
   "source": [
    "<a id='Indice'></a>\n",
    "## Índice\n",
    "[Inicio ▲](#Indice)\n",
    "\n",
    "1. [¿Qué es Jupyter Notebook?](#Que-Es-Jupyter-Notebooks)\n",
    "1. [Jupyter Notebook App](#Jupyter-Notebook-App)\n",
    "    1. [Kernel](#Kernel)\n",
    "    1. [Dashboard](#Dashboard)\n",
    "1. [Instalación](#Instalacion)\n",
    "1. [Ejecución](#Ejecucion)\n",
    "1. [¿Cómo construír un Notebook?](#Como-construir-notebook)\n",
    "    1. [Celdas](#Celdas)\n",
    "        1. [¿Qué es una celda?](#Que-es-una-celda)\n",
    "        1. [¿Cómo se ejecuta?](#Como-se-ejecuta)\n",
    "        1. [¿Cómo se edita?](#Como-se-edita)\n",
    "    1. [Ejemplos](#Ejemplos)\n",
    "        1. [Markdown](#Markdown)\n",
    "        1. [Code](#Code)\n",
    "1. [Comándos Mágicos](#Comandos-Magicos)\n",
    "1. [Shortcuts](#Shortcuts)\n",
    "1. [Mejores Prácticas](#Mejores-Practicas)\n",
    "1. [Bibliografia](#Bibliografia)"
   ]
  },
  {
   "cell_type": "markdown",
   "metadata": {},
   "source": [
    "<a id='Que-Es-Jupyter-Notebooks'></a>\n",
    "## ¿Qué es Jupyter Notebooks?\n",
    "[Inicio ▲](#Indice)\n",
    "\n",
    "Jupyter Notebook (o más comunmente un \"notebook\" a secas), es un documento producido por la aplicación [Jupyter Notebook App](https://jupyter-notebook-beginner-guide.readthedocs.io/en/latest/what_is_jupyter.html#notebook-app), que contiene tanto código de computadora (por ejemplo, Python o R) como elementos de texto enriquecido (párrafos, ecuaciones, figuras, enlaces, etc.). Es tanto un documento legible por un ser humano, pudiendo contener la descripción de un análisis de datos y sus resultados (figuras, tablas, etc.), como ejecutable por una computadora, pudiendo contener snippets de código que ejecutan por ejemplo un análisis de datos.\n",
    "\n",
    "Debido a esta capacidad de mezclar, código y elementos de texto, este tipo de documentos son ideales para colocar el trabajo de un data scientist (científico de datos), reuniendo el análisis y los resultados en un mismo lugar, a la vez que permite ser ejecutado en tiempo real.\n",
    "\n",
    "Fuente: http://ipython.org/notebook.html#notebook-documents"
   ]
  },
  {
   "cell_type": "markdown",
   "metadata": {},
   "source": [
    "<a id='Jupyter-Notebook-App'></a>\n",
    "## Jupyter Notebook App\n",
    "[Inicio ▲](#Indice)\n",
    "\n",
    "Jupyter Notebook App, es una aplicación cliente-servidor que permite editar y ejecutar notebooks a través de un navegador web. La aplicación se puede instalar y ejecutar de forma local en una PC y no requiere acceso a Internet. A su vez se puede instalar en un servidor web remoto para luego accederla a través de Internet.\n",
    "\n",
    "Sus dos componentes principales son: (i) kernels y (ii) dashboard.\n",
    "\n",
    "<a id='Kernel'></a>\n",
    "### Kernel\n",
    "Un kernel es un \"motor\" computacional, que ejecuta el código contenido dentro del notebook. Cuando se abre un notebook, el kernel asociado se ejecuta de forma automática. Luego cuando se ejecuta un notebook (ya sea celda-por-celda o desde el menú *Cell -> Run All*, el kernel ejecuta los cálculos computacionales y produce los resultados.\n",
    "\n",
    "Por defecto la aplicación trae un kernel para el lenguaje Python, pero pueden agregarse kernels para otros lenguajes de programación como R.\n",
    "\n",
    "\n",
    "<div class=\"alert alert-info\">\n",
    "    <b>NOTA:</b>\n",
    "En el caso de este taller, cuando creamos un ambiente virtual para R utilizando <a href=\"https://www.anaconda.com/distribution/\">Anaconda</a>, automáticamente se agrega la opción <b>R</b> a los Kernels disponibles.\n",
    "</div>\n",
    "\n",
    "<a id='Dashboard'></a>\n",
    "### Dashboard\n",
    "El Dashboard de la aplicación, es la componente gráfica la cual se visualiza cuando uno ejecuta Jupyter Notebook App. Permite gestionar notebooks (agregar, crear, editar, etc), configurar y gestionar los Kernels disponibles (seleccionar, apagar, reiniciar, etc), entre otras opciones."
   ]
  },
  {
   "cell_type": "markdown",
   "metadata": {},
   "source": [
    "<a id='Instalacion'></a>\n",
    "## Instalación\n",
    "[Inicio ▲](#Indice)\n",
    " \n",
    "Ya que utilizamos Anaconda para la gestión y despliegue del ambiente, no es necesario instalar Jupyter Notebooks (viene dentro de la distribución). Por cualquier duda, ver el *Instructivo de Instalacion de Herramientas* [3] en la sección de *Bibliografía* y referencias."
   ]
  },
  {
   "cell_type": "markdown",
   "metadata": {},
   "source": [
    "<a id='Ejecucion'></a>\n",
    "## Ejecución\n",
    "[Inicio ▲](#Indice)\n",
    "\n",
    "Ahora que conocemos un poco más sobre la herramienta con la que se trabajará en este taller, es tiempo de aprender como utilizarla.\n",
    "\n",
    "Para ejecutar la aplicación de jupyter, abrimos una terminal, cargamos el ambiente virtual del taller con el comando ```conda activate``` y por último ejecutamos el comando ```jupyter notebook```. También se puede hacer lo mismo desde la aplicación *Anaconda Navigator*, por más información ver el *Instructivo de Instalación de Herramientas* [3].\n",
    "\n",
    "```bash\n",
    "$ conda activate taller_cdatos\n",
    "$ jupyter notebook\n",
    "```    \n",
    "\n",
    "El comando ```jupyter notebook``` se encarga de ejecutar la aplicación y abrir tu navegador web por defecto, con una pestaña en la siguiente dirección ```http://localhost:8888```.\n",
    "\n",
    "![figura1](https://raw.githubusercontent.com/efviodo/data-science/master/courses/utec/figures/content_jupyternotebook1.gif \"segment\")\n",
    "\n",
    "<center>Imagen extraída de <a href=\"https://www.datacamp.com/community/tutorials/tutorial-jupyter-notebook\">DataCamp</a></center>\n",
    "\n",
    "En la pestaña \"Files\" se encuentran todos los documentos referentes a tus \"notebooks\", mientras que en la pestaña \"Running\" encontrarás inormación para el seguimiento de todos los procesos que están en ejecución. Por último, desde la pestaña \"Cluster\", podrás controlar un cluster de kernerls, en caso que necesites utilizar paralelismo para tus notebooks (en este curso no abordaremos esto). \n",
    "\n",
    "Intentemos crear un nuevo Notebook para empezar a trabajar!\n",
    "\n",
    "Para crear un nuevo Notebook, basta con apretar el botón \"New\" en la pestaña \"Files\". Una vez que hagas click, un menú se deplegará para que selecciones que tipo de archivo vas a crear: Tex File, Folder, Terminar, Python2, Python3, R, etc. Para empezar vamos a seleccionar **R**. \n",
    "\n",
    "<div class=\"alert alert-info\">\n",
    "    <b>NOTA:</b>\n",
    "    Las opciones disponibles al momento de crear un Notebook, dependerán de los kernel instalados en nuestro ambiente. De esta forma, en caso de tener instalado solamente Python 2, contaremos solamente con dicha opción. De igual forma, si hemos instalado R, vamos a contar con esta opción también. Anteriormente, cuando creamos un ambiente virtual con el comando <i>conda create</i>, la propia herramienta <b>Anaconda</b>, se encargó de instalar todas las librerias de <b>R</b> y sus dependencias por nosotros, incluso para que contemos con un kernel de R desde Jupyter Notebook.\n",
    "</div>\n",
    "\n",
    "Una vez que hayas creado tu primer \"notebook\", la aplicación te abrirá un archivo en blanco. Allí encontrarás opciones muy similares a las de un editor de texto común y corriente. \n",
    "\n",
    "En la siguiente sección verás cuales son las principales herramientas de Jupyter Notebook y como construír tu primer notebook desde cero. Pero antes de pasar a la siguiente seccion, prueba de navegar por los diferentes menús y las opciones disponibles, para familiarizarte un poco más con la herramienta.\n"
   ]
  },
  {
   "cell_type": "markdown",
   "metadata": {},
   "source": [
    "<a id='Como-construir-notebook'></a>\n",
    "## ¿Cómo construír un Notebook?\n",
    "[Inicio ▲](#Indice)\n",
    "\n",
    "### Celdas\n",
    "\n",
    "<a id='Que-es-una-celda'></a>\n",
    "#### ¿Qué es una celda?\n",
    "Un notebook se compone por un conjunto de celdas o \"cells\" en inglés. Cada celda es una unidad independiente, que puede ser editada y ejecutada.\n",
    "\n",
    "Existen diferentes tipos de celdas:\n",
    "\n",
    "* *Code* : Contienen código que puede ser ejecutado, utilizando el Kernel seleccionado (ej. Python, R).\n",
    "* *Markdown*: Contienen información descriptiva como textos enriquecidos (descripciones, tablas, figuras).\n",
    "* *Raw NBConvert*: Tipo de celda utilizado cuando se quiere que Jupyter no interprete el contenido de la misma y lo muestre tal cual tu lo escribiste.\n",
    "* *Heading*: Antiguamente se utilizaba para crear títulos, actualmente se utiliza una celda Markdown para lo mismo.\n",
    "\n",
    "Cuando agregamos una nueva celda, por defecto se creará de tipo *Code*. Sin embargo puedes cambiar en cualquier momento el tipo de la misma simplemente seleccionando la celda y luego cambiando el tipo desde el menú que aparece en la parte superior del editor y eigiendo cualquier otro tipo.\n",
    "\n",
    "![figure2](https://github.com/efviodo/data-science/raw/master/courses/utec/figures/change_cell_type.png)\n",
    "\n",
    "\n",
    "Repasando lo que hemos visto hasta ahora, simplemente con estos cuatro tipos de celdas podemos mostrar:\n",
    "\n",
    "- `Código`\n",
    "- Gráficas generadas a partir de código\n",
    "- Texto **enriquecido**\n",
    "- Expresiones matemáticas: $e^x=\\sum_{i=0}^\\infty \\frac{1}{i!}x^i$\n",
    "- Dibujos y *rich media* (HTML, LaTeX, PNG, SVG, etc.)\n",
    "\n",
    "<a id='Como-se-ejecuta'></a>\n",
    "#### ¿Cómo se ejecuta?\n",
    "Cuando se abre por primera vez un Notebook, Juypyter carga la información de cada una de las celdas pero **NO** las ejecuta en su totalidad. Solamente ejecuta las celdas de tipo *Markdown*. Para ejecutar todas las celdas (incluyendo las de tipo *Code*), debemos ejecutarlas utilizando alguna de las varias formas que Jupyter pone a nuestra disposición:\n",
    "\n",
    "* *Cell -> Run Cells*\n",
    "* *Cell -> Run All*\n",
    "* Seleccionar la celda y *Ctrl+Enter* (shortcut)\n",
    "\n",
    "<a id='Como-se-edita'></a>\n",
    "#### ¿Cómo se edita?\n",
    "Para editar el contenido de una celda, basta con seleccionar la celda y cambiar al [Modo edición](#Modo-Edicion). Para esto basta con hacer doble click en la selda que queremos editar.\n"
   ]
  },
  {
   "cell_type": "markdown",
   "metadata": {},
   "source": [
    "### Ejemplos\n",
    "\n",
    "#### Markdown\n",
    "Esta es una celda de tipo *Markdown*; la misma permite escribir texto con cierto formato, por ejemplo títulos, listas, tablas. Probemos de insertar diferentes objetos, para investigar que tipo de cosas podemos hacer con ella:\n",
    "\n",
    "&rarr; Diferentes tipos de fuentes: **Negrita**, *Italica*, ~~Tacchado~~\n",
    "\n",
    "&rarr; Diferentes tamaños de letra:\n",
    "\n",
    "# Título 1\n",
    "## Título 2\n",
    "### Título 3\n",
    "#### Título 4\n",
    "\n",
    "&rarr; Lista de elementos\n",
    "    \n",
    "* Item 1\n",
    "* Item 2\n",
    "  * Item 2.1\n",
    "    * Item 2.2\n",
    "    * Item 2.3\n",
    " \n",
    "\n",
    "&rarr; Lista ordenada\n",
    "\n",
    "    1. Elemento 1\n",
    "    2. Elemento 2\n",
    "    3. Elemento 3\n",
    "\n",
    "&rarr; Tablas\n",
    "\n",
    "| Clase | Día | Fecha |\n",
    "| ----- | --- | ----- |\n",
    "| 1 | Lunes | 22/0/2018 |\n",
    "| 2 | Martes | 23/0/2018 |\n",
    "| 3 | Miércoles | 24/0/2018 |\n",
    "| 4 | Viernes | 26/0/2018 |\n",
    "\n",
    "&rarr; Imagenes\n",
    "\n",
    "<img src=\"figures/jupyter-logo.png\" width=\"200px\" style=\"center; margin-top:50px\"/>\n",
    "\n",
    "&rarr; HTML\n",
    "\n",
    "\n",
    "<form>\n",
    "  First name:<br>\n",
    "  <input type=\"text\" name=\"firstname\"><br>\n",
    "  Last name:<br>\n",
    "  <input type=\"text\" name=\"lastname\">\n",
    "</form>\n",
    "\n",
    "Por más información sobre lenguae Markdown ver https://github.com/adam-p/markdown-here/wiki/Markdown-Cheatsheet"
   ]
  },
  {
   "cell_type": "markdown",
   "metadata": {},
   "source": [
    "#### Code"
   ]
  },
  {
   "cell_type": "code",
   "execution_count": 2,
   "metadata": {
    "scrolled": true
   },
   "outputs": [
    {
     "name": "stdout",
     "output_type": "stream",
     "text": [
      "[1] \"Hola mundo!!!!\"\n"
     ]
    }
   ],
   "source": [
    "# Esto es una celda de código R. Como puedes ver, es posible editar el contenido de la misma y ejecutarla para ver\n",
    "# su resultado. El resultado se muestra debajo de la celda una vez que la misma fue ejecutada. En caso que el \n",
    "# código no produzca ningún resultado, no se mostrará nada.\n",
    "# Prueba de editar el contenido de la celda para ver como cambia el resultado!\n",
    "\n",
    "print(\"Hola mundo!\");"
   ]
  },
  {
   "cell_type": "markdown",
   "metadata": {},
   "source": [
    "Vamos a ver un ejemplo más complejo, una celda con una función en R que devuelve la suma de los cuadrados de sus argumentos."
   ]
  },
  {
   "cell_type": "code",
   "execution_count": 3,
   "metadata": {},
   "outputs": [
    {
     "name": "stdout",
     "output_type": "stream",
     "text": [
      "[1] 5\n"
     ]
    }
   ],
   "source": [
    "# Suma de cuadrados\n",
    "\n",
    "sumOfSquares <- function(x,y) {\n",
    "  x^2 + y^2\n",
    "}\n",
    "\n",
    "x = sumOfSquares(1,2);\n",
    "\n",
    "print(x)"
   ]
  },
  {
   "cell_type": "markdown",
   "metadata": {},
   "source": [
    "<a id='Comandos-Magicos'></a>\n",
    "## Comándos Mágicos\n",
    "[Inicio ▲](#Indice)\n",
    "\n",
    "Como toda herramienta, existe una serie de comandos o funciones esenciales para trabajar y que te harán la vida más fácil. En particular, con Jupyter, harán que tus notebooks sean más intercativos e intuitivos.\n",
    "\n",
    "Para ver la lista de \"comandos mágicos\" disponibles en tu kernel, siplemente crea una celda de tipo *Code* con el siguiente comando y ejecutala para ver el resultado. "
   ]
  },
  {
   "cell_type": "code",
   "execution_count": 4,
   "metadata": {
    "scrolled": true
   },
   "outputs": [],
   "source": [
    "# En R\n",
    "help()\n",
    "\n",
    "# En Python \n",
    "# %lsmagic"
   ]
  },
  {
   "cell_type": "markdown",
   "metadata": {},
   "source": [
    "Para conocer un poco más sobre cualquier función mágica simplemente utilziar el símbolo `?` seguido de la función como en el siguiente ejemplo:"
   ]
  },
  {
   "cell_type": "code",
   "execution_count": 10,
   "metadata": {},
   "outputs": [],
   "source": [
    "# Ayuda comando en R\n",
    "help(lapply)\n",
    "\n",
    "# Ayuda comando en Python\n",
    "# ?%cd"
   ]
  },
  {
   "cell_type": "markdown",
   "metadata": {},
   "source": [
    "En otro tipo de Kernels como el kernel IPython para el lenguaje Python, existen comandos análogos como el ```lsmagic``` (documentación [aquí](https://github.com/lmmx/devnotes/wiki/IPython-'magic'-function-documentation)).\n",
    "\n",
    "    % lsmagic"
   ]
  },
  {
   "cell_type": "markdown",
   "metadata": {},
   "source": [
    "Otra cosa que puede resultarte muy útil es conocer como se hace para ejecutar un comando cualquiera, que bien  podrías querer ejecutar como si estuviera en una terminal. Un buen ejemplo de esto es para copiar archivos de un directorio a otro, instalar librerias de sistema, etc. Para ello, dependiendo del kernel tenemos diferentes opciones. Con R, utiliazremos la función *system* del propio lenguaje. Por otro lado si quisieramos hacer lo mismo usando un kernel de Python se utiliza el símbolo `!` seguido del comando que queremos ejecutar."
   ]
  },
  {
   "cell_type": "code",
   "execution_count": 22,
   "metadata": {
    "scrolled": true
   },
   "outputs": [
    {
     "data": {
      "text/html": [
       "<ol class=list-inline>\n",
       "\t<li>'004 - Comprensión de los Datos.ipynb'</li>\n",
       "\t<li>'005 - Visualizacion.ipynb'</li>\n",
       "\t<li>'02 - Conceptos Basicos Jupyter Notebooks.ipynb'</li>\n",
       "\t<li>'03 - Introduccion a Data Science.ipynb'</li>\n",
       "\t<li>'04 - Adquisisicion de Datos.ipynb'</li>\n",
       "\t<li><span style=white-space:pre-wrap>'099 - Taller Ciencia de Datos - Laboratorio -  Analisis datos de Compras Estatales .ipynb'</span></li>\n",
       "\t<li>'099 - Taller Ciencia de Datos - Laboratorio - [COOK BOOK] Analisis datos de Compras Estatales .ipynb'</li>\n",
       "\t<li>'datasets'</li>\n",
       "\t<li>'datos.csv'</li>\n",
       "\t<li>'datos_poblacion_por_pais.csv'</li>\n",
       "\t<li>'figures'</li>\n",
       "\t<li>'Hello World.ipynb'</li>\n",
       "</ol>\n"
      ],
      "text/latex": [
       "\\begin{enumerate*}\n",
       "\\item '004 - Comprensión de los Datos.ipynb'\n",
       "\\item '005 - Visualizacion.ipynb'\n",
       "\\item '02 - Conceptos Basicos Jupyter Notebooks.ipynb'\n",
       "\\item '03 - Introduccion a Data Science.ipynb'\n",
       "\\item '04 - Adquisisicion de Datos.ipynb'\n",
       "\\item '099 - Taller Ciencia de Datos - Laboratorio -  Analisis datos de Compras Estatales .ipynb'\n",
       "\\item '099 - Taller Ciencia de Datos - Laboratorio - {[}COOK BOOK{]} Analisis datos de Compras Estatales .ipynb'\n",
       "\\item 'datasets'\n",
       "\\item 'datos.csv'\n",
       "\\item 'datos\\_poblacion\\_por\\_pais.csv'\n",
       "\\item 'figures'\n",
       "\\item 'Hello World.ipynb'\n",
       "\\end{enumerate*}\n"
      ],
      "text/markdown": [
       "1. '004 - Comprensión de los Datos.ipynb'\n",
       "2. '005 - Visualizacion.ipynb'\n",
       "3. '02 - Conceptos Basicos Jupyter Notebooks.ipynb'\n",
       "4. '03 - Introduccion a Data Science.ipynb'\n",
       "5. '04 - Adquisisicion de Datos.ipynb'\n",
       "6. <span style=white-space:pre-wrap>'099 - Taller Ciencia de Datos - Laboratorio -  Analisis datos de Compras Estatales .ipynb'</span>\n",
       "7. '099 - Taller Ciencia de Datos - Laboratorio - [COOK BOOK] Analisis datos de Compras Estatales .ipynb'\n",
       "8. 'datasets'\n",
       "9. 'datos.csv'\n",
       "10. 'datos_poblacion_por_pais.csv'\n",
       "11. 'figures'\n",
       "12. 'Hello World.ipynb'\n",
       "\n",
       "\n"
      ],
      "text/plain": [
       " [1] \"004 - Comprensión de los Datos.ipynb\"                                                                \n",
       " [2] \"005 - Visualizacion.ipynb\"                                                                           \n",
       " [3] \"02 - Conceptos Basicos Jupyter Notebooks.ipynb\"                                                      \n",
       " [4] \"03 - Introduccion a Data Science.ipynb\"                                                              \n",
       " [5] \"04 - Adquisisicion de Datos.ipynb\"                                                                   \n",
       " [6] \"099 - Taller Ciencia de Datos - Laboratorio -  Analisis datos de Compras Estatales .ipynb\"           \n",
       " [7] \"099 - Taller Ciencia de Datos - Laboratorio - [COOK BOOK] Analisis datos de Compras Estatales .ipynb\"\n",
       " [8] \"datasets\"                                                                                            \n",
       " [9] \"datos.csv\"                                                                                           \n",
       "[10] \"datos_poblacion_por_pais.csv\"                                                                        \n",
       "[11] \"figures\"                                                                                             \n",
       "[12] \"Hello World.ipynb\"                                                                                   "
      ]
     },
     "metadata": {},
     "output_type": "display_data"
    }
   ],
   "source": [
    "# ---> Kernel R\n",
    "# Mostrar documentos en mi directorio con\n",
    "system('ls', intern=TRUE)\n",
    "\n",
    "# ---> Kernel Python\n",
    "# Listar paquetes Python instalados \n",
    "# !pip --version"
   ]
  },
  {
   "cell_type": "code",
   "execution_count": 23,
   "metadata": {},
   "outputs": [],
   "source": [
    "# Para concoer más sobre la función system de R\n",
    "help(system)"
   ]
  },
  {
   "cell_type": "markdown",
   "metadata": {},
   "source": [
    "## Shortcuts\n",
    "\n",
    "### Modo Comando vs. modo Edición\n",
    "\n",
    "Antes de ver los principales atajos o \"shortcuts\", tienes que tener presente que Jupyter Notebooks tiene dos modos de entrada diferentes:\n",
    "\n",
    "**1. Modo comando**: Es el modo por defecto, se indica generalmente a traves de la celda seleccionada, la cual se recuadra con un marco de color <font color='blue'>azul</font>. En este modo, el teclado puede utilizarse para disparar acciones a nivel del Notebook como agregar celdas, ejecutar celdas, etc.\n",
    "\n",
    "**2. Modo edición**: Es el modo que se activa cuando selecionas una celda para editarla. Se indica remarcando la celda seleccionada con un borde de color <font color='green'>verde</font>.\n",
    "\n",
    "### Modo comando\n",
    "`shift + enter` ejecuta la celda, selecciona celda de abajo\n",
    "\n",
    "`ctrl + enter` ejecuta la celda\n",
    "\n",
    "`option + enter` ejecuta la celda, inserta debajo\n",
    "\n",
    "`A` inserta celda arriba\n",
    "\n",
    "`B` inserta celda debajo\n",
    "\n",
    "`C` copiar celda\n",
    "\n",
    "`V` pegar celda\n",
    "\n",
    "`D`,`D` borrar celda\n",
    "\n",
    "`shift + M` fusionar contenido de celdas seleccionadas, o celda actual con la de abajo si se selecciona una sola celda\n",
    "\n",
    "`I`,`I` stop kernel\n",
    "\n",
    "`0`, `0` restart kernel\n",
    "\n",
    "`Y` cambia tipo de celda a *Code*\n",
    "\n",
    "`M` cambia tipo de celda a *Markdown*\n",
    "\n",
    "<a id='Modo-Edicion'></a>\n",
    "### Modo edición\n",
    "`cmd` + `/` toggle lineas de comentarios\n",
    "\n",
    "`ctrl` + `shift` + `-` dividir celda"
   ]
  },
  {
   "cell_type": "markdown",
   "metadata": {},
   "source": [
    "<a id='Mejores-Practicas'></a>\n",
    "## Mejores Prácticas\n",
    "[Inicio ▲](#Indice)\n",
    "\n",
    "A continuación listo una serie de buenas prácticas que te ayudarán a crear notebooks más prolijos e interactivos.\n",
    "\n",
    "### Importación de dependencias en la primera celda\n",
    "Realiza el \"import\" de todas tus dependencias en la primera celda del notebook. Esto ayuda la legibilidad, ya que antes de meterse con funciones y análisis de datos, tienes claro cuales son las dependencias que el notebook utiliza. A su vez, cuando re-inicias el notebook se cargan nuevamente todas las dependencias. Por último, si no quieres re-ejecutar todas las celdas de nuevo, tienes todas las dependencias juntas en una única celda que re-ejecutar.\n",
    "\n",
    "### Manten tus celdas simples\n",
    "Trata de mantener tus celdas simples, es decir logra un correcto balance entre cantidad de celdas y contenido en las mismas. Por ejemplo, no es una buena práctica tener una única celda con todo el contenido de tu notebook, pero tampoco es bueno tener una celda por cada comentario o línea de código que tengas.\n",
    "\n",
    "Logra un correcto balance agrupando comentarios, código, etc.\n",
    "\n",
    "### Define métodos\n",
    "Si tienes un análisis complejo de datos, no te olvides de todo lo que sabes de programación. Crea métodos que encapsulen comportamiento y te permitan reutilizarlo. Puedes definirte una sección de métodos útiles y comunes al inicio del notebook si quieres. \n",
    "\n",
    "### Manejador de versiones\n",
    "Siempre que puedas, utiliza un gestor de código fuente como [Github](https://github.com/), [GitLab](https://about.gitlab.com/) para mantener todas las versiones de tus notebooks de forma simple.\n",
    "\n",
    "### Convencion para nombrar archivos\n",
    "Utiliza una convenciíon para nombrar los notebooks de tu proyecto. Puede ser una convención que tu mismo inventaste, siempre y cuando exista algún criterio que permita entender la relación entre distintos notebooks y que suguiera que encontrarás en el mismo.\n",
    "\n",
    "Ejemplos:\n",
    "- 001 - Compras Estatales - Primer Analisis **(BIEN)**\n",
    "- 002 - Compras Estatales - Evaluacion Calidad **(BIEN)**\n",
    "- Calentamiento **(MAL)**\n",
    "- Notebook 2 **(MAL)**\n",
    "\n",
    "### Divide el notebook en secciones\n",
    "Puedes dividir el contenido de tu notebook en seccioens utilizando la expresividad del lenguaje Markdown. A su vez, siempre resulta muy útil agregar una sección de **Objetivos** y otra de **Índice** al inicio del mismo.\n",
    "\n",
    "### Aprende mirando otros Notebooks\n",
    "La mejor forma de aprender tips y buenas prácticas a la hora de hacer notebooks, es mirando otros notebooks. Busca en la web ejemplos y tomate un tiempo para entenderlos. Puedes encontrar muchos ejemplos en [nbviewer](https://nbviewer.jupyter.org/) o incluso en [Github](https://github.com/jakevdp/PythonDataScienceHandbook/tree/master/notebooks).\n"
   ]
  },
  {
   "cell_type": "markdown",
   "metadata": {},
   "source": [
    "<a id='Bibliografia'></a>\n",
    "## Bilbiografía\n",
    "[Inicio ▲](#Indice)\n",
    "\n",
    "<ol>\n",
    "    <li><a href=\"https://www.datacamp.com/community/tutorials/tutorial-jupyter-notebook\">Tutorial Jupyter Notebooks</a></li>\n",
    "    <li><a href=\"http://maxmelnick.com/2016/04/19/python-beginner-tips-and-tricks.html\">Shortcuts Jupyter</a></li>\n",
    "</ol>"
   ]
  }
 ],
 "metadata": {
  "kernelspec": {
   "display_name": "R",
   "language": "R",
   "name": "ir"
  },
  "language_info": {
   "codemirror_mode": "r",
   "file_extension": ".r",
   "mimetype": "text/x-r-source",
   "name": "R",
   "pygments_lexer": "r",
   "version": "3.5.1"
  }
 },
 "nbformat": 4,
 "nbformat_minor": 2
}
