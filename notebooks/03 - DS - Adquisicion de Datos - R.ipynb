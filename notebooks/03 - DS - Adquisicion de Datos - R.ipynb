{
 "cells": [
  {
   "cell_type": "markdown",
   "metadata": {},
   "source": [
    "[![Open In Colab](https://colab.research.google.com/assets/colab-badge.svg)](https://colab.research.google.com/github/efviodo/idatha-data-science-course/blob/master/notebooks/03%20-%20DS%20-%20Adquisicion%20de%20Datos%20-%20R.ipynb)"
   ]
  },
  {
   "cell_type": "markdown",
   "metadata": {},
   "source": [
    "<img src=\"https://github.com/efviodo/idatha-data-science-course/raw/master/notebooks/figures/idatha-logo.jpeg\" width=\"100px\" height=\"100px\" style=\"float:left\"/>"
   ]
  },
  {
   "cell_type": "markdown",
   "metadata": {},
   "source": [
    "# Adquisición de Datos"
   ]
  },
  {
   "cell_type": "markdown",
   "metadata": {},
   "source": [
    "## Objetivos\n",
    "- Entender que es la etapa de adquisición de datos\n",
    "- Familiarizarse con las fuentes de datos más comunes\n",
    "- Introducir algunas facilidades en R para adquisición de datos\n",
    "- Enumerar los principales desafíos y riesgos"
   ]
  },
  {
   "cell_type": "markdown",
   "metadata": {},
   "source": [
    "<a id='Indice'></a>\n",
    "## Índice\n",
    "[Inicio ▲](#Indice)\n",
    "\n",
    "1. [¿Qué es la adquisición de datos?](#Adquisicion-Datos)\n",
    "1. [Fuentes de Datos](#Fuentes-Datos)\n",
    "    1. [Definición](#Definicion)\n",
    "    1. [Tipos](#Tipos)\n",
    "1. [Herramientas](#Herramientas)\n",
    "    1. [Bases de Datos (BDs)](#Bases-Datos)\n",
    "    1. [Sitios Web](#Sitios-Web)\n",
    "    1. [Datos Abiertos](#Datos-Abiertos)\n",
    "    1. [APIs REST](#Rest-Apis)\n",
    "1. [Fuentes de Datos Abiertas](#Fuentes-Datos-Abiertas)\n",
    "1. [Desafíos](#Desafios)\n",
    "1. [Bibliografía](#Bibliografia)"
   ]
  },
  {
   "cell_type": "markdown",
   "metadata": {},
   "source": [
    "<a id='Adquisicion-Datos'></a>\n",
    "## ¿Qué es la adquisición de datos?\n",
    "[Inicio ▲](#Indice)\n",
    "\n",
    "La adquisición de datos o también conocido como ingesta de datos, es el proceso de obtener o importar los datos\n",
    "que se pretenden analizar, desde su **fuente**, y almacenarlos temporal o permanentemente para su posterior análisis.\n",
    "\n",
    "Como resultado de esta operación, el científico de datos tiene a su dispocición uno o varios set de datos en un formato comprendido y manejado por este (archivos CSV, resultado de consultas SQL, data frames, etc), listo para comenzar con el análisis y el entendimiento de los datos."
   ]
  },
  {
   "cell_type": "markdown",
   "metadata": {},
   "source": [
    "<a id='Fuentes-Datos'></a>\n",
    "## Fuentes de Datos\n",
    "[Inicio ▲](#Indice)\n",
    "\n",
    "<a id='Definicion'></a>\n",
    "### Definición\n",
    "La fuente de un dato, es el lugar donde se encuentra el dato, desde la perspectiva de quien diseña el proceso de análisis. Por ejemplo, puede ser un sensor IoT (Internet de las Cosas) al cual puedo conectarme para leer información, Redes Sociales (Twtter, Facebook), un sistema [ERP](https://es.wikipedia.org/wiki/Sistema_de_planificaci%C3%B3n_de_recursos_empresariales), base de datos de un cliente, sistemas de almacenamiento legados, fuentes de datos abiertas, sitios web, etc.\n",
    "\n",
    "Cada vez son más y más los lugares donde se originan datos y a los cuales podemos acceder y explotar. Conforme crecen las fuentes de datos, también crecen y se originan nuevas tecnologías para acceder a ellos.\n",
    "\n",
    "### Tipos\n",
    "Dependiendo de donde se encuentren los datos, como accederemos a ellos, es decir como nos conectamos y que tecnología utilizamos. De esta forma, resulta útil agrupar las fuentes de datos en diferentes tipos:\n",
    "\n",
    "- Bases de datos de clientes: Relacionales/No Relacionales, archivos PDF, fotos (PNG, JPG...), Big Data, etc.\n",
    "- Sitios Web: Técnicas de web crawling y web scraping\n",
    "- Redes sociales: Integración via APIs REST\n",
    "- Datos Abiertos: Carga de archivos con formato (CSV, TXT, PDF, etc), integración mediante APIs."
   ]
  },
  {
   "cell_type": "markdown",
   "metadata": {},
   "source": [
    "<a id='Herramientas'></a>\n",
    "## Herramientas\n",
    "[Inicio ▲](#Indice)\n",
    "\n",
    "Cada lenguaje de programación tiene su oferta de herramientas que facilitan la integración con otros sistemas, y así la adquisición de datos. A continuación se enumeran algunos ejemplos de herramientas que podrás encontrar en **R**, y que te ayudaran en la adiquisición de datos. \n",
    "\n",
    "<a id='Bases-Datos'></a>\n",
    "### Bases de Datos (BDs)\n",
    "Dentro de **R**, podemos encontrar variedad de librerias para acceder a distintos motores de base de datos, MySQL, Oracle, PostgreSQL, MongoDB, etc. En particular podrás encontrar toda la información que necesitas para conectarte a una BD y hacer consultas [aquí](https://db.rstudio.com/getting-started/).\n",
    "\n",
    "<a id='Sitios-Web'></a>\n",
    "### Sitios Web\n",
    "\n",
    "Es bastante común, la necesidad de extraer información de un sitio web y de a su vez de forma automática. Para ello existen dos técnicas bien conocidas que son: (i) Web Scarping y (ii) Web Crawling.\n",
    "\n",
    "#### ¿Qué es web Scraping?\n",
    "Es el acto de procesar un documento web y extraer información del mismo. \n",
    "\n",
    "#### ¿Qué es web Crawling?\n",
    "Es el proceso de encontrar y recuperar \"web links\", desde una lista inicial de URLs, navegando el contenido de la lista inicial y aplicando técnicas de web scraping para encontrar nuevos links.\n",
    "\n",
    "Existen varias herramientas que implementan estas técnicas, una de las más populares es la libreria de Python [Scrapy](https://scrapy.org/), pero también existen herramientas para el lenguaje R.\n",
    "\n",
    "#### Ejemplo\n",
    "\n",
    "A continuación vamos a ver un ejemplo de como extraer información del popular sitio web de reseñas de peliculas, [IMDb](https://www.imdb.com). Para ello vamos a usar **R** y la libreria de Scraping [rvest](https://github.com/tidyverse/rvest), para recuperar los primeros resultados de búsqueda de peliculas cuya fecha de lanzamiento se encuentra entre el año 2018 y 2019.\n",
    "\n",
    "Si te sientes curioso acerca de como hacer el scrapping completo de un sitio web con esta libreria, puedes ver un tutorial completo [aquí](https://www.analyticsvidhya.com/blog/2017/03/beginners-guide-on-web-scraping-in-r-using-rvest-with-hands-on-knowledge/)."
   ]
  },
  {
   "cell_type": "code",
   "execution_count": 1,
   "metadata": {},
   "outputs": [
    {
     "name": "stderr",
     "output_type": "stream",
     "text": [
      "Loading required package: xml2\n"
     ]
    },
    {
     "data": {
      "text/html": [
       "<ol class=list-inline>\n",
       "\t<li>'Once Upon a Time in... Hollywood'</li>\n",
       "\t<li>'Scary Stories to Tell in the Dark'</li>\n",
       "\t<li>'Fast &amp; Furious Presents: Hobbs &amp; Shaw'</li>\n",
       "\t<li>'Little Women'</li>\n",
       "\t<li>'Avengers: Endgame'</li>\n",
       "\t<li>'The Lion King'</li>\n",
       "</ol>\n"
      ],
      "text/latex": [
       "\\begin{enumerate*}\n",
       "\\item 'Once Upon a Time in... Hollywood'\n",
       "\\item 'Scary Stories to Tell in the Dark'\n",
       "\\item 'Fast \\& Furious Presents: Hobbs \\& Shaw'\n",
       "\\item 'Little Women'\n",
       "\\item 'Avengers: Endgame'\n",
       "\\item 'The Lion King'\n",
       "\\end{enumerate*}\n"
      ],
      "text/markdown": [
       "1. 'Once Upon a Time in... Hollywood'\n",
       "2. 'Scary Stories to Tell in the Dark'\n",
       "3. 'Fast &amp; Furious Presents: Hobbs &amp; Shaw'\n",
       "4. 'Little Women'\n",
       "5. 'Avengers: Endgame'\n",
       "6. 'The Lion King'\n",
       "\n",
       "\n"
      ],
      "text/plain": [
       "[1] \"Once Upon a Time in... Hollywood\"     \n",
       "[2] \"Scary Stories to Tell in the Dark\"    \n",
       "[3] \"Fast & Furious Presents: Hobbs & Shaw\"\n",
       "[4] \"Little Women\"                         \n",
       "[5] \"Avengers: Endgame\"                    \n",
       "[6] \"The Lion King\"                        "
      ]
     },
     "metadata": {},
     "output_type": "display_data"
    }
   ],
   "source": [
    "# Importar libreria rvest\n",
    "library('rvest')\n",
    "\n",
    "# Defino url de la página que quiero hacer scraping. En este caso es el buscador del sitio y los primeros 100 \n",
    "# resultados de peliculas cuya fecha de lanzamiento es entre 2018 y 2019\n",
    "url <- 'http://www.imdb.com/search/title?count=100&release_date=2018,2019&title_type=feature'\n",
    "\n",
    "# Leer el HTML desde la URL el sitio web\n",
    "webpage <- read_html(url)\n",
    "\n",
    "# Utilizando un selector CSS hago scraping de la sección título\n",
    "title_data_html <- html_nodes(webpage,'.lister-item-header a')\n",
    "\n",
    "# Convertir title_data_html a texto\n",
    "title_data <- html_text(title_data_html)\n",
    "\n",
    "# Imprimo primeros resultados obtenidos\n",
    "head(title_data)"
   ]
  },
  {
   "cell_type": "markdown",
   "metadata": {},
   "source": [
    "Notar, la comlejidad que implica hacer web scarping para un data scientist\n",
    "- Necesitamos conocer la estructura de la página web.\n",
    "- Conocer las básicas de HTML, CSS, entre otros.\n",
    "- Si la estructura de la página cambia, necesito cambiar el programa que hace scraping."
   ]
  },
  {
   "cell_type": "markdown",
   "metadata": {},
   "source": [
    "<a id='Datos-Abiertos'></a>\n",
    "### Datos abiertos\n",
    "Los datos abiertos suelen encontrarse en diferentes formatos, pero los principales son: CSV, XML, JSON, TXT y PDF. A su vez, dependiendo de la naturaleza del dato, puede que encuentres otros formatos como PNG (usualmente en datasets de imagenes en el área Computer Vision) o Shapefile (datos espaciales).\n",
    "\n",
    "Afortunadamente, existen librerias que implementan el acceso a estos formatos de archivos y manejan toda la complejidad de leerlos y extraer la información que necesitamos.\n",
    "\n",
    "Para fijar ideas, vamos a ver como descargar un archivo CSV de datos, cargarlo y recuperar un poco de información del mismo. Para ello vamos a usar las librerias ```downloader``` y ```dyplr``` de R."
   ]
  },
  {
   "cell_type": "code",
   "execution_count": 2,
   "metadata": {
    "scrolled": false
   },
   "outputs": [
    {
     "name": "stderr",
     "output_type": "stream",
     "text": [
      "Warning message in download.file(url, method = method, ...):\n",
      "“cannot open URL 'https://github.com/efviodo/idatha-data-science-course/raw/master/notebooks/datasets/world-bank-data/country_population.csv': HTTP status was '404 Not Found'”"
     ]
    },
    {
     "ename": "ERROR",
     "evalue": "Error in download.file(url, method = method, ...): no fue posible abrir la URL 'https://github.com/efviodo/idatha-data-science-course/raw/master/notebooks/datasets/world-bank-data/country_population.csv'\n",
     "output_type": "error",
     "traceback": [
      "Error in download.file(url, method = method, ...): no fue posible abrir la URL 'https://github.com/efviodo/idatha-data-science-course/raw/master/notebooks/datasets/world-bank-data/country_population.csv'\nTraceback:\n",
      "1. download(url, filename)",
      "2. download.file(url, method = method, ...)"
     ]
    }
   ],
   "source": [
    "# Importar libreria downloader para descargar CSV\n",
    "library(downloader)\n",
    "\n",
    "# Defino url a archivo CSV \n",
    "url <- \"https://github.com/efviodo/idatha-data-science-course/raw/master/notebooks/datasets/world-bank-data/country_population.csv\"\n",
    "\n",
    "# Descargo archivo CSV \n",
    "filename <- \"datos_poblacion_por_pais.csv\"\n",
    "if (!file.exists(filename)) download(url,filename)\n",
    "\n",
    "# Cargo datos del archivo\n",
    "datos <- read.csv(filename, encoding=\"latin1\")\n",
    "\n",
    "# Imprimo primeras filas del CSV\n",
    "head(datos)"
   ]
  },
  {
   "cell_type": "markdown",
   "metadata": {},
   "source": [
    "En este caso, acabamos de leer los datos de senso de población de diferentes países para distintos años."
   ]
  },
  {
   "cell_type": "code",
   "execution_count": 3,
   "metadata": {},
   "outputs": [
    {
     "data": {
      "text/html": [
       "<ol class=list-inline>\n",
       "\t<li>264</li>\n",
       "\t<li>61</li>\n",
       "</ol>\n"
      ],
      "text/latex": [
       "\\begin{enumerate*}\n",
       "\\item 264\n",
       "\\item 61\n",
       "\\end{enumerate*}\n"
      ],
      "text/markdown": [
       "1. 264\n",
       "2. 61\n",
       "\n",
       "\n"
      ],
      "text/plain": [
       "[1] 264  61"
      ]
     },
     "metadata": {},
     "output_type": "display_data"
    }
   ],
   "source": [
    "# Puedo analizar las dimensiones del dataset como cantidad de columnas o filas de datos.\n",
    "dim(datos)"
   ]
  },
  {
   "cell_type": "code",
   "execution_count": 4,
   "metadata": {},
   "outputs": [
    {
     "name": "stderr",
     "output_type": "stream",
     "text": [
      "\n",
      "Attaching package: ‘dplyr’\n",
      "\n",
      "The following objects are masked from ‘package:stats’:\n",
      "\n",
      "    filter, lag\n",
      "\n",
      "The following objects are masked from ‘package:base’:\n",
      "\n",
      "    intersect, setdiff, setequal, union\n",
      "\n"
     ]
    },
    {
     "data": {
      "text/html": [
       "<table>\n",
       "<caption>A data.frame: 5 × 2</caption>\n",
       "<thead>\n",
       "\t<tr><th scope=col>Country.Name</th><th scope=col>X2016</th></tr>\n",
       "\t<tr><th scope=col>&lt;fct&gt;</th><th scope=col>&lt;dbl&gt;</th></tr>\n",
       "</thead>\n",
       "<tbody>\n",
       "\t<tr><td>Tuvalu                  </td><td>11097</td></tr>\n",
       "\t<tr><td>Nauru                   </td><td>13049</td></tr>\n",
       "\t<tr><td>Palau                   </td><td>21503</td></tr>\n",
       "\t<tr><td>British Virgin Islands  </td><td>30661</td></tr>\n",
       "\t<tr><td>St. Martin (French part)</td><td>31949</td></tr>\n",
       "</tbody>\n",
       "</table>\n"
      ],
      "text/latex": [
       "A data.frame: 5 × 2\n",
       "\\begin{tabular}{r|ll}\n",
       " Country.Name & X2016\\\\\n",
       " <fct> & <dbl>\\\\\n",
       "\\hline\n",
       "\t Tuvalu                   & 11097\\\\\n",
       "\t Nauru                    & 13049\\\\\n",
       "\t Palau                    & 21503\\\\\n",
       "\t British Virgin Islands   & 30661\\\\\n",
       "\t St. Martin (French part) & 31949\\\\\n",
       "\\end{tabular}\n"
      ],
      "text/markdown": [
       "\n",
       "A data.frame: 5 × 2\n",
       "\n",
       "| Country.Name &lt;fct&gt; | X2016 &lt;dbl&gt; |\n",
       "|---|---|\n",
       "| Tuvalu                   | 11097 |\n",
       "| Nauru                    | 13049 |\n",
       "| Palau                    | 21503 |\n",
       "| British Virgin Islands   | 30661 |\n",
       "| St. Martin (French part) | 31949 |\n",
       "\n"
      ],
      "text/plain": [
       "  Country.Name             X2016\n",
       "1 Tuvalu                   11097\n",
       "2 Nauru                    13049\n",
       "3 Palau                    21503\n",
       "4 British Virgin Islands   30661\n",
       "5 St. Martin (French part) 31949"
      ]
     },
     "metadata": {},
     "output_type": "display_data"
    }
   ],
   "source": [
    "# Importar libreria dplyr\n",
    "library(dplyr)\n",
    "\n",
    "# Selecciona solamente las columnas Nombre de Pais y población en el año 2016\n",
    "sub_set <- select(datos, Country.Name, X2016);\n",
    "\n",
    "# Ordena de forma ascendente (para ordenar de forma descendente usar desc())\n",
    "sub_set <- sub_set %>% arrange(X2016);\n",
    "\n",
    "# Obtiene primeros 5 resultados\n",
    "head(sub_set, 5)"
   ]
  },
  {
   "cell_type": "markdown",
   "metadata": {},
   "source": [
    "El lenguaje R tiene una variedad interesante de operadores para trabajar con data frames, más adelante en este taller vamos a ir viendo algunos otros. Por más información sobre dpylr puedes profuindizar [aquí](https://dplyr.tidyverse.org/index.html)."
   ]
  },
  {
   "cell_type": "markdown",
   "metadata": {},
   "source": [
    "<a id='Rest-Apis'></a>\n",
    "### APIs REST\n",
    "Muchas veces en un proyecto de ciencia de datos, tenemos el requerimiento de acceder a los datos a través de una API REST. Naturalmente no vamos a re-implementar la rueda y desarrollar un programa que establezca una conexión HTTP, parse la respuesta, etc. Existen librerias que implementan clientes rest y también librerías que nos ayudan a parsear respuestas en formato JSON, XML, etc. Veamos un ejemplo en el que utilizamos las librerias ```httr``` y ```jsonlite``` para invocar la API de la popular plataforma de compra venta de bienes y servicios [Mercado Libre](https://developers.mercadolibre.com.uy/es_ar). En el mismo, vamos a recuperar y mostrar información de las categorías de productos que se ofrecen a través de la plataforma."
   ]
  },
  {
   "cell_type": "markdown",
   "metadata": {},
   "source": [
    "**Consumiendo servicio REST**"
   ]
  },
  {
   "cell_type": "code",
   "execution_count": 3,
   "metadata": {},
   "outputs": [
    {
     "data": {
      "text/html": [
       "200"
      ],
      "text/latex": [
       "200"
      ],
      "text/markdown": [
       "200"
      ],
      "text/plain": [
       "[1] 200"
      ]
     },
     "metadata": {},
     "output_type": "display_data"
    }
   ],
   "source": [
    "# Importo librerias \n",
    "library(httr); library(jsonlite)\n",
    "\n",
    "# Dirección del servicio en la API REST\n",
    "path <- \"https://api.mercadolibre.com/sites/MLU\"\n",
    "\n",
    "# Invocación al método\n",
    "request <- GET(url = path)\n",
    "\n",
    "# Obtenemos el status code de la respuesta con el operador '$'\n",
    "request$status_code"
   ]
  },
  {
   "cell_type": "markdown",
   "metadata": {},
   "source": [
    "**Parseando contenido de la respuesta**"
   ]
  },
  {
   "cell_type": "code",
   "execution_count": 4,
   "metadata": {
    "scrolled": true
   },
   "outputs": [
    {
     "data": {
      "text/html": [
       "<table>\n",
       "<caption>A data.frame: 6 × 2</caption>\n",
       "<thead>\n",
       "\t<tr><th scope=col>id</th><th scope=col>name</th></tr>\n",
       "\t<tr><th scope=col>&lt;chr&gt;</th><th scope=col>&lt;chr&gt;</th></tr>\n",
       "</thead>\n",
       "<tbody>\n",
       "\t<tr><td>MLU5725</td><td>Accesorios para Vehículos</td></tr>\n",
       "\t<tr><td>MLU1403</td><td>Alimentos y Bebidas      </td></tr>\n",
       "\t<tr><td>MLU1071</td><td>Animales y Mascotas      </td></tr>\n",
       "\t<tr><td>MLU1367</td><td>Arte y Antigüedades      </td></tr>\n",
       "\t<tr><td>MLU1743</td><td>Autos, Motos y Otros     </td></tr>\n",
       "\t<tr><td>MLU1384</td><td>Bebés                    </td></tr>\n",
       "</tbody>\n",
       "</table>\n"
      ],
      "text/latex": [
       "A data.frame: 6 × 2\n",
       "\\begin{tabular}{r|ll}\n",
       " id & name\\\\\n",
       " <chr> & <chr>\\\\\n",
       "\\hline\n",
       "\t MLU5725 & Accesorios para Vehículos\\\\\n",
       "\t MLU1403 & Alimentos y Bebidas      \\\\\n",
       "\t MLU1071 & Animales y Mascotas      \\\\\n",
       "\t MLU1367 & Arte y Antigüedades      \\\\\n",
       "\t MLU1743 & Autos, Motos y Otros     \\\\\n",
       "\t MLU1384 & Bebés                    \\\\\n",
       "\\end{tabular}\n"
      ],
      "text/markdown": [
       "\n",
       "A data.frame: 6 × 2\n",
       "\n",
       "| id &lt;chr&gt; | name &lt;chr&gt; |\n",
       "|---|---|\n",
       "| MLU5725 | Accesorios para Vehículos |\n",
       "| MLU1403 | Alimentos y Bebidas       |\n",
       "| MLU1071 | Animales y Mascotas       |\n",
       "| MLU1367 | Arte y Antigüedades       |\n",
       "| MLU1743 | Autos, Motos y Otros      |\n",
       "| MLU1384 | Bebés                     |\n",
       "\n"
      ],
      "text/plain": [
       "  id      name                     \n",
       "1 MLU5725 Accesorios para Vehículos\n",
       "2 MLU1403 Alimentos y Bebidas      \n",
       "3 MLU1071 Animales y Mascotas      \n",
       "4 MLU1367 Arte y Antigüedades      \n",
       "5 MLU1743 Autos, Motos y Otros     \n",
       "6 MLU1384 Bebés                    "
      ]
     },
     "metadata": {},
     "output_type": "display_data"
    }
   ],
   "source": [
    "# Extraigo el contenido de la respuesta como texto\n",
    "response <- content(request, as = \"text\", encoding = \"UTF-8\")\n",
    "\n",
    "# Utilizando jsonlite convierto el texto de la respuesta de JSON a un objeto R\n",
    "response_data <- fromJSON(response, flatten = FALSE)\n",
    "\n",
    "# Voy a quedarme solo con el valor del atributo 'categories' de la respuesta y creo un dataframe a partir de ello\n",
    "df <- response_data$categories %>% data.frame()\n",
    "\n",
    "# Muestro primeros resultados\n",
    "head(df)"
   ]
  },
  {
   "cell_type": "markdown",
   "metadata": {},
   "source": [
    "**Parseando como JSON**"
   ]
  },
  {
   "cell_type": "code",
   "execution_count": 7,
   "metadata": {},
   "outputs": [
    {
     "data": {
      "text/plain": [
       "{\n",
       "    \"id\": [\n",
       "        \"MLU5725\"\n",
       "    ],\n",
       "    \"name\": [\n",
       "        \"Accesorios para Vehículos\"\n",
       "    ],\n",
       "    \"picture\": [\n",
       "        \"http://resources.mlstatic.com/category/images/a0572646-bbf9-4b24-81c8-603723a015ba.png\"\n",
       "    ],\n",
       "    \"permalink\": [\n",
       "        \"http://home.mercadolibre.com.uy/vehiculos-accesorios/\"\n",
       "    ],\n",
       "    \"total_items_in_this_category\": [\n",
       "        450108\n",
       "    ],\n",
       "    \"path_from_root\": [\n",
       "        {\n",
       "            \"id\": [\n",
       "                \"MLU5725\"\n",
       "            ],\n",
       "            \"name\": [\n",
       "                \"Accesorios para Vehículos\"\n",
       "            ]\n",
       "        }\n",
       "    ],\n",
       "    \"children_categories\": [\n",
       "        {\n",
       "            \"id\": [\n",
       "                \"MLU417044\"\n",
       "            ],\n",
       "            \"name\": [\n",
       "                \"Acc. y Repuestos Náuticos\"\n",
       "            ],\n",
       "            \"total_items_in_this_category\": [\n",
       "                32\n",
       "            ]\n",
       "        },\n",
       "        {\n",
       "            \"id\": [\n",
       "                \"MLU1747\"\n",
       "            ],\n",
       "            \"name\": [\n",
       "                \"Accesorios Autos y Camionetas\"\n",
       "            ],\n",
       "            \"total_items_in_this_category\": [\n",
       "                70229\n",
       "            ]\n",
       "        },\n",
       "        {\n",
       "            \"id\": [\n",
       "                \"MLU1772\"\n",
       "            ],\n",
       "            \"name\": [\n",
       "                \"Accesorios para Motos\"\n",
       "            ],\n",
       "            \"total_items_in_this_category\": [\n",
       "                22427\n",
       "            ]\n",
       "        },\n",
       "        {\n",
       "            \"id\": [\n",
       "                \"MLU1023\"\n",
       "            ],\n",
       "            \"name\": [\n",
       "                \"Audio para Autos\"\n",
       "            ],\n",
       "            \"total_items_in_this_category\": [\n",
       "                11690\n",
       "            ]\n",
       "        },\n",
       "        {\n",
       "            \"id\": [\n",
       "                \"MLU208681\"\n",
       "            ],\n",
       "            \"name\": [\n",
       "                \"Llantas\"\n",
       "            ],\n",
       "            \"total_items_in_this_category\": [\n",
       "                4936\n",
       "            ]\n",
       "        },\n",
       "        {\n",
       "            \"id\": [\n",
       "                \"MLU208675\"\n",
       "            ],\n",
       "            \"name\": [\n",
       "                \"Neumáticos\"\n",
       "            ],\n",
       "            \"total_items_in_this_category\": [\n",
       "                15598\n",
       "            ]\n",
       "        },\n",
       "        {\n",
       "            \"id\": [\n",
       "                \"MLU1748\"\n",
       "            ],\n",
       "            \"name\": [\n",
       "                \"Repuestos Autos y Camionetas\"\n",
       "            ],\n",
       "            \"total_items_in_this_category\": [\n",
       "                265349\n",
       "            ]\n",
       "        },\n",
       "        {\n",
       "            \"id\": [\n",
       "                \"MLU1771\"\n",
       "            ],\n",
       "            \"name\": [\n",
       "                \"Repuestos para Motos\"\n",
       "            ],\n",
       "            \"total_items_in_this_category\": [\n",
       "                29917\n",
       "            ]\n",
       "        },\n",
       "        {\n",
       "            \"id\": [\n",
       "                \"MLU206455\"\n",
       "            ],\n",
       "            \"name\": [\n",
       "                \"Service Programado\"\n",
       "            ],\n",
       "            \"total_items_in_this_category\": [\n",
       "                2358\n",
       "            ]\n",
       "        },\n",
       "        {\n",
       "            \"id\": [\n",
       "                \"MLU5679\"\n",
       "            ],\n",
       "            \"name\": [\n",
       "                \"Tuning\"\n",
       "            ],\n",
       "            \"total_items_in_this_category\": [\n",
       "                21112\n",
       "            ]\n",
       "        },\n",
       "        {\n",
       "            \"id\": [\n",
       "                \"MLU6177\"\n",
       "            ],\n",
       "            \"name\": [\n",
       "                \"Otros\"\n",
       "            ],\n",
       "            \"total_items_in_this_category\": [\n",
       "                6436\n",
       "            ]\n",
       "        }\n",
       "    ],\n",
       "    \"attribute_types\": [\n",
       "        \"none\"\n",
       "    ],\n",
       "    \"settings\": {\n",
       "        \"adult_content\": [\n",
       "            false\n",
       "        ],\n",
       "        \"buying_allowed\": [\n",
       "            true\n",
       "        ],\n",
       "        \"buying_modes\": [\n",
       "            [\n",
       "                \"buy_it_now\"\n",
       "            ],\n",
       "            [\n",
       "                \"auction\"\n",
       "            ]\n",
       "        ],\n",
       "        \"catalog_domain\": {\n",
       "\n",
       "        },\n",
       "        \"coverage_areas\": [\n",
       "            \"not_allowed\"\n",
       "        ],\n",
       "        \"currencies\": [\n",
       "            [\n",
       "                \"UYU\"\n",
       "            ],\n",
       "            [\n",
       "                \"USD\"\n",
       "            ]\n",
       "        ],\n",
       "        \"fragile\": [\n",
       "            false\n",
       "        ],\n",
       "        \"immediate_payment\": [\n",
       "            \"optional\"\n",
       "        ],\n",
       "        \"item_conditions\": [\n",
       "            [\n",
       "                \"used\"\n",
       "            ],\n",
       "            [\n",
       "                \"not_specified\"\n",
       "            ],\n",
       "            [\n",
       "                \"new\"\n",
       "            ]\n",
       "        ],\n",
       "        \"items_reviews_allowed\": [\n",
       "            false\n",
       "        ],\n",
       "        \"listing_allowed\": [\n",
       "            false\n",
       "        ],\n",
       "        \"max_description_length\": [\n",
       "            50000\n",
       "        ],\n",
       "        \"max_pictures_per_item\": [\n",
       "            12\n",
       "        ],\n",
       "        \"max_pictures_per_item_var\": [\n",
       "            10\n",
       "        ],\n",
       "        \"max_sub_title_length\": [\n",
       "            70\n",
       "        ],\n",
       "        \"max_title_length\": [\n",
       "            60\n",
       "        ],\n",
       "        \"maximum_price\": {\n",
       "\n",
       "        },\n",
       "        \"minimum_price\": {\n",
       "\n",
       "        },\n",
       "        \"mirror_category\": {\n",
       "\n",
       "        },\n",
       "        \"mirror_master_category\": {\n",
       "\n",
       "        },\n",
       "        \"mirror_slave_categories\": [\n",
       "\n",
       "        ],\n",
       "        \"price\": [\n",
       "            \"required\"\n",
       "        ],\n",
       "        \"reservation_allowed\": [\n",
       "            \"not_allowed\"\n",
       "        ],\n",
       "        \"restrictions\": [\n",
       "\n",
       "        ],\n",
       "        \"rounded_address\": [\n",
       "            false\n",
       "        ],\n",
       "        \"seller_contact\": [\n",
       "            \"not_allowed\"\n",
       "        ],\n",
       "        \"shipping_modes\": [\n",
       "            [\n",
       "                \"not_specified\"\n",
       "            ],\n",
       "            [\n",
       "                \"custom\"\n",
       "            ]\n",
       "        ],\n",
       "        \"shipping_options\": [\n",
       "            [\n",
       "                \"carrier\"\n",
       "            ],\n",
       "            [\n",
       "                \"custom\"\n",
       "            ]\n",
       "        ],\n",
       "        \"shipping_profile\": [\n",
       "            \"optional\"\n",
       "        ],\n",
       "        \"show_contact_information\": [\n",
       "            false\n",
       "        ],\n",
       "        \"simple_shipping\": [\n",
       "            \"optional\"\n",
       "        ],\n",
       "        \"stock\": [\n",
       "            \"required\"\n",
       "        ],\n",
       "        \"sub_vertical\": {\n",
       "\n",
       "        },\n",
       "        \"subscribable\": [\n",
       "            false\n",
       "        ],\n",
       "        \"tags\": [\n",
       "\n",
       "        ],\n",
       "        \"vertical\": {\n",
       "\n",
       "        },\n",
       "        \"vip_subdomain\": [\n",
       "            \"articulo\"\n",
       "        ]\n",
       "    },\n",
       "    \"meta_categ_id\": {\n",
       "\n",
       "    },\n",
       "    \"attributable\": [\n",
       "        false\n",
       "    ]\n",
       "}\n",
       " "
      ]
     },
     "metadata": {},
     "output_type": "display_data"
    }
   ],
   "source": [
    "# Obtengo identificador de la primera categoria en el resultado\n",
    "category_id <- df[1,]$id\n",
    "\n",
    "# Dirección de servicio para recuperar info de una categoria en API REST\n",
    "path <- paste(\"https://api.mercadolibre.com/categories\", \"/\", category_id, sep=\"\")\n",
    "\n",
    "# Invoco al servicio, obtengo la respuesta y la covierto a JSON\n",
    "request <- GET(url = path)\n",
    "response <- content(request, as = \"parsed\", encoding = \"UTF-8\")\n",
    "response_json <- toJSON(response, flatten = FALSE)\n",
    "\n",
    "# Imprimo con formato\n",
    "prettify(response_json)"
   ]
  },
  {
   "cell_type": "markdown",
   "metadata": {},
   "source": [
    "<a id='Fuentes-Datos-Abiertas'></a>\n",
    "## Fuentes de datos abiertas\n",
    "[Inicio ▲](#Indice)\n",
    "\n",
    "Son uno de los insumos más ricos e importantes en ciencia de datos, y de las cuales podemos extraer muchisimo valor para agregar a nuestros análisis y aplicaciones. Desde un dataset de nombres de paises unificado, el mapa completo de paradas STM de Montevideo, hasta todas las colisiones de asteroides en la Tierra. Existen cientos de iniciativas que ponen a disposición datos y conocerlas es un paso importante en la carrera de todo científico de datos.\n",
    "\n",
    "A continaución vamos a ver algunos ejemplos:\n",
    "\n",
    "- **Datos abiertos estatales**: Son varios los paises que ponen a disposiciíon de la comunidad conjuntos de datos abiertos para su explotación y Uruguay no es la excepción!\n",
    "  - Catalogo datos abiertos Uruguay 🇺🇾 &rarr; https://catalogodatos.gub.uy/\n",
    "  - Datos abiertos Argentina 🇦🇷 &rarr; https://datos.gob.ar/\n",
    "  - Datos abiertos USA 🇺🇸 &rarr; https://www.data.gov/\n",
    "- **Kaggle**: Comunidad de data scientist dónde podrás encontrar data sets, corpus armados para algorítmos de AI, entre otros &rarr; https://www.kaggle.com/\n",
    "- **UCI**: Repositorio de data sets para Machine Learning &rarr; https://archive.ics.uci.edu/ml/index.php\n",
    "- **DBpedia**: Información de Wikipedia estructurada de forma semántica &rarr; https://wiki.dbpedia.org/\n",
    "- **Yelp**: Daots abiertos de la aplicación Yelp, Reviews de usuarios, Fotos, etc. &rarr; https://www.yelp.com/dataset\n",
    "- **Unicef**: Datos abiertos Unicef &rarr; https://data.unicef.org/resources/resource-type/datasets/\n",
    "- **NASA**: Catalogo de datos abiertos de la NASA &rarr; https://data.nasa.gov/\n",
    "\n",
    "**Yapa**\n",
    "\n",
    "[Google DataSets Search](https://toolbox.google.com/datasetsearch): Herramienta de Google, que busca datasets en la Web. En particular, indexa resultados de otras plataformas, como Kaggle, Datos Abiertos Estatales, etc.\n",
    "\n",
    "<img src=\"https://github.com/efviodo/data-science/raw/master/courses/utec/figures/google_datasearch.png\" width=\"700\"/>\n"
   ]
  },
  {
   "cell_type": "markdown",
   "metadata": {},
   "source": [
    "<a id='Desafios'></a>\n",
    "## Desafíos\n",
    "[Inicio ▲](#Indice)\n",
    "\n",
    "Existen ciertos desafíos que siempre estan presentes en la etapa de adquisición de datos, los principales son:\n",
    "\n",
    "- **Acceso a los datos**: Aveces los requerimientos estan pero el cliente demora en darnos acceso a sus datos.\n",
    "- **Formato de los datos**: Los datos están en un formato que no comprendemos o no entendemos.\n",
    "- **Problemas de encoding, escapeo de caracteres**: Que pasa si el encoding de un CSV no es UTF-8, si tiene columnas sin escapeo y algunos valores contienen el caracter separador. Aveces gastamos una cantidad considerable de tiempo pre-procesando los datos para poder ingerirlos y empezar la etapa de comprensión y análisis."
   ]
  },
  {
   "cell_type": "markdown",
   "metadata": {},
   "source": [
    "## ¿Qué pasa si necesitamos generar datos?\n",
    "\n",
    "Aveces la fuente de datos del cliente, NO contiene todos los datos que necesitamos y tampoco encontramos un dataset abierto que tenga la información que necesitamos. En estos casos debemos generar nosotros mismos el dataset.\n",
    "\n",
    "**Ejemplo**\n",
    "Queremos armar un dataset con las asistencias de estudiantes en distintos centros de educación terciaria del páis, para luego analizar si hay alguna correlación entre las inasistencias y por ejemplo alguna otra variable como la ubicación del centro de estudios (Montevideo/Interior), la cercanía del estudiante al centro, la fecha del año, el clima, etc. \n",
    "\n",
    "En este caso, debemos preguntarnos:\n",
    "\n",
    "- ¿Que formato vamos a utilizar? ¿Arhivos CSV, TXT, una BD?\n",
    "- ¿Qué datos queremos incluír? Y para cada uno\n",
    "    - Qué tipo de datos vamos a utilizar para representar cada atributo, si vamos a usar codigeras...\n",
    "- ¿Cómo vamos a recuperar los datos?\n",
    "- ¿Cómo me aceguro que este dataset sea re-utilizable?"
   ]
  },
  {
   "cell_type": "markdown",
   "metadata": {},
   "source": [
    "<a id='Bibliografia'></a>\n",
    "## Bibliografía\n",
    "[Inicio ▲](#Indice)\n",
    "\n",
    "<ol>\n",
    "    <li>Comparación entre Pandas Data Frame y R Data Frames <br />\n",
    "        <a href=\"https://pandas.pydata.org/pandas-docs/stable/getting_started/comparison/comparison_with_r.html\">https://pandas.pydata.org/pandas-docs/stable/getting_started/comparison/comparison_with_r.html</a>\n",
    "    </li>\n",
    "    <li>\n",
    "        Referencia R dpylr tidyverse\n",
    "        <br /><a href=\"https://dplyr.tidyverse.org/index.html\">https://dplyr.tidyverse.org/index.html</a>\n",
    "    </li>\n",
    "</ol>"
   ]
  },
  {
   "cell_type": "code",
   "execution_count": 12,
   "metadata": {},
   "outputs": [],
   "source": []
  }
 ],
 "metadata": {
  "kernelspec": {
   "display_name": "R",
   "language": "R",
   "name": "ir"
  },
  "language_info": {
   "codemirror_mode": "r",
   "file_extension": ".r",
   "mimetype": "text/x-r-source",
   "name": "R",
   "pygments_lexer": "r",
   "version": "3.5.1"
  }
 },
 "nbformat": 4,
 "nbformat_minor": 2
}
