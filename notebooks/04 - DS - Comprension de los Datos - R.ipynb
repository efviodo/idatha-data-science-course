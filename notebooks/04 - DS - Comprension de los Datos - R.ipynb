{
 "cells": [
  {
   "cell_type": "markdown",
   "metadata": {},
   "source": [
    "[![Open In Colab](https://colab.research.google.com/assets/colab-badge.svg)](https://colab.research.google.com/github/efviodo/idatha-data-science-course/blob/master/notebooks/04%20-%20DS%20-%20Comprension%20de%20los%20Datos%20-%20R.ipynb)"
   ]
  },
  {
   "cell_type": "markdown",
   "metadata": {},
   "source": [
    "<img src=\"https://github.com/efviodo/idatha-data-science-course/raw/master/notebooks/figures/idatha-logo.jpeg\" width=\"100px\" height=\"100px\" style=\"float:left\"/>"
   ]
  },
  {
   "cell_type": "markdown",
   "metadata": {},
   "source": [
    "# Comprensión de los Datos"
   ]
  },
  {
   "cell_type": "markdown",
   "metadata": {},
   "source": [
    "## Objetivos\n",
    "\n",
    "- Presentar una guía para familiarizarse con los datos\n",
    "- Explicar que es el análisis de la calidad en ciencia de datos\n",
    "- Comprender la importancia de la calidad en ciencia de datos\n",
    "- Presentar algunas herramientas para hacer un perfil de datos"
   ]
  },
  {
   "cell_type": "markdown",
   "metadata": {},
   "source": [
    "<a id='Indice'></a>\n",
    "## Índice\n",
    "[Inicio ▲](#Indice)\n",
    "\n",
    "1. [Dependencias](#Dependencias)\n",
    "1. [Comprensión de los Datos](#Comprension-Datos)\n",
    "    1. [Objetivos](#Comprension-Objetivos)\n",
    "    1. [Recopilación de los Datos](#Recopilacion-Datos)\n",
    "    1. [Exploracion de los datos](#Exploracion-Datos)\n",
    "        1. [Ejemplo Censo de Arbolado](#Ejemplo-Censo-Arbolado)\n",
    "    1. [Verificación de la Calidad](#Verificacion-Calidad)\n",
    "1. [Data Profiling](#Data-Profiling)\n",
    "1. [Calidad de Datos (OPCIONAL)](#Calidad-Datos)\n",
    "    1. [Definición](#Definicion)\n",
    "1. [Bibliografia](#Bibliografia)"
   ]
  },
  {
   "cell_type": "markdown",
   "metadata": {},
   "source": [
    "## Dependencias"
   ]
  },
  {
   "cell_type": "code",
   "execution_count": 1,
   "metadata": {},
   "outputs": [
    {
     "name": "stderr",
     "output_type": "stream",
     "text": [
      "Updating HTML index of packages in '.Library'\n",
      "Making 'packages.html' ... done\n",
      "Updating HTML index of packages in '.Library'\n",
      "Making 'packages.html' ... done\n"
     ]
    }
   ],
   "source": [
    "install.packages(\"downloader\")\n",
    "install.packages(\"dplyr\")"
   ]
  },
  {
   "cell_type": "code",
   "execution_count": 2,
   "metadata": {
    "scrolled": true
   },
   "outputs": [
    {
     "name": "stderr",
     "output_type": "stream",
     "text": [
      "\n",
      "Attaching package: ‘dplyr’\n",
      "\n",
      "The following objects are masked from ‘package:stats’:\n",
      "\n",
      "    filter, lag\n",
      "\n",
      "The following objects are masked from ‘package:base’:\n",
      "\n",
      "    intersect, setdiff, setequal, union\n",
      "\n"
     ]
    }
   ],
   "source": [
    "library(downloader)  # para descargar archivos\n",
    "library(dplyr)  # Para manejo de data frames"
   ]
  },
  {
   "cell_type": "markdown",
   "metadata": {},
   "source": [
    "<a id='Comprension-Datos'></a>\n",
    "## Comprensión de los Datos\n",
    "[Inicio ▲](#Indice)"
   ]
  },
  {
   "cell_type": "markdown",
   "metadata": {},
   "source": [
    "<a id='Comprension-Objetivos'></a>\n",
    "### Objetivos\n",
    "Trabajar con los datos del cliente lo más cerca posible, comprendiéndolos, formulando y validando hipótesis (sobre los datos y sobre que podemos hacer con ellos), validando requerimientos de negocio y ajustando expectativas del cliente.\n",
    "\n",
    "**Etapas**\n",
    "- Recopilar datos disponibles.\n",
    "- Explorar y describir los datos con tablas y gráficos.\n",
    "- Verificar calidad de los datos."
   ]
  },
  {
   "cell_type": "markdown",
   "metadata": {},
   "source": [
    "<a id='Recopilacion-Datos'></a>\n",
    "### Recopilacion de los Datos\n",
    "Recolección inicial de datos, disponibilizando los datos al equipo de analístas y científicos de datos, para comenzar a trabajar. Vimos técnicas para la recopilación de datos en el módulo anterior, cuando estudiamos la etapa de ingesta de datos y estudiamos ejemplos para la adquisición de datos a través de web services, lectura de archivos CSV, XML, etc.\n",
    "\n",
    "**Lineamientos generales**\n",
    "- Obtener datos para su exploración y análisis.\n",
    "- Contar con acceso a los mismos (credenciales base de datos, APIs, etc), o tener una copia local.\n",
    "- Contar con meta-data o documentación sobre los datos.\n",
    "\n",
    "**Checklist**:\n",
    "- Atributos relevantes o “prometedores”.\n",
    "- Atributos no relevantes.\n",
    "- Data matching y data fusion.\n",
    "- Valores faltantes.\n"
   ]
  },
  {
   "cell_type": "markdown",
   "metadata": {},
   "source": [
    "<a id='Exploracion-Datos'></a>\n",
    "### Exploración de los datos\n",
    "Una vez que tenemos acceso a los datos, comenzamos a familiarizarnos con los mismos, analizando propiedades generales del cojunto de datos como el volúmen y la estructura general: \n",
    "\n",
    "- **¿Cuántos datos tenemos?** Por ejemplo cuantos datasets, cuantos registros en cada uno.\n",
    "- **¿Qué atributos hay?** Por ejemplo, cuantas columnas tiene un archivo CSV\n",
    "- **¿Cuál es la semántica de cada atributo?** Revisamos metadatos o documentación para entender la semántica (también podemos consultar/validar con el cliente).\n",
    "- **¿Cual es el tipo de datos de cada atributo y que codificación se utiliza?** Estudiamos el tipo de cada atributo, si es ```String```, ```int```, ```float```, etc. En algunas fuentes podemos inferir el tipo de la propia fuente (ej: DB relacional) y en otros debemos recurrir a documentación o analizando los valores de los propios datos (ej: archivos de texto plano). \n",
    "\n",
    "En esta etapa nos apoyamos en las herramientas que tenemos. Por ejemplo, explorar los datos mediantes tablas, tomando una muestra pequeña (10, 20, 50) de los primeros registros o de forma aleatoria. Investigar para los atributos más prometedores los valores promedios, mínimos máximos, ver gráficos con la distribución de cada variable, gráficos de correlación, etc.\n",
    "\n",
    "Otro recurso muy útil es hacer gráficos con visualizaciones que nos permitan comprender mejor la naturaleza de los datos. Por último tabién es bueno hacer consultas sobre los datos que nos permitan contestar supuestos como determinar cual es el atributo que identifica a un dato (estudio de unicidad), o analizar la consistencia.\n",
    "\n",
    "**Librerías útiles**\n",
    "\n",
    "Cada lenguaje tiene herramientas que nos facilitan esta tarea.\n",
    "\n",
    "- **R**\n",
    "    - [DataExplorer](https://cran.r-project.org/web/packages/DataExplorer/vignettes/dataexplorer-intro.html) Muy últil para esta etapa y para hacer un perfil de los datos.\n",
    "    - [Hmisc](https://cran.r-project.org/web/packages/Hmisc/index.html), [pastecs](https://cran.r-project.org/web/packages/pastecs/index.html), [psych](https://cran.r-project.org/web/packages/psych/index.html).\n",
    "    - Funciones de R  como ```colnames```, ```head```, ```summary```"
   ]
  },
  {
   "cell_type": "markdown",
   "metadata": {},
   "source": [
    "<a id='Ejemplo-Censo-Arbolado'></a>\n",
    "#### Ejemplo: Censo de Arbolado\n",
    "Vamos a descargar y analizar datos del censo de arboladoo público de la ciudad de Montevideo. Estos datos se encuentran públicos en el catálogo de datos abiertos del estado, y nos ayudarán a entender como acercanos a un dataset.\n",
    "\n",
    "https://catalogodatos.gub.uy/dataset/censo-de-arbolado-2008\n",
    "\n",
    "**1. Descarga de los datos**"
   ]
  },
  {
   "cell_type": "code",
   "execution_count": 3,
   "metadata": {},
   "outputs": [],
   "source": [
    "# URL del dataset\n",
    "url <- \"https://raw.githubusercontent.com/efviodo/idatha-data-science-course/master/notebooks/datasets/censo-arbolado-mvdo/archivo_comunal1.csv\"\n",
    "\n",
    "# Descargo el dataset a un archivo temporal y lo abro en un dataframe\n",
    "datasetFilename <- \"datos.csv\"\n",
    "if (!file.exists(datasetFilename)) download(url, datasetFilename)\n",
    "\n",
    "# dataset <- read.csv(datasetFilename)\n",
    "\n",
    "delim = \",\" \n",
    "dec = \".\"\n",
    "quote = \"\\\"\"\n",
    "dataset <- read.csv(datasetFilename, header=TRUE, sep=delim, quote=quote, dec=dec) %>% data.frame()\n"
   ]
  },
  {
   "cell_type": "markdown",
   "metadata": {},
   "source": [
    "**2. Familiarizandonos con los datos**"
   ]
  },
  {
   "cell_type": "markdown",
   "metadata": {},
   "source": [
    "¿Que columnas tenemos en el CSV que cargamos?"
   ]
  },
  {
   "cell_type": "code",
   "execution_count": 4,
   "metadata": {},
   "outputs": [
    {
     "data": {
      "text/html": [
       "<ol class=list-inline>\n",
       "\t<li>'Arbol'</li>\n",
       "\t<li>'Cod_calle'</li>\n",
       "\t<li>'Calle'</li>\n",
       "\t<li>'Cod_Entre'</li>\n",
       "\t<li>'Entre'</li>\n",
       "\t<li>'Cod_Y'</li>\n",
       "\t<li>'Y'</li>\n",
       "\t<li>'Numero'</li>\n",
       "\t<li>'Ajuste'</li>\n",
       "\t<li>'Acera'</li>\n",
       "\t<li>'Alineacion'</li>\n",
       "\t<li>'Ordinal'</li>\n",
       "\t<li>'Ancho.Vereda'</li>\n",
       "\t<li>'Distancia'</li>\n",
       "\t<li>'CAP'</li>\n",
       "\t<li>'Altura'</li>\n",
       "\t<li>'Diametro.Copa'</li>\n",
       "\t<li>'EV'</li>\n",
       "\t<li>'Int.Aerea'</li>\n",
       "\t<li>'Int.Sub'</li>\n",
       "\t<li>'Genero'</li>\n",
       "\t<li>'Especie'</li>\n",
       "\t<li>'Nombre.científico'</li>\n",
       "</ol>\n"
      ],
      "text/latex": [
       "\\begin{enumerate*}\n",
       "\\item 'Arbol'\n",
       "\\item 'Cod\\_calle'\n",
       "\\item 'Calle'\n",
       "\\item 'Cod\\_Entre'\n",
       "\\item 'Entre'\n",
       "\\item 'Cod\\_Y'\n",
       "\\item 'Y'\n",
       "\\item 'Numero'\n",
       "\\item 'Ajuste'\n",
       "\\item 'Acera'\n",
       "\\item 'Alineacion'\n",
       "\\item 'Ordinal'\n",
       "\\item 'Ancho.Vereda'\n",
       "\\item 'Distancia'\n",
       "\\item 'CAP'\n",
       "\\item 'Altura'\n",
       "\\item 'Diametro.Copa'\n",
       "\\item 'EV'\n",
       "\\item 'Int.Aerea'\n",
       "\\item 'Int.Sub'\n",
       "\\item 'Genero'\n",
       "\\item 'Especie'\n",
       "\\item 'Nombre.científico'\n",
       "\\end{enumerate*}\n"
      ],
      "text/markdown": [
       "1. 'Arbol'\n",
       "2. 'Cod_calle'\n",
       "3. 'Calle'\n",
       "4. 'Cod_Entre'\n",
       "5. 'Entre'\n",
       "6. 'Cod_Y'\n",
       "7. 'Y'\n",
       "8. 'Numero'\n",
       "9. 'Ajuste'\n",
       "10. 'Acera'\n",
       "11. 'Alineacion'\n",
       "12. 'Ordinal'\n",
       "13. 'Ancho.Vereda'\n",
       "14. 'Distancia'\n",
       "15. 'CAP'\n",
       "16. 'Altura'\n",
       "17. 'Diametro.Copa'\n",
       "18. 'EV'\n",
       "19. 'Int.Aerea'\n",
       "20. 'Int.Sub'\n",
       "21. 'Genero'\n",
       "22. 'Especie'\n",
       "23. 'Nombre.científico'\n",
       "\n",
       "\n"
      ],
      "text/plain": [
       " [1] \"Arbol\"             \"Cod_calle\"         \"Calle\"            \n",
       " [4] \"Cod_Entre\"         \"Entre\"             \"Cod_Y\"            \n",
       " [7] \"Y\"                 \"Numero\"            \"Ajuste\"           \n",
       "[10] \"Acera\"             \"Alineacion\"        \"Ordinal\"          \n",
       "[13] \"Ancho.Vereda\"      \"Distancia\"         \"CAP\"              \n",
       "[16] \"Altura\"            \"Diametro.Copa\"     \"EV\"               \n",
       "[19] \"Int.Aerea\"         \"Int.Sub\"           \"Genero\"           \n",
       "[22] \"Especie\"           \"Nombre.científico\""
      ]
     },
     "metadata": {},
     "output_type": "display_data"
    }
   ],
   "source": [
    "colnames(dataset)"
   ]
  },
  {
   "cell_type": "markdown",
   "metadata": {},
   "source": [
    "Quiero ver algunas filas de datos para ver algunos ejemplos..."
   ]
  },
  {
   "cell_type": "code",
   "execution_count": 5,
   "metadata": {
    "scrolled": true
   },
   "outputs": [
    {
     "data": {
      "text/html": [
       "<table>\n",
       "<caption>A df[,23]: 10 × 23</caption>\n",
       "<thead>\n",
       "\t<tr><th scope=col>Arbol</th><th scope=col>Cod_calle</th><th scope=col>Calle</th><th scope=col>Cod_Entre</th><th scope=col>Entre</th><th scope=col>Cod_Y</th><th scope=col>Y</th><th scope=col>Numero</th><th scope=col>Ajuste</th><th scope=col>Acera</th><th scope=col>⋯</th><th scope=col>Distancia</th><th scope=col>CAP</th><th scope=col>Altura</th><th scope=col>Diametro.Copa</th><th scope=col>EV</th><th scope=col>Int.Aerea</th><th scope=col>Int.Sub</th><th scope=col>Genero</th><th scope=col>Especie</th><th scope=col>Nombre.científico</th></tr>\n",
       "\t<tr><th scope=col>&lt;fct&gt;</th><th scope=col>&lt;fct&gt;</th><th scope=col>&lt;fct&gt;</th><th scope=col>&lt;fct&gt;</th><th scope=col>&lt;fct&gt;</th><th scope=col>&lt;fct&gt;</th><th scope=col>&lt;fct&gt;</th><th scope=col>&lt;fct&gt;</th><th scope=col>&lt;fct&gt;</th><th scope=col>&lt;fct&gt;</th><th scope=col>⋯</th><th scope=col>&lt;fct&gt;</th><th scope=col>&lt;fct&gt;</th><th scope=col>&lt;fct&gt;</th><th scope=col>&lt;fct&gt;</th><th scope=col>&lt;fct&gt;</th><th scope=col>&lt;fct&gt;</th><th scope=col>&lt;fct&gt;</th><th scope=col>&lt;fct&gt;</th><th scope=col>&lt;fct&gt;</th><th scope=col>&lt;fct&gt;</th></tr>\n",
       "</thead>\n",
       "<tbody>\n",
       "\t<tr><td>1833</td><td>7572</td><td>18 DE JULIO AVENIDA</td><td>4800</td><td>HERRERA Y OBES JULIO</td><td>6012</td><td>RIO NEGRO </td><td>   </td><td>S/N</td><td>P</td><td>⋯</td><td>0</td><td>14 </td><td>2</td><td>        </td><td>2</td><td>N</td><td>N</td><td>28</td><td>1</td><td>Enterolobium contortisiliquum</td></tr>\n",
       "\t<tr><td>1834</td><td>7572</td><td>18 DE JULIO AVENIDA</td><td>4800</td><td>HERRERA Y OBES JULIO</td><td>6012</td><td>RIO NEGRO </td><td>   </td><td>S/N</td><td>P</td><td>⋯</td><td>0</td><td>14 </td><td>2</td><td>        </td><td>2</td><td>N</td><td>N</td><td>28</td><td>1</td><td>Enterolobium contortisiliquum</td></tr>\n",
       "\t<tr><td>1835</td><td>7572</td><td>18 DE JULIO AVENIDA</td><td>4800</td><td>HERRERA Y OBES JULIO</td><td>6012</td><td>RIO NEGRO </td><td>   </td><td>S/N</td><td>P</td><td>⋯</td><td>0</td><td>15 </td><td>2</td><td>        </td><td>2</td><td>N</td><td>N</td><td>28</td><td>1</td><td>Enterolobium contortisiliquum</td></tr>\n",
       "\t<tr><td>4780</td><td>7572</td><td>18 DE JULIO AVENIDA</td><td>3492</td><td>PLAZA INDEPENDENCIA </td><td>354 </td><td>ANDES     </td><td>839</td><td>   </td><td>I</td><td>⋯</td><td>5</td><td>250</td><td>7</td><td>3       </td><td>2</td><td>N</td><td>N</td><td>63</td><td>2</td><td>Platanus occidentalis        </td></tr>\n",
       "\t<tr><td>4781</td><td>7572</td><td>18 DE JULIO AVENIDA</td><td>3492</td><td>PLAZA INDEPENDENCIA </td><td>354 </td><td>ANDES     </td><td>843</td><td>   </td><td>I</td><td>⋯</td><td>5</td><td>200</td><td>4</td><td>2       </td><td>2</td><td>N</td><td>N</td><td>63</td><td>2</td><td>Platanus occidentalis        </td></tr>\n",
       "\t<tr><td>4783</td><td>7572</td><td>18 DE JULIO AVENIDA</td><td>3492</td><td>PLAZA INDEPENDENCIA </td><td>354 </td><td>ANDES     </td><td>0  </td><td>s/n</td><td>P</td><td>⋯</td><td>5</td><td>22 </td><td>5</td><td>2       </td><td>2</td><td>N</td><td>N</td><td>63</td><td>2</td><td>Platanus occidentalis        </td></tr>\n",
       "\t<tr><td>4785</td><td>7572</td><td>18 DE JULIO AVENIDA</td><td>354 </td><td>ANDES               </td><td>3852</td><td>CONVENCION</td><td>857</td><td>   </td><td>I</td><td>⋯</td><td>5</td><td>18 </td><td>5</td><td>3       </td><td>2</td><td>N</td><td>N</td><td>63</td><td>2</td><td>Platanus occidentalis        </td></tr>\n",
       "\t<tr><td>4786</td><td>7572</td><td>18 DE JULIO AVENIDA</td><td>354 </td><td>ANDES               </td><td>3852</td><td>CONVENCION</td><td>857</td><td>   </td><td>I</td><td>⋯</td><td>5</td><td>25 </td><td>5</td><td>03/05/10</td><td>2</td><td>N</td><td>N</td><td>63</td><td>2</td><td>Platanus occidentalis        </td></tr>\n",
       "\t<tr><td>4788</td><td>7572</td><td>18 DE JULIO AVENIDA</td><td>354 </td><td>ANDES               </td><td>3852</td><td>CONVENCION</td><td>885</td><td>   </td><td>I</td><td>⋯</td><td>5</td><td>36 </td><td>6</td><td>3       </td><td>2</td><td>S</td><td>N</td><td>63</td><td>2</td><td>Platanus occidentalis        </td></tr>\n",
       "\t<tr><td>4789</td><td>7572</td><td>18 DE JULIO AVENIDA</td><td>354 </td><td>ANDES               </td><td>3852</td><td>CONVENCION</td><td>891</td><td>   </td><td>I</td><td>⋯</td><td>5</td><td>35 </td><td>6</td><td>3       </td><td>2</td><td>N</td><td>N</td><td>63</td><td>2</td><td>Platanus occidentalis        </td></tr>\n",
       "</tbody>\n",
       "</table>\n"
      ],
      "text/latex": [
       "A df[,23]: 10 × 23\n",
       "\\begin{tabular}{r|lllllllllllllllllllllll}\n",
       " Arbol & Cod\\_calle & Calle & Cod\\_Entre & Entre & Cod\\_Y & Y & Numero & Ajuste & Acera & Alineacion & Ordinal & Ancho.Vereda & Distancia & CAP & Altura & Diametro.Copa & EV & Int.Aerea & Int.Sub & Genero & Especie & Nombre.científico\\\\\n",
       " <fct> & <fct> & <fct> & <fct> & <fct> & <fct> & <fct> & <fct> & <fct> & <fct> & <fct> & <fct> & <fct> & <fct> & <fct> & <fct> & <fct> & <fct> & <fct> & <fct> & <fct> & <fct> & <fct>\\\\\n",
       "\\hline\n",
       "\t 1833 & 7572 & 18 DE JULIO AVENIDA & 4800 & HERRERA Y OBES JULIO & 6012 & RIO NEGRO  &     & S/N & P &   & 1 & 600      & 0 & 14  & 2 &          & 2 & N & N & 28 & 1 & Enterolobium contortisiliquum\\\\\n",
       "\t 1834 & 7572 & 18 DE JULIO AVENIDA & 4800 & HERRERA Y OBES JULIO & 6012 & RIO NEGRO  &     & S/N & P &   & 2 & 600      & 0 & 14  & 2 &          & 2 & N & N & 28 & 1 & Enterolobium contortisiliquum\\\\\n",
       "\t 1835 & 7572 & 18 DE JULIO AVENIDA & 4800 & HERRERA Y OBES JULIO & 6012 & RIO NEGRO  &     & S/N & P &   & 3 & 600      & 0 & 15  & 2 &          & 2 & N & N & 28 & 1 & Enterolobium contortisiliquum\\\\\n",
       "\t 4780 & 7572 & 18 DE JULIO AVENIDA & 3492 & PLAZA INDEPENDENCIA  & 354  & ANDES      & 839 &     & I & 1 & 1 & 560      & 5 & 250 & 7 & 3        & 2 & N & N & 63 & 2 & Platanus occidentalis        \\\\\n",
       "\t 4781 & 7572 & 18 DE JULIO AVENIDA & 3492 & PLAZA INDEPENDENCIA  & 354  & ANDES      & 843 &     & I & 1 & 1 & 560      & 5 & 200 & 4 & 2        & 2 & N & N & 63 & 2 & Platanus occidentalis        \\\\\n",
       "\t 4783 & 7572 & 18 DE JULIO AVENIDA & 3492 & PLAZA INDEPENDENCIA  & 354  & ANDES      & 0   & s/n & P & 1 & 1 & 700      & 5 & 22  & 5 & 2        & 2 & N & N & 63 & 2 & Platanus occidentalis        \\\\\n",
       "\t 4785 & 7572 & 18 DE JULIO AVENIDA & 354  & ANDES                & 3852 & CONVENCION & 857 &     & I & 1 & 2 & 05/05/10 & 5 & 18  & 5 & 3        & 2 & N & N & 63 & 2 & Platanus occidentalis        \\\\\n",
       "\t 4786 & 7572 & 18 DE JULIO AVENIDA & 354  & ANDES                & 3852 & CONVENCION & 857 &     & I & 1 & 1 & 05/05/10 & 5 & 25  & 5 & 03/05/10 & 2 & N & N & 63 & 2 & Platanus occidentalis        \\\\\n",
       "\t 4788 & 7572 & 18 DE JULIO AVENIDA & 354  & ANDES                & 3852 & CONVENCION & 885 &     & I & 1 & 1 & 05/05/10 & 5 & 36  & 6 & 3        & 2 & S & N & 63 & 2 & Platanus occidentalis        \\\\\n",
       "\t 4789 & 7572 & 18 DE JULIO AVENIDA & 354  & ANDES                & 3852 & CONVENCION & 891 &     & I & 1 & 1 & 05/05/10 & 5 & 35  & 6 & 3        & 2 & N & N & 63 & 2 & Platanus occidentalis        \\\\\n",
       "\\end{tabular}\n"
      ],
      "text/markdown": [
       "\n",
       "A df[,23]: 10 × 23\n",
       "\n",
       "| Arbol &lt;fct&gt; | Cod_calle &lt;fct&gt; | Calle &lt;fct&gt; | Cod_Entre &lt;fct&gt; | Entre &lt;fct&gt; | Cod_Y &lt;fct&gt; | Y &lt;fct&gt; | Numero &lt;fct&gt; | Ajuste &lt;fct&gt; | Acera &lt;fct&gt; | ⋯ ⋯ | Distancia &lt;fct&gt; | CAP &lt;fct&gt; | Altura &lt;fct&gt; | Diametro.Copa &lt;fct&gt; | EV &lt;fct&gt; | Int.Aerea &lt;fct&gt; | Int.Sub &lt;fct&gt; | Genero &lt;fct&gt; | Especie &lt;fct&gt; | Nombre.científico &lt;fct&gt; |\n",
       "|---|---|---|---|---|---|---|---|---|---|---|---|---|---|---|---|---|---|---|---|---|\n",
       "| 1833 | 7572 | 18 DE JULIO AVENIDA | 4800 | HERRERA Y OBES JULIO | 6012 | RIO NEGRO  | <!----> | S/N | P | ⋯ | 0 | 14  | 2 | <!----> | 2 | N | N | 28 | 1 | Enterolobium contortisiliquum |\n",
       "| 1834 | 7572 | 18 DE JULIO AVENIDA | 4800 | HERRERA Y OBES JULIO | 6012 | RIO NEGRO  | <!----> | S/N | P | ⋯ | 0 | 14  | 2 | <!----> | 2 | N | N | 28 | 1 | Enterolobium contortisiliquum |\n",
       "| 1835 | 7572 | 18 DE JULIO AVENIDA | 4800 | HERRERA Y OBES JULIO | 6012 | RIO NEGRO  | <!----> | S/N | P | ⋯ | 0 | 15  | 2 | <!----> | 2 | N | N | 28 | 1 | Enterolobium contortisiliquum |\n",
       "| 4780 | 7572 | 18 DE JULIO AVENIDA | 3492 | PLAZA INDEPENDENCIA  | 354  | ANDES      | 839 | <!----> | I | ⋯ | 5 | 250 | 7 | 3        | 2 | N | N | 63 | 2 | Platanus occidentalis         |\n",
       "| 4781 | 7572 | 18 DE JULIO AVENIDA | 3492 | PLAZA INDEPENDENCIA  | 354  | ANDES      | 843 | <!----> | I | ⋯ | 5 | 200 | 4 | 2        | 2 | N | N | 63 | 2 | Platanus occidentalis         |\n",
       "| 4783 | 7572 | 18 DE JULIO AVENIDA | 3492 | PLAZA INDEPENDENCIA  | 354  | ANDES      | 0   | s/n | P | ⋯ | 5 | 22  | 5 | 2        | 2 | N | N | 63 | 2 | Platanus occidentalis         |\n",
       "| 4785 | 7572 | 18 DE JULIO AVENIDA | 354  | ANDES                | 3852 | CONVENCION | 857 | <!----> | I | ⋯ | 5 | 18  | 5 | 3        | 2 | N | N | 63 | 2 | Platanus occidentalis         |\n",
       "| 4786 | 7572 | 18 DE JULIO AVENIDA | 354  | ANDES                | 3852 | CONVENCION | 857 | <!----> | I | ⋯ | 5 | 25  | 5 | 03/05/10 | 2 | N | N | 63 | 2 | Platanus occidentalis         |\n",
       "| 4788 | 7572 | 18 DE JULIO AVENIDA | 354  | ANDES                | 3852 | CONVENCION | 885 | <!----> | I | ⋯ | 5 | 36  | 6 | 3        | 2 | S | N | 63 | 2 | Platanus occidentalis         |\n",
       "| 4789 | 7572 | 18 DE JULIO AVENIDA | 354  | ANDES                | 3852 | CONVENCION | 891 | <!----> | I | ⋯ | 5 | 35  | 6 | 3        | 2 | N | N | 63 | 2 | Platanus occidentalis         |\n",
       "\n"
      ],
      "text/plain": [
       "   Arbol Cod_calle Calle               Cod_Entre Entre                Cod_Y\n",
       "1  1833  7572      18 DE JULIO AVENIDA 4800      HERRERA Y OBES JULIO 6012 \n",
       "2  1834  7572      18 DE JULIO AVENIDA 4800      HERRERA Y OBES JULIO 6012 \n",
       "3  1835  7572      18 DE JULIO AVENIDA 4800      HERRERA Y OBES JULIO 6012 \n",
       "4  4780  7572      18 DE JULIO AVENIDA 3492      PLAZA INDEPENDENCIA  354  \n",
       "5  4781  7572      18 DE JULIO AVENIDA 3492      PLAZA INDEPENDENCIA  354  \n",
       "6  4783  7572      18 DE JULIO AVENIDA 3492      PLAZA INDEPENDENCIA  354  \n",
       "7  4785  7572      18 DE JULIO AVENIDA 354       ANDES                3852 \n",
       "8  4786  7572      18 DE JULIO AVENIDA 354       ANDES                3852 \n",
       "9  4788  7572      18 DE JULIO AVENIDA 354       ANDES                3852 \n",
       "10 4789  7572      18 DE JULIO AVENIDA 354       ANDES                3852 \n",
       "   Y          Numero Ajuste Acera ⋯ Distancia CAP Altura Diametro.Copa EV\n",
       "1  RIO NEGRO         S/N    P     ⋯ 0         14  2                    2 \n",
       "2  RIO NEGRO         S/N    P     ⋯ 0         14  2                    2 \n",
       "3  RIO NEGRO         S/N    P     ⋯ 0         15  2                    2 \n",
       "4  ANDES      839           I     ⋯ 5         250 7      3             2 \n",
       "5  ANDES      843           I     ⋯ 5         200 4      2             2 \n",
       "6  ANDES      0      s/n    P     ⋯ 5         22  5      2             2 \n",
       "7  CONVENCION 857           I     ⋯ 5         18  5      3             2 \n",
       "8  CONVENCION 857           I     ⋯ 5         25  5      03/05/10      2 \n",
       "9  CONVENCION 885           I     ⋯ 5         36  6      3             2 \n",
       "10 CONVENCION 891           I     ⋯ 5         35  6      3             2 \n",
       "   Int.Aerea Int.Sub Genero Especie Nombre.científico            \n",
       "1  N         N       28     1       Enterolobium contortisiliquum\n",
       "2  N         N       28     1       Enterolobium contortisiliquum\n",
       "3  N         N       28     1       Enterolobium contortisiliquum\n",
       "4  N         N       63     2       Platanus occidentalis        \n",
       "5  N         N       63     2       Platanus occidentalis        \n",
       "6  N         N       63     2       Platanus occidentalis        \n",
       "7  N         N       63     2       Platanus occidentalis        \n",
       "8  N         N       63     2       Platanus occidentalis        \n",
       "9  S         N       63     2       Platanus occidentalis        \n",
       "10 N         N       63     2       Platanus occidentalis        "
      ]
     },
     "metadata": {},
     "output_type": "display_data"
    }
   ],
   "source": [
    "# Devuelve los primeros 5 registros en el dataframe\n",
    "head(dataset, 10)"
   ]
  },
  {
   "cell_type": "markdown",
   "metadata": {},
   "source": [
    "En términos generales, que valores toman cada columna del dataframe: mínimos, máximos, promedios, ¿Hay valores repetidos?"
   ]
  },
  {
   "cell_type": "code",
   "execution_count": 6,
   "metadata": {
    "scrolled": true
   },
   "outputs": [
    {
     "data": {
      "text/plain": [
       "     Arbol        Cod_calle                      Calle        Cod_Entre   \n",
       " 1      :   1   5115   : 277   PARAGUAY             : 277   5115   : 281  \n",
       " 100    :   1   6141   : 230   RONDEAU AVENIDA GRAL.: 230   2265   : 227  \n",
       " 1000   :   1   2265   : 227   CUAREIM              : 227   6141   : 221  \n",
       " 1001   :   1   2481   : 158   EJIDO                : 158   1545   : 173  \n",
       " 1003   :   1   3742   : 148   LANZA DR. AQUILES R. : 148   4140   : 161  \n",
       " 1004   :   1   4140   : 145   MALDONADO            : 145   6627   : 161  \n",
       " (Other):4904   (Other):3725   (Other)              :3725   (Other):3686  \n",
       "                   Entre          Cod_Y                          Y       \n",
       " PARAGUAY             : 281   2265   : 235   CUAREIM              : 235  \n",
       " CUAREIM              : 227   6141   : 217   RONDEAU AVENIDA GRAL.: 217  \n",
       " RONDEAU AVENIDA GRAL.: 221   6300   : 179   SAN JOSE             : 179  \n",
       " CANELONES            : 173   6627   : 173   SORIANO              : 173  \n",
       " MALDONADO            : 161   1545   : 161   CANELONES            : 161  \n",
       " SORIANO              : 161   5115   : 145   PARAGUAY             : 145  \n",
       " (Other)              :3686   (Other):3800   (Other)              :3800  \n",
       "     Numero         Ajuste       Acera           Alineacion      Ordinal    \n",
       " 0      : 875          :3651        :   1             : 248   1      :3031  \n",
       "        : 166   S/N    : 659   Acera:   1   1         :4650          : 701  \n",
       " 1131   :  20   s/n    : 265   I    :2481   2         :  11   2      : 557  \n",
       " 1117   :  16   s/n esq:  26   P    :2427   Alineacion:   1   3      : 224  \n",
       " 1130   :  16   bis    :  25                                  4      : 119  \n",
       " 1209   :  16   esq    :  22                                  5      :  81  \n",
       " (Other):3801   (Other): 262                                  (Other): 197  \n",
       "  Ancho.Vereda    Distancia         CAP           Altura     Diametro.Copa \n",
       " 300    :3133   2      :1584   150    :  80   18     : 453   12     : 462  \n",
       " 400    : 321   3      :1055   160    :  75   16     : 381   4      : 422  \n",
       "        : 277   250    :1014   180    :  73   6      : 335   10     : 377  \n",
       " 340    : 141   260    : 151   50     :  72   20     : 316   5      : 337  \n",
       " 200    :  99   280    : 148   190    :  71   17     : 308   14     : 326  \n",
       " 260    :  88   300    : 148   170    :  67   15     : 302   6      : 303  \n",
       " (Other): 851   (Other): 810   (Other):4472   (Other):2815   (Other):2683  \n",
       "       EV           Int.Aerea       Int.Sub         Genero        Especie    \n",
       " 2      :2590            :   1          :   1   63     :2919   1      :3555  \n",
       " 3      :1082   Int.Aerea:   1   Int.Sub:   1   35     :1102   3      :1071  \n",
       " 1      : 598   N        :2112   N      :2520   51     : 151   2      : 261  \n",
       " 4      : 546   S        :2796   S      :2388   34     : 126   4      :   9  \n",
       " 5      :  62                                   39     : 120   888    :   6  \n",
       " 7      :  18                                   58     : 117   88     :   4  \n",
       " (Other):  14                                   (Other): 375   (Other):   4  \n",
       "             Nombre.científico\n",
       " Platanus x acerifolia:2775   \n",
       " Fraxinus lanceolata  :1065   \n",
       " Melia azedarach      : 151   \n",
       " Platanus occidentalis: 144   \n",
       " Firmiana simplex     : 126   \n",
       " Jacaranda ovalifolia : 120   \n",
       " (Other)              : 529   "
      ]
     },
     "metadata": {},
     "output_type": "display_data"
    }
   ],
   "source": [
    "# mean,median,25th and 75th quartiles,min,max\n",
    "summary(dataset, digits=4)"
   ]
  },
  {
   "cell_type": "markdown",
   "metadata": {},
   "source": [
    "Nuestro dataset no es uy amigable para un análisis de distribución estadístico. Probemos con otro más amigable, que viene con la distribución de **R**.\n",
    "\n",
    ">This data gives peak accelerations measured at various observation stations for 23 earthquakes in California. The data have been used by various workers to estimate the attenuating affect of distance on ground acceleration.\n",
    "\n",
    "Referencia: [https://www.rdocumentation.org/packages/datasets/versions/3.6.1/topics/attenu](https://www.rdocumentation.org/packages/datasets/versions/3.6.1/topics/attenu)"
   ]
  },
  {
   "cell_type": "code",
   "execution_count": 7,
   "metadata": {
    "scrolled": true
   },
   "outputs": [
    {
     "data": {
      "text/html": [
       "<ol class=list-inline>\n",
       "\t<li>'event'</li>\n",
       "\t<li>'mag'</li>\n",
       "\t<li>'station'</li>\n",
       "\t<li>'dist'</li>\n",
       "\t<li>'accel'</li>\n",
       "</ol>\n"
      ],
      "text/latex": [
       "\\begin{enumerate*}\n",
       "\\item 'event'\n",
       "\\item 'mag'\n",
       "\\item 'station'\n",
       "\\item 'dist'\n",
       "\\item 'accel'\n",
       "\\end{enumerate*}\n"
      ],
      "text/markdown": [
       "1. 'event'\n",
       "2. 'mag'\n",
       "3. 'station'\n",
       "4. 'dist'\n",
       "5. 'accel'\n",
       "\n",
       "\n"
      ],
      "text/plain": [
       "[1] \"event\"   \"mag\"     \"station\" \"dist\"    \"accel\"  "
      ]
     },
     "metadata": {},
     "output_type": "display_data"
    }
   ],
   "source": [
    "colnames(attenu)"
   ]
  },
  {
   "cell_type": "code",
   "execution_count": 8,
   "metadata": {},
   "outputs": [
    {
     "data": {
      "text/html": [
       "<table>\n",
       "<caption>A df[,5]: 6 × 5</caption>\n",
       "<thead>\n",
       "\t<tr><th scope=col>event</th><th scope=col>mag</th><th scope=col>station</th><th scope=col>dist</th><th scope=col>accel</th></tr>\n",
       "\t<tr><th scope=col>&lt;dbl&gt;</th><th scope=col>&lt;dbl&gt;</th><th scope=col>&lt;fct&gt;</th><th scope=col>&lt;dbl&gt;</th><th scope=col>&lt;dbl&gt;</th></tr>\n",
       "</thead>\n",
       "<tbody>\n",
       "\t<tr><td>1</td><td>7.0</td><td>117 </td><td> 12</td><td>0.359</td></tr>\n",
       "\t<tr><td>2</td><td>7.4</td><td>1083</td><td>148</td><td>0.014</td></tr>\n",
       "\t<tr><td>2</td><td>7.4</td><td>1095</td><td> 42</td><td>0.196</td></tr>\n",
       "\t<tr><td>2</td><td>7.4</td><td>283 </td><td> 85</td><td>0.135</td></tr>\n",
       "\t<tr><td>2</td><td>7.4</td><td>135 </td><td>107</td><td>0.062</td></tr>\n",
       "\t<tr><td>2</td><td>7.4</td><td>475 </td><td>109</td><td>0.054</td></tr>\n",
       "</tbody>\n",
       "</table>\n"
      ],
      "text/latex": [
       "A df[,5]: 6 × 5\n",
       "\\begin{tabular}{r|lllll}\n",
       " event & mag & station & dist & accel\\\\\n",
       " <dbl> & <dbl> & <fct> & <dbl> & <dbl>\\\\\n",
       "\\hline\n",
       "\t 1 & 7.0 & 117  &  12 & 0.359\\\\\n",
       "\t 2 & 7.4 & 1083 & 148 & 0.014\\\\\n",
       "\t 2 & 7.4 & 1095 &  42 & 0.196\\\\\n",
       "\t 2 & 7.4 & 283  &  85 & 0.135\\\\\n",
       "\t 2 & 7.4 & 135  & 107 & 0.062\\\\\n",
       "\t 2 & 7.4 & 475  & 109 & 0.054\\\\\n",
       "\\end{tabular}\n"
      ],
      "text/markdown": [
       "\n",
       "A df[,5]: 6 × 5\n",
       "\n",
       "| event &lt;dbl&gt; | mag &lt;dbl&gt; | station &lt;fct&gt; | dist &lt;dbl&gt; | accel &lt;dbl&gt; |\n",
       "|---|---|---|---|---|\n",
       "| 1 | 7.0 | 117  |  12 | 0.359 |\n",
       "| 2 | 7.4 | 1083 | 148 | 0.014 |\n",
       "| 2 | 7.4 | 1095 |  42 | 0.196 |\n",
       "| 2 | 7.4 | 283  |  85 | 0.135 |\n",
       "| 2 | 7.4 | 135  | 107 | 0.062 |\n",
       "| 2 | 7.4 | 475  | 109 | 0.054 |\n",
       "\n"
      ],
      "text/plain": [
       "  event mag station dist accel\n",
       "1 1     7.0 117      12  0.359\n",
       "2 2     7.4 1083    148  0.014\n",
       "3 2     7.4 1095     42  0.196\n",
       "4 2     7.4 283      85  0.135\n",
       "5 2     7.4 135     107  0.062\n",
       "6 2     7.4 475     109  0.054"
      ]
     },
     "metadata": {},
     "output_type": "display_data"
    }
   ],
   "source": [
    "head(attenu)"
   ]
  },
  {
   "cell_type": "code",
   "execution_count": 9,
   "metadata": {},
   "outputs": [
    {
     "data": {
      "text/plain": [
       "     event            mag           station         dist       \n",
       " Min.   : 1.00   Min.   :5.000   117    :  5   Min.   :  0.50  \n",
       " 1st Qu.: 9.00   1st Qu.:5.300   1028   :  4   1st Qu.: 11.32  \n",
       " Median :18.00   Median :6.100   113    :  4   Median : 23.40  \n",
       " Mean   :14.74   Mean   :6.084   112    :  3   Mean   : 45.60  \n",
       " 3rd Qu.:20.00   3rd Qu.:6.600   135    :  3   3rd Qu.: 47.55  \n",
       " Max.   :23.00   Max.   :7.700   (Other):147   Max.   :370.00  \n",
       "                                 NA's   : 16                   \n",
       "     accel        \n",
       " Min.   :0.00300  \n",
       " 1st Qu.:0.04425  \n",
       " Median :0.11300  \n",
       " Mean   :0.15422  \n",
       " 3rd Qu.:0.21925  \n",
       " Max.   :0.81000  \n",
       "                  "
      ]
     },
     "metadata": {},
     "output_type": "display_data"
    }
   ],
   "source": [
    "summary(attenu, digits = 4)"
   ]
  },
  {
   "cell_type": "markdown",
   "metadata": {},
   "source": [
    "Usando el package [Hmisc](https://cran.r-project.org/web/packages/Hmisc/index.html), también podemos sacar algunas estadísticas."
   ]
  },
  {
   "cell_type": "code",
   "execution_count": 10,
   "metadata": {},
   "outputs": [
    {
     "name": "stderr",
     "output_type": "stream",
     "text": [
      "Updating HTML index of packages in '.Library'\n",
      "Making 'packages.html' ... done\n"
     ]
    }
   ],
   "source": [
    "install.packages('Hmisc')"
   ]
  },
  {
   "cell_type": "code",
   "execution_count": 11,
   "metadata": {
    "scrolled": true
   },
   "outputs": [
    {
     "name": "stderr",
     "output_type": "stream",
     "text": [
      "Loading required package: lattice\n",
      "Loading required package: survival\n",
      "Loading required package: Formula\n",
      "Loading required package: ggplot2\n",
      "\n",
      "Attaching package: ‘Hmisc’\n",
      "\n",
      "The following objects are masked from ‘package:dplyr’:\n",
      "\n",
      "    src, summarize\n",
      "\n",
      "The following objects are masked from ‘package:base’:\n",
      "\n",
      "    format.pval, units\n",
      "\n"
     ]
    },
    {
     "data": {
      "text/plain": [
       "dataset \n",
       "\n",
       " 23  Variables      4910  Observations\n",
       "--------------------------------------------------------------------------------\n",
       "Arbol \n",
       "       n  missing distinct \n",
       "    4910        0     4910 \n",
       "\n",
       "lowest : 1     100   1000  1001  1003 , highest: 997   998   999   Arbol fin  \n",
       "--------------------------------------------------------------------------------\n",
       "Cod_calle \n",
       "       n  missing distinct \n",
       "    4910        0       81 \n",
       "\n",
       "lowest :       126   1482  1545  1603 , highest: 7572  7617  7618  8316  Calle\n",
       "--------------------------------------------------------------------------------\n",
       "Calle \n",
       "       n  missing distinct \n",
       "    4910        0       80 \n",
       "\n",
       "lowest :                             18 DE JULIO AVENIDA         25 DE AGOSTO                25 DE AGOSTO DE 1825 RAMBLA ACUÑA DE FIGUEROA FRANCISCO\n",
       "highest: VENEZUELA                   WASHINGTON                  YACARE                      YAGUARON                    YI                         \n",
       "--------------------------------------------------------------------------------\n",
       "Cod_Entre \n",
       "       n  missing distinct \n",
       "    4910        0       97 \n",
       "\n",
       "lowest :         Entre 0      1161   1482  , highest: 7431   7461   7572   8323   948   \n",
       "--------------------------------------------------------------------------------\n",
       "Entre \n",
       "       n  missing distinct \n",
       "    4910        0       95 \n",
       "\n",
       "lowest :                             18 DE JULIO AVENIDA         ACUÑA DE FIGUEROA FRANCISCO ALZAIBAR                    ANDES                      \n",
       "highest: WASHINGTON                  YACARE                      YAGUARON                    YI                          ZABALA                     \n",
       "--------------------------------------------------------------------------------\n",
       "Cod_Y \n",
       "       n  missing distinct \n",
       "    4910        0       93 \n",
       "\n",
       "lowest :       Y   0    1122 126 , highest: 7461 7572 7618 7620 948 \n",
       "--------------------------------------------------------------------------------\n",
       "Y \n",
       "       n  missing distinct \n",
       "    4910        0       91 \n",
       "\n",
       "lowest :                             18 DE JULIO AVENIDA         25 DE AGOSTO DE 1825 RAMBLA 25 DE MAYO                  ACUÑA DE FIGUEROA FRANCISCO\n",
       "highest: VIANA CARLOS S.             VOLPE AVENIDA GUSTAVO A.    YAGUARON                    YI                          ZABALA                     \n",
       "--------------------------------------------------------------------------------\n",
       "Numero \n",
       "       n  missing distinct \n",
       "    4910        0     1190 \n",
       "\n",
       "lowest :          Numero 0       1000    1001   \n",
       "highest: 994     995     996     997     998    \n",
       "--------------------------------------------------------------------------------\n",
       "Ajuste \n",
       "       n  missing distinct \n",
       "    4910        0      192 \n",
       "\n",
       "lowest :         .       0       1006    1011   \n",
       "highest: s/n eq  s/n esq S/N esq s/nesq  S/Nesq \n",
       "--------------------------------------------------------------------------------\n",
       "Acera \n",
       "       n  missing distinct \n",
       "    4910        0        4 \n",
       "                                  \n",
       "Value            Acera     I     P\n",
       "Frequency      1     1  2481  2427\n",
       "Proportion 0.000 0.000 0.505 0.494\n",
       "--------------------------------------------------------------------------------\n",
       "Alineacion \n",
       "       n  missing distinct \n",
       "    4910        0        4 \n",
       "                                                      \n",
       "Value                          1          2 Alineacion\n",
       "Frequency         248       4650         11          1\n",
       "Proportion      0.051      0.947      0.002      0.000\n",
       "--------------------------------------------------------------------------------\n",
       "Ordinal \n",
       "       n  missing distinct \n",
       "    4910        0       29 \n",
       "\n",
       "lowest :         1       10      11      12     \n",
       "highest: 9       BIS     ESQ     ESQ.    Ordinal\n",
       "--------------------------------------------------------------------------------\n",
       "Ancho.Vereda \n",
       "       n  missing distinct \n",
       "    4910        0       51 \n",
       "\n",
       "lowest :              05/05/10     1000         1140         1160        \n",
       "highest: 800          850          900          950          Ancho Vereda\n",
       "--------------------------------------------------------------------------------\n",
       "Distancia \n",
       "       n  missing distinct \n",
       "    4910        0       40 \n",
       "\n",
       "lowest :           0         1         10        100      \n",
       "highest: 60        7         8         9         Distancia\n",
       "--------------------------------------------------------------------------------\n",
       "CAP \n",
       "       n  missing distinct \n",
       "    4910        0      349 \n",
       "\n",
       "lowest :     0   1   10  100, highest: 97  98  980 99  CAP\n",
       "--------------------------------------------------------------------------------\n",
       "Altura \n",
       "       n  missing distinct \n",
       "    4910        0       77 \n",
       "\n",
       "lowest :        .1     .3     .5     .6    , highest: 75     8      81     9      Altura\n",
       "--------------------------------------------------------------------------------\n",
       "Diametro.Copa \n",
       "       n  missing distinct \n",
       "    4910        0       53 \n",
       "\n",
       "lowest :               .1            .2            .3            .4           \n",
       "highest: 7             8             88            9             Diametro Copa\n",
       "--------------------------------------------------------------------------------\n",
       "EV \n",
       "       n  missing distinct \n",
       "    4910        0        9 \n",
       "                                                                \n",
       "Value                1     2     3     4     5     6     7    EV\n",
       "Frequency      1   598  2590  1082   546    62    12    18     1\n",
       "Proportion 0.000 0.122 0.527 0.220 0.111 0.013 0.002 0.004 0.000\n",
       "--------------------------------------------------------------------------------\n",
       "Int.Aerea \n",
       "       n  missing distinct \n",
       "    4910        0        4 \n",
       "                                                  \n",
       "Value                Int.Aerea         N         S\n",
       "Frequency          1         1      2112      2796\n",
       "Proportion     0.000     0.000     0.430     0.569\n",
       "--------------------------------------------------------------------------------\n",
       "Int.Sub \n",
       "       n  missing distinct \n",
       "    4910        0        4 \n",
       "                                          \n",
       "Value              Int.Sub       N       S\n",
       "Frequency        1       1    2520    2388\n",
       "Proportion   0.000   0.000   0.513   0.486\n",
       "--------------------------------------------------------------------------------\n",
       "Genero \n",
       "       n  missing distinct \n",
       "    4910        0       47 \n",
       "\n",
       "lowest :        10     11     113    115   , highest: 85     88     888    999    Genero\n",
       "--------------------------------------------------------------------------------\n",
       "Especie \n",
       "       n  missing distinct \n",
       "    4910        0        9 \n",
       "                                                                          \n",
       "Value                    1       2       3       4       5      88     888\n",
       "Frequency        1    3555     261    1071       9       2       4       6\n",
       "Proportion   0.000   0.724   0.053   0.218   0.002   0.000   0.001   0.001\n",
       "                  \n",
       "Value      Especie\n",
       "Frequency        1\n",
       "Proportion   0.000\n",
       "--------------------------------------------------------------------------------\n",
       "Nombre.científico \n",
       "       n  missing distinct \n",
       "    4910        0       56 \n",
       "\n",
       "lowest :                       Acacia dealbata       Acer campestre        Acer negundo          Acer saccharinum     \n",
       "highest: Tilia moltkei         Tipuana tipu          Ulmus procera         Washingtonia filifera Washingtonia robusta \n",
       "--------------------------------------------------------------------------------"
      ]
     },
     "metadata": {},
     "output_type": "display_data"
    }
   ],
   "source": [
    "library(Hmisc)\n",
    "\n",
    "describe(dataset)"
   ]
  },
  {
   "cell_type": "markdown",
   "metadata": {},
   "source": [
    "Existen infinidad de librerias que implementan análisis estadísticos básicos sobre un dataset. Un buen ejercicio es probar varias e investigar que ventajas y desventajas tiene cada una."
   ]
  },
  {
   "cell_type": "markdown",
   "metadata": {},
   "source": [
    "<a id='Verificacion-Calidad'></a>\n",
    "### Verificación de la Calidad\n",
    "\n",
    "Inmediatamente después de familiarizamos con los datos, lo segundo que hacemos (pero no por ello menos importante) es analizar la calidad de los datos. No vamos a hacer un estudio exhaustio de la calidad, simplemente vamos a prestar atención a algunos problemas comúnes y que pueden complicar nuestro análisis. \n",
    "\n",
    "- Datos perdidos: valores vacíos o “sin respuesta” (significado de nulo).\n",
    "- Errores en datos: errores tipográficos por acción humana.\n",
    "- Error de mediciones: sistema de medidas incongruente.\n",
    "- Incoherencias en codificación: diferente representación para valores iguales.\n",
    "- Metadatos erróneos: significado aparente y definición real.\n",
    "\n",
    "Algunas veces contamos con herramientas que verifican estos puntos como parte del data profiling, y algunas veces tenemos que hacer consultas sobre el dataframe, para sacar las estadísticas de cada caso. "
   ]
  },
  {
   "cell_type": "markdown",
   "metadata": {},
   "source": [
    "### Data Profiling\n",
    "[Inicio ▲](#Indice)\n",
    "\n",
    "Un perfil de datos o también conocido como *\"data profiling\"* es una primera aproximación al estado de calidad en un dataset. Generalmente se realiza en la etapa de comprensión de los datos para otener información relevante como mínimos, máximos, promedios de atributos, cantidad de valores nulos o inválidos, determinar los valores más comunes etc.\n",
    "\n",
    "Usualmente, se utilizan herramientas que realizan un reporte de forma automática, midiendo determinadas variables de calidad y que permiten conocer de forma aproximada el estado de algunas dimensiones de calidad.\n",
    "\n",
    "Podemos obtener datos brutos sobre el dataframe:"
   ]
  },
  {
   "cell_type": "code",
   "execution_count": 12,
   "metadata": {},
   "outputs": [
    {
     "name": "stderr",
     "output_type": "stream",
     "text": [
      "Updating HTML index of packages in '.Library'\n",
      "Making 'packages.html' ... done\n"
     ]
    }
   ],
   "source": [
    "install.packages('DataExplorer')"
   ]
  },
  {
   "cell_type": "code",
   "execution_count": 13,
   "metadata": {
    "scrolled": true
   },
   "outputs": [
    {
     "data": {
      "text/html": [
       "<table>\n",
       "<caption>A df[,9]: 1 × 9</caption>\n",
       "<thead>\n",
       "\t<tr><th scope=col>rows</th><th scope=col>columns</th><th scope=col>discrete_columns</th><th scope=col>continuous_columns</th><th scope=col>all_missing_columns</th><th scope=col>total_missing_values</th><th scope=col>complete_rows</th><th scope=col>total_observations</th><th scope=col>memory_usage</th></tr>\n",
       "\t<tr><th scope=col>&lt;int&gt;</th><th scope=col>&lt;int&gt;</th><th scope=col>&lt;int&gt;</th><th scope=col>&lt;int&gt;</th><th scope=col>&lt;int&gt;</th><th scope=col>&lt;int&gt;</th><th scope=col>&lt;int&gt;</th><th scope=col>&lt;int&gt;</th><th scope=col>&lt;dbl&gt;</th></tr>\n",
       "</thead>\n",
       "<tbody>\n",
       "\t<tr><td>4910</td><td>23</td><td>23</td><td>0</td><td>0</td><td>0</td><td>4910</td><td>112930</td><td>954384</td></tr>\n",
       "</tbody>\n",
       "</table>\n"
      ],
      "text/latex": [
       "A df[,9]: 1 × 9\n",
       "\\begin{tabular}{r|lllllllll}\n",
       " rows & columns & discrete\\_columns & continuous\\_columns & all\\_missing\\_columns & total\\_missing\\_values & complete\\_rows & total\\_observations & memory\\_usage\\\\\n",
       " <int> & <int> & <int> & <int> & <int> & <int> & <int> & <int> & <dbl>\\\\\n",
       "\\hline\n",
       "\t 4910 & 23 & 23 & 0 & 0 & 0 & 4910 & 112930 & 954384\\\\\n",
       "\\end{tabular}\n"
      ],
      "text/markdown": [
       "\n",
       "A df[,9]: 1 × 9\n",
       "\n",
       "| rows &lt;int&gt; | columns &lt;int&gt; | discrete_columns &lt;int&gt; | continuous_columns &lt;int&gt; | all_missing_columns &lt;int&gt; | total_missing_values &lt;int&gt; | complete_rows &lt;int&gt; | total_observations &lt;int&gt; | memory_usage &lt;dbl&gt; |\n",
       "|---|---|---|---|---|---|---|---|---|\n",
       "| 4910 | 23 | 23 | 0 | 0 | 0 | 4910 | 112930 | 954384 |\n",
       "\n"
      ],
      "text/plain": [
       "  rows columns discrete_columns continuous_columns all_missing_columns\n",
       "1 4910 23      23               0                  0                  \n",
       "  total_missing_values complete_rows total_observations memory_usage\n",
       "1 0                    4910          112930             954384      "
      ]
     },
     "metadata": {},
     "output_type": "display_data"
    }
   ],
   "source": [
    "library(DataExplorer); library(dplyr)  \n",
    "\n",
    "# Información básica sobre el dataset\n",
    "introduce(dataset)"
   ]
  },
  {
   "cell_type": "markdown",
   "metadata": {},
   "source": [
    "Tambien podemos discriminar los atributos del dataframe en variables **continuas** y **discretas**, lo cual será muy útil para diseñar consultas y gráficas que nos permitan conocer mejor los datos sobre estas variables."
   ]
  },
  {
   "cell_type": "code",
   "execution_count": 14,
   "metadata": {
    "scrolled": true
   },
   "outputs": [
    {
     "data": {
      "image/png": "[encoded data removed]",
      "text/plain": [
       "plot without title"
      ]
     },
     "metadata": {},
     "output_type": "display_data"
    }
   ],
   "source": [
    "plot_intro(dataset)"
   ]
  },
  {
   "cell_type": "code",
   "execution_count": 15,
   "metadata": {
    "scrolled": true
   },
   "outputs": [
    {
     "data": {
      "image/png": "[encoded data removed]",
      "text/plain": [
       "plot without title"
      ]
     },
     "metadata": {},
     "output_type": "display_data"
    }
   ],
   "source": [
    "# Graficar porcentaje (%) de valores faltantes o nulos, por columna\n",
    "plot_missing(dataset)"
   ]
  },
  {
   "cell_type": "markdown",
   "metadata": {},
   "source": [
    "#### ATENTOS!\n",
    "Suena un poco extraño que ninguna columna del dataset tenga valores faltantes. ¿Realmente existe un valor apropiado para todas las columnas en todas las filas de mi dataset?\n",
    "\n",
    "Es momento de investigar que entiende la libreria DataExplorer por \"missing value\". Por ejemplo:\n",
    "\n",
    "- ¿Que pasa con los strings vacíos \"\"? Es un missing value?\n",
    "- También podría pasar que en mi fuente de datos \"-1\" se considera como un missing value para una columna de tipo numética.\n",
    "\n",
    "De repente podemos hacer algunas consultas para contar cantidad de valores \"\" en algunas columnas que nos parezcan interesantes de analizar."
   ]
  },
  {
   "cell_type": "code",
   "execution_count": 16,
   "metadata": {},
   "outputs": [
    {
     "data": {
      "text/html": [
       "<ol class=list-inline>\n",
       "\t<li>'Arbol'</li>\n",
       "\t<li>'Cod_calle'</li>\n",
       "\t<li>'Calle'</li>\n",
       "\t<li>'Cod_Entre'</li>\n",
       "\t<li>'Entre'</li>\n",
       "\t<li>'Cod_Y'</li>\n",
       "\t<li>'Y'</li>\n",
       "\t<li>'Numero'</li>\n",
       "\t<li>'Ajuste'</li>\n",
       "\t<li>'Acera'</li>\n",
       "\t<li>'Alineacion'</li>\n",
       "\t<li>'Ordinal'</li>\n",
       "\t<li>'Ancho.Vereda'</li>\n",
       "\t<li>'Distancia'</li>\n",
       "\t<li>'CAP'</li>\n",
       "\t<li>'Altura'</li>\n",
       "\t<li>'Diametro.Copa'</li>\n",
       "\t<li>'EV'</li>\n",
       "\t<li>'Int.Aerea'</li>\n",
       "\t<li>'Int.Sub'</li>\n",
       "\t<li>'Genero'</li>\n",
       "\t<li>'Especie'</li>\n",
       "\t<li>'Nombre.científico'</li>\n",
       "</ol>\n"
      ],
      "text/latex": [
       "\\begin{enumerate*}\n",
       "\\item 'Arbol'\n",
       "\\item 'Cod\\_calle'\n",
       "\\item 'Calle'\n",
       "\\item 'Cod\\_Entre'\n",
       "\\item 'Entre'\n",
       "\\item 'Cod\\_Y'\n",
       "\\item 'Y'\n",
       "\\item 'Numero'\n",
       "\\item 'Ajuste'\n",
       "\\item 'Acera'\n",
       "\\item 'Alineacion'\n",
       "\\item 'Ordinal'\n",
       "\\item 'Ancho.Vereda'\n",
       "\\item 'Distancia'\n",
       "\\item 'CAP'\n",
       "\\item 'Altura'\n",
       "\\item 'Diametro.Copa'\n",
       "\\item 'EV'\n",
       "\\item 'Int.Aerea'\n",
       "\\item 'Int.Sub'\n",
       "\\item 'Genero'\n",
       "\\item 'Especie'\n",
       "\\item 'Nombre.científico'\n",
       "\\end{enumerate*}\n"
      ],
      "text/markdown": [
       "1. 'Arbol'\n",
       "2. 'Cod_calle'\n",
       "3. 'Calle'\n",
       "4. 'Cod_Entre'\n",
       "5. 'Entre'\n",
       "6. 'Cod_Y'\n",
       "7. 'Y'\n",
       "8. 'Numero'\n",
       "9. 'Ajuste'\n",
       "10. 'Acera'\n",
       "11. 'Alineacion'\n",
       "12. 'Ordinal'\n",
       "13. 'Ancho.Vereda'\n",
       "14. 'Distancia'\n",
       "15. 'CAP'\n",
       "16. 'Altura'\n",
       "17. 'Diametro.Copa'\n",
       "18. 'EV'\n",
       "19. 'Int.Aerea'\n",
       "20. 'Int.Sub'\n",
       "21. 'Genero'\n",
       "22. 'Especie'\n",
       "23. 'Nombre.científico'\n",
       "\n",
       "\n"
      ],
      "text/plain": [
       " [1] \"Arbol\"             \"Cod_calle\"         \"Calle\"            \n",
       " [4] \"Cod_Entre\"         \"Entre\"             \"Cod_Y\"            \n",
       " [7] \"Y\"                 \"Numero\"            \"Ajuste\"           \n",
       "[10] \"Acera\"             \"Alineacion\"        \"Ordinal\"          \n",
       "[13] \"Ancho.Vereda\"      \"Distancia\"         \"CAP\"              \n",
       "[16] \"Altura\"            \"Diametro.Copa\"     \"EV\"               \n",
       "[19] \"Int.Aerea\"         \"Int.Sub\"           \"Genero\"           \n",
       "[22] \"Especie\"           \"Nombre.científico\""
      ]
     },
     "metadata": {},
     "output_type": "display_data"
    }
   ],
   "source": [
    "# Recordemos que columnas tiene el dataset\n",
    "colnames(dataset)"
   ]
  },
  {
   "cell_type": "code",
   "execution_count": 17,
   "metadata": {
    "scrolled": true
   },
   "outputs": [
    {
     "name": "stdout",
     "output_type": "stream",
     "text": [
      "[1] \"Cantidad de Valores Vacios:\"\n",
      "[1] \"Diametro.Copa:  248\"\n"
     ]
    }
   ],
   "source": [
    "# Vamos a contar cantidad de valores \"\" en las siguientes columnas:\n",
    "\n",
    "# Imprimo cantidad\n",
    "print(\"Cantidad de Valores Vacios:\")\n",
    "\n",
    "cantDiametroCopaVacio <- dataset %>% select(Diametro.Copa) %>% \n",
    "                            filter(Diametro.Copa == '') %>%  \n",
    "                            count()\n",
    "print(paste(\"Diametro.Copa: \", cantDiametroCopaVacio))"
   ]
  },
  {
   "cell_type": "markdown",
   "metadata": {},
   "source": [
    "Excelente, nuestras sospechas son correctas, existen filas que tienen el valor \"\" por ejemplo en la columna *Copa.Diametro* y la libreria DataExplorer NO lo está considerando como un missing value.\n",
    "\n",
    "Para solucionar este problema vamos a remplazar todos los valores \"\" por NA, que es la representación interna utilizada por defecto por ```dplyr``` para missing values. Luego, DataExplorer deberia tenerlo en cuenta como missing value. Notar que tenemos que realizar esta transformación para todas las columnas del dataset, puesto que en principio podríamos tener el mismo problema en todas."
   ]
  },
  {
   "cell_type": "code",
   "execution_count": 18,
   "metadata": {
    "scrolled": true
   },
   "outputs": [
    {
     "data": {
      "text/html": [
       "<ol class=list-inline>\n",
       "\t<li>4910</li>\n",
       "\t<li>23</li>\n",
       "</ol>\n"
      ],
      "text/latex": [
       "\\begin{enumerate*}\n",
       "\\item 4910\n",
       "\\item 23\n",
       "\\end{enumerate*}\n"
      ],
      "text/markdown": [
       "1. 4910\n",
       "2. 23\n",
       "\n",
       "\n"
      ],
      "text/plain": [
       "[1] 4910   23"
      ]
     },
     "metadata": {},
     "output_type": "display_data"
    }
   ],
   "source": [
    "dim(dataset)"
   ]
  },
  {
   "cell_type": "code",
   "execution_count": 19,
   "metadata": {},
   "outputs": [
    {
     "name": "stdout",
     "output_type": "stream",
     "text": [
      "'data.frame':\t4910 obs. of  23 variables:\n",
      " $ Arbol            : Factor w/ 4910 levels \"1\",\"100\",\"1000\",..: 792 793 794 4341 4342 4343 4344 4345 4346 4347 ...\n",
      " $ Cod_calle        : Factor w/ 81 levels \"\",\"126\",\"1482\",..: 77 77 77 77 77 77 77 77 77 77 ...\n",
      " $ Calle            : Factor w/ 80 levels \"\",\"18 DE JULIO AVENIDA\",..: 2 2 2 2 2 2 2 2 2 2 ...\n",
      " $ Cod_Entre        : Factor w/ 97 levels \"\",\" Entre\",\"0\",..: 56 56 56 35 35 35 36 36 36 36 ...\n",
      " $ Entre            : Factor w/ 95 levels \"\",\"18 DE JULIO AVENIDA\",..: 38 38 38 67 67 67 5 5 5 5 ...\n",
      " $ Cod_Y            : Factor w/ 93 levels \"\",\" Y\",\"0\",\"1122\",..: 70 70 70 38 38 38 43 43 43 43 ...\n",
      " $ Y                : Factor w/ 91 levels \"\",\"18 DE JULIO AVENIDA\",..: 75 75 75 9 9 9 23 23 23 23 ...\n",
      " $ Numero           : Factor w/ 1190 levels \"\",\" Numero\",\"0\",..: 1 1 1 1050 1053 3 1063 1063 1087 1092 ...\n",
      " $ Ajuste           : Factor w/ 192 levels \"\",\".\",\"0\",\"1006\",..: 186 186 186 1 1 184 1 1 1 1 ...\n",
      " $ Acera            : Factor w/ 4 levels \"\",\"Acera\",\"I\",..: 4 4 4 3 3 4 3 3 3 3 ...\n",
      " $ Alineacion       : Factor w/ 4 levels \"\",\"1\",\"2\",\"Alineacion\": 1 1 1 2 2 2 2 2 2 2 ...\n",
      " $ Ordinal          : Factor w/ 29 levels \"\",\"1\",\"10\",\"11\",..: 2 13 19 2 2 2 13 2 2 2 ...\n",
      " $ Ancho.Vereda     : Factor w/ 51 levels \"\",\"05/05/10\",..: 44 44 44 43 43 45 2 2 2 2 ...\n",
      " $ Distancia        : Factor w/ 40 levels \"\",\"0\",\"1\",\"10\",..: 2 2 2 34 34 34 34 34 34 34 ...\n",
      " $ CAP              : Factor w/ 349 levels \"\",\"0\",\"1\",\"10\",..: 48 48 59 172 116 138 92 171 266 260 ...\n",
      " $ Altura           : Factor w/ 77 levels \"\",\".1\",\".3\",\".5\",..: 58 58 58 72 68 70 70 70 71 71 ...\n",
      " $ Diametro.Copa    : Factor w/ 53 levels \"\",\".1\",\".2\",\".3\",..: 1 1 1 44 41 41 44 19 44 44 ...\n",
      " $ EV               : Factor w/ 9 levels \"\",\"1\",\"2\",\"3\",..: 3 3 3 3 3 3 3 3 3 3 ...\n",
      " $ Int.Aerea        : Factor w/ 4 levels \"\",\"Int.Aerea\",..: 3 3 3 3 3 3 3 3 4 3 ...\n",
      " $ Int.Sub          : Factor w/ 4 levels \"\",\"Int.Sub\",\"N\",..: 3 3 3 3 3 3 3 3 3 3 ...\n",
      " $ Genero           : Factor w/ 47 levels \"\",\"10\",\"11\",\"113\",..: 14 14 14 28 28 28 28 28 28 28 ...\n",
      " $ Especie          : Factor w/ 9 levels \"\",\"1\",\"2\",\"3\",..: 2 2 2 3 3 3 3 3 3 3 ...\n",
      " $ Nombre.científico: Factor w/ 56 levels \"\",\"Acacia dealbata\",..: 18 18 18 39 39 39 39 39 39 39 ...\n"
     ]
    }
   ],
   "source": [
    "str(dataset)"
   ]
  },
  {
   "cell_type": "code",
   "execution_count": 20,
   "metadata": {},
   "outputs": [
    {
     "name": "stderr",
     "output_type": "stream",
     "text": [
      "Warning message:\n",
      "“funs() is soft deprecated as of dplyr 0.8.0\n",
      "Please use a list of either functions or lambdas: \n",
      "\n",
      "  # Simple named list: \n",
      "  list(mean = mean, median = median)\n",
      "\n",
      "  # Auto named with `tibble::lst()`: \n",
      "  tibble::lst(mean, median)\n",
      "\n",
      "  # Using lambdas\n",
      "  list(~ mean(., trim = .2), ~ median(., na.rm = TRUE))\n",
      "This warning is displayed once per session.”"
     ]
    },
    {
     "data": {
      "text/html": [
       "<table>\n",
       "<caption>A df[,3]: 23 × 3</caption>\n",
       "<thead>\n",
       "\t<tr><th scope=col>feature</th><th scope=col>num_missing</th><th scope=col>pct_missing</th></tr>\n",
       "\t<tr><th scope=col>&lt;fct&gt;</th><th scope=col>&lt;int&gt;</th><th scope=col>&lt;dbl&gt;</th></tr>\n",
       "</thead>\n",
       "<tbody>\n",
       "\t<tr><td>Arbol            </td><td>   0</td><td>0,000000000</td></tr>\n",
       "\t<tr><td>Cod_calle        </td><td>   1</td><td>0,000203666</td></tr>\n",
       "\t<tr><td>Calle            </td><td>   2</td><td>0,000407332</td></tr>\n",
       "\t<tr><td>Cod_Entre        </td><td>   1</td><td>0,000203666</td></tr>\n",
       "\t<tr><td>Entre            </td><td>  41</td><td>0,008350305</td></tr>\n",
       "\t<tr><td>Cod_Y            </td><td>   1</td><td>0,000203666</td></tr>\n",
       "\t<tr><td>Y                </td><td>  41</td><td>0,008350305</td></tr>\n",
       "\t<tr><td>Numero           </td><td> 166</td><td>0,033808554</td></tr>\n",
       "\t<tr><td>Ajuste           </td><td>3651</td><td>0,743584521</td></tr>\n",
       "\t<tr><td>Acera            </td><td>   1</td><td>0,000203666</td></tr>\n",
       "\t<tr><td>Alineacion       </td><td> 248</td><td>0,050509165</td></tr>\n",
       "\t<tr><td>Ordinal          </td><td> 701</td><td>0,142769857</td></tr>\n",
       "\t<tr><td>Ancho.Vereda     </td><td> 277</td><td>0,056415479</td></tr>\n",
       "\t<tr><td>Distancia        </td><td>   1</td><td>0,000203666</td></tr>\n",
       "\t<tr><td>CAP              </td><td>   1</td><td>0,000203666</td></tr>\n",
       "\t<tr><td>Altura           </td><td>   1</td><td>0,000203666</td></tr>\n",
       "\t<tr><td>Diametro.Copa    </td><td> 248</td><td>0,050509165</td></tr>\n",
       "\t<tr><td>EV               </td><td>   1</td><td>0,000203666</td></tr>\n",
       "\t<tr><td>Int.Aerea        </td><td>   1</td><td>0,000203666</td></tr>\n",
       "\t<tr><td>Int.Sub          </td><td>   1</td><td>0,000203666</td></tr>\n",
       "\t<tr><td>Genero           </td><td>   1</td><td>0,000203666</td></tr>\n",
       "\t<tr><td>Especie          </td><td>   1</td><td>0,000203666</td></tr>\n",
       "\t<tr><td>Nombre.científico</td><td>   2</td><td>0,000407332</td></tr>\n",
       "</tbody>\n",
       "</table>\n"
      ],
      "text/latex": [
       "A df[,3]: 23 × 3\n",
       "\\begin{tabular}{r|lll}\n",
       " feature & num\\_missing & pct\\_missing\\\\\n",
       " <fct> & <int> & <dbl>\\\\\n",
       "\\hline\n",
       "\t Arbol             &    0 & 0,000000000\\\\\n",
       "\t Cod\\_calle         &    1 & 0,000203666\\\\\n",
       "\t Calle             &    2 & 0,000407332\\\\\n",
       "\t Cod\\_Entre         &    1 & 0,000203666\\\\\n",
       "\t Entre             &   41 & 0,008350305\\\\\n",
       "\t Cod\\_Y             &    1 & 0,000203666\\\\\n",
       "\t Y                 &   41 & 0,008350305\\\\\n",
       "\t Numero            &  166 & 0,033808554\\\\\n",
       "\t Ajuste            & 3651 & 0,743584521\\\\\n",
       "\t Acera             &    1 & 0,000203666\\\\\n",
       "\t Alineacion        &  248 & 0,050509165\\\\\n",
       "\t Ordinal           &  701 & 0,142769857\\\\\n",
       "\t Ancho.Vereda      &  277 & 0,056415479\\\\\n",
       "\t Distancia         &    1 & 0,000203666\\\\\n",
       "\t CAP               &    1 & 0,000203666\\\\\n",
       "\t Altura            &    1 & 0,000203666\\\\\n",
       "\t Diametro.Copa     &  248 & 0,050509165\\\\\n",
       "\t EV                &    1 & 0,000203666\\\\\n",
       "\t Int.Aerea         &    1 & 0,000203666\\\\\n",
       "\t Int.Sub           &    1 & 0,000203666\\\\\n",
       "\t Genero            &    1 & 0,000203666\\\\\n",
       "\t Especie           &    1 & 0,000203666\\\\\n",
       "\t Nombre.científico &    2 & 0,000407332\\\\\n",
       "\\end{tabular}\n"
      ],
      "text/markdown": [
       "\n",
       "A df[,3]: 23 × 3\n",
       "\n",
       "| feature &lt;fct&gt; | num_missing &lt;int&gt; | pct_missing &lt;dbl&gt; |\n",
       "|---|---|---|\n",
       "| Arbol             |    0 | 0,000000000 |\n",
       "| Cod_calle         |    1 | 0,000203666 |\n",
       "| Calle             |    2 | 0,000407332 |\n",
       "| Cod_Entre         |    1 | 0,000203666 |\n",
       "| Entre             |   41 | 0,008350305 |\n",
       "| Cod_Y             |    1 | 0,000203666 |\n",
       "| Y                 |   41 | 0,008350305 |\n",
       "| Numero            |  166 | 0,033808554 |\n",
       "| Ajuste            | 3651 | 0,743584521 |\n",
       "| Acera             |    1 | 0,000203666 |\n",
       "| Alineacion        |  248 | 0,050509165 |\n",
       "| Ordinal           |  701 | 0,142769857 |\n",
       "| Ancho.Vereda      |  277 | 0,056415479 |\n",
       "| Distancia         |    1 | 0,000203666 |\n",
       "| CAP               |    1 | 0,000203666 |\n",
       "| Altura            |    1 | 0,000203666 |\n",
       "| Diametro.Copa     |  248 | 0,050509165 |\n",
       "| EV                |    1 | 0,000203666 |\n",
       "| Int.Aerea         |    1 | 0,000203666 |\n",
       "| Int.Sub           |    1 | 0,000203666 |\n",
       "| Genero            |    1 | 0,000203666 |\n",
       "| Especie           |    1 | 0,000203666 |\n",
       "| Nombre.científico |    2 | 0,000407332 |\n",
       "\n"
      ],
      "text/plain": [
       "   feature           num_missing pct_missing\n",
       "1  Arbol                0        0,000000000\n",
       "2  Cod_calle            1        0,000203666\n",
       "3  Calle                2        0,000407332\n",
       "4  Cod_Entre            1        0,000203666\n",
       "5  Entre               41        0,008350305\n",
       "6  Cod_Y                1        0,000203666\n",
       "7  Y                   41        0,008350305\n",
       "8  Numero             166        0,033808554\n",
       "9  Ajuste            3651        0,743584521\n",
       "10 Acera                1        0,000203666\n",
       "11 Alineacion         248        0,050509165\n",
       "12 Ordinal            701        0,142769857\n",
       "13 Ancho.Vereda       277        0,056415479\n",
       "14 Distancia            1        0,000203666\n",
       "15 CAP                  1        0,000203666\n",
       "16 Altura               1        0,000203666\n",
       "17 Diametro.Copa      248        0,050509165\n",
       "18 EV                   1        0,000203666\n",
       "19 Int.Aerea            1        0,000203666\n",
       "20 Int.Sub              1        0,000203666\n",
       "21 Genero               1        0,000203666\n",
       "22 Especie              1        0,000203666\n",
       "23 Nombre.científico    2        0,000407332"
      ]
     },
     "metadata": {},
     "output_type": "display_data"
    }
   ],
   "source": [
    "# Remplazo valores string vacío por NA utilizando mutate_all\n",
    "dataset <- mutate_all(dataset, funs(na_if(.,\"\")))\n",
    "profile_missing(dataset)"
   ]
  },
  {
   "cell_type": "markdown",
   "metadata": {},
   "source": [
    "Algunas columnas no se están tomando como numericas cuando leo el csv y esto hace que no se tomen como variables contionúas. De los [metadatos](https://catalogodatos.gub.uy/dataset/censo-de-arbolado-2008/resource/c799548d-e9bb-492b-9179-53de2b748d43) del dataset, puedo inferir cuales son las columnas que son numéricas. De esta forma puedo castearlas en el dataframe como numéricas y hacer el profiling de nuevo."
   ]
  },
  {
   "cell_type": "code",
   "execution_count": 21,
   "metadata": {},
   "outputs": [
    {
     "data": {
      "image/png": "[encoded data removed]",
      "text/plain": [
       "plot without title"
      ]
     },
     "metadata": {},
     "output_type": "display_data"
    }
   ],
   "source": [
    "dataset[, c(1:2,4,6,8,10:16,19,20)] <- sapply(dataset[, c(1:2,4,6,8,10:16,19,20)], as.numeric)\n",
    "plot_intro(dataset)"
   ]
  },
  {
   "cell_type": "code",
   "execution_count": 23,
   "metadata": {
    "scrolled": true
   },
   "outputs": [
    {
     "data": {
      "image/png": "[encoded data removed]",
      "text/plain": [
       "plot without title"
      ]
     },
     "metadata": {},
     "output_type": "display_data"
    }
   ],
   "source": [
    "# Puedo hacer histogramas de las variables continuas\n",
    "plot_histogram(dataset)"
   ]
  },
  {
   "cell_type": "markdown",
   "metadata": {},
   "source": [
    "<a id='Calidad-Datos'></a>\n",
    "## Calidad de Datos (OPCIONAL) \n",
    "[Inicio ▲](#Indice)\n",
    "\n",
    "<a id='Definicion'></a>\n",
    "### Definición\n",
    "\n",
    "Es muy difiícil dar una definición simple y concisa de que entendemos por \"Calidad de un Dato\". Es un concepto multi-facético, donde existen diferentes dimensiones.\n",
    "\n",
    "> \"Even though quality cannot be defined, you know what it\n",
    "is” – Robert Pirsig (filósofo, define la “metafísica de la calidad”)\n",
    "\n",
    "<br />\n",
    "\n",
    "**Algunas dimensiones**\n",
    "- **Exactitud**: Cuán **preciso** es un dato, por ejemplo un precio, $10 ó $10,90, o que tan **correcto** por ejemplo un apellido \"Martnez\" ó \"Martínez\"  \n",
    "- **Completitud**: Cuan representativo son mis datos, contienen todos los valores de mi realidad, cuantos NULOS tengo.\n",
    "- **Frescura**: Que tan viejos son mis datos, cuando fueron actualizados por ultima vez.\n",
    "- **Consistencia**: Son consistentes mis datos en relación al dominio y sus restricciones, por ejemplo una venta sobre un producto que no existe en la base de datos. \n",
    "- **Unicidad**: Hay datos duplicados, información contradictoria entre ellos, por ejemplo el mismo usuario dos veces con diferente teléfono.\n",
    "\n",
    "Más información sobre dimensiones de calidad [aquí](https://eva.fing.edu.uy/pluginfile.php/177507/mod_resource/content/1/2-Dimensiones%20de%20calidad.pdf)\n",
    "\n",
    "**Ejemplo**\n",
    "\n",
    "La mejor forma de entender problemas de calidad de un dato es ver un ejemplo y para ello veamos un caso de diferentes dimensiones de la calidad, en una Tabla de Peliculas:\n",
    "\n",
    "![CalidadDatosEjemplo](https://github.com/efviodo/data-science/raw/master/courses/utec/figures/calidad_datos_ejemplo.png)\n",
    "\n",
    "*Fuente*: Diapositiva de presentación Curso de Calidad de Datos[1], Facultad de Ingeniería, UdelaR\n",
    "\n",
    "La Calidad de Datos es una área entera en si misma y existen infinidad de cursos y libros disponibles para introducirse en él. En caso de etar interesado en profunidzar en alguno de los temas mencionados puede recurrir a la Bibliografía recomendada."
   ]
  },
  {
   "cell_type": "markdown",
   "metadata": {},
   "source": [
    "<a id='Bibliografia'></a>\n",
    "## Bibliografía\n",
    "[Inicio ▲](#Indice)\n",
    "\n",
    "<ol>\n",
    "    <li> Curso Calidad de Datos, Facultad de Ingeniería, Universidad de la República. <br />\n",
    "        <a href=\"https://eva.fing.edu.uy/course/view.php?id=1073\">https://eva.fing.edu.uy/course/view.php?id=1073</a>\n",
    "    </li>\n",
    "    <li>\n",
    "        Data Quality, Concepts, Methodologies and Techniques - Batini, Carlo, Scannapieco, Monica <br /><a href=\"https://www.springer.com/us/book/9783540331728\">https://www.springer.com/us/book/9783540331728</a>\n",
    "    </li>\n",
    "</ol>\n",
    "    "
   ]
  }
 ],
 "metadata": {
  "kernelspec": {
   "display_name": "R",
   "language": "R",
   "name": "ir"
  },
  "language_info": {
   "codemirror_mode": "r",
   "file_extension": ".r",
   "mimetype": "text/x-r-source",
   "name": "R",
   "pygments_lexer": "r",
   "version": "3.5.1"
  }
 },
 "nbformat": 4,
 "nbformat_minor": 2
}
