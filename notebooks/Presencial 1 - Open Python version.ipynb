{
 "cells": [
  {
   "cell_type": "code",
   "execution_count": 1,
   "metadata": {},
   "outputs": [],
   "source": [
    "import pandas as pd\n",
    "import numpy as np\n",
    "import matplotlib.pyplot as plt\n",
    "from scipy.stats import norm\n",
    "from scipy.stats import expon\n",
    "from pylab import *"
   ]
  },
  {
   "cell_type": "markdown",
   "metadata": {},
   "source": [
    "<a id='Indice'></a>\n",
    "## Índice\n",
    "[Inicio ▲](#Indice)\n",
    "\n",
    "1. [Introducción](#Intro)\n",
    "1. [Business understanding](#Business-understanding)\n",
    "    1. [Modelo CRISP-DM](#CRISP-DM)\n",
    "    1. [Tarea: como definir exito?](#TAREA1)\n",
    "1. [Data understanding](#Data-understanding)\n",
    "1. [Preparing the dataset](#Preparing-dateset)\n",
    "    1. [Transformación de transfer fee](#Transformación-Transfer_fee)\n",
    "    1. [Agregar exito](#Agregar-exito)\n",
    "    1. [Limpiando el set](#Limpiando)\n",
    "1. [Exploratory data analysis (EDA)](#Exploratory-data-analysis)\n",
    "1. [EDA - Estadistica basica](#Estadistica-basica)\n",
    "    1. [Tipos de datos](#Tipos-de-datos)\n",
    "    1. [Promedio y mediana](#Promedio-mediana)\n",
    "    1. [Variación y desviación estándar](#Variación-desviación_estándar)\n",
    "    1. [Distribuciones comunes](#Distribuciones-comunes)\n",
    "    1. [Covarianza y correlación](#Covarianza-correlación)\n",
    "    1. [TAREA](#TAREA2)\n",
    "1. [EDA - Visualizaciones](#Visualizaciones)\n",
    "    1. [Primer paso](#Primer-paso)\n",
    "    1. [Graficas](#Graficas)\n",
    "    1. [TAREA](#TAREA3)\n",
    "1. [Modelling](#Modelling)\n",
    "    1. [Training and test dataset](#Training-test)\n",
    "    1. [Modelo](#Modelo)\n",
    "1. [Evaluación](#Evaluación)"
   ]
  },
  {
   "cell_type": "markdown",
   "metadata": {},
   "source": [
    "<a id='Intro'></a>\n",
    "# Introducción\n",
    "[Inicio ▲](#Indice)\n",
    "\n",
    "La idea de este notebook es para dar un ejemplo real de los pasos entre la aquicisión de los datos y el desarrollo de un modelo. En lo que sige, vamos a examinar un dataset cuál contiene datos sobre transfers de futbalistos de America del Sur hacia Europa entre 2009 y 2014. \n",
    "\n",
    "La idea es que primero obtenemos un primer entendimiento del dataset. Segundo, limpiamos el dataset y tercer vamos a examinar el dataset en profundidad. Haciendo eso, vamos a tocar a distintos terminos de estadistica y vamos a utilizar varios tipos de visualizaciones para realisar un Exploratory Data Analysis. "
   ]
  },
  {
   "cell_type": "code",
   "execution_count": 3,
   "metadata": {},
   "outputs": [],
   "source": [
    "df_futbol = pd.read_csv (r'datasets/Transfer_data.csv')"
   ]
  },
  {
   "cell_type": "markdown",
   "metadata": {},
   "source": [
    "<a id='Business-understanding'></a>\n",
    "# Business understanding\n",
    "[Inicio ▲](#Indice)"
   ]
  },
  {
   "cell_type": "markdown",
   "metadata": {},
   "source": [
    "No se puede subestimar la importancia del conocimiento del negocio en data science. Sin un buen conocimiento, siempre sera más dificil para armar el mejor modelo. Además, puede ser que se va a desarrollar modelos cuales son muy acuratos pero que no agregan nada de valor al negocio.\n",
    "\n",
    "Por ejemplo, un club de futbol europeo, te da la oportunidad para ayudarle. Buscan un modelo para predecir o un jugador de America del Sur va a ser exitoso o no en Europa. La primera problema que surge es \"Como definir exitoso?\"\n",
    "\n",
    "Hay varias formas para definir éxito, además la definición puede cambiarse según la posición de un jugador. Donde juzgan a un delantero por su goles, no es el caso para un defendor. "
   ]
  },
  {
   "cell_type": "markdown",
   "metadata": {},
   "source": [
    "#### Intenta para ti mismo dar una definición general para éxito."
   ]
  },
  {
   "cell_type": "markdown",
   "metadata": {},
   "source": [
    "<a id='Data-understanding'></a>\n",
    "# Data understanding - básico\n",
    "[Inicio ▲](#Indice)"
   ]
  },
  {
   "cell_type": "markdown",
   "metadata": {},
   "source": [
    "Puede ser que en su definición de Exito utilizaste parámetros tal como \"partidos jugados\", \"goles\", ... Sin embargo, si nuestro dataset no contiene esos variables o si si contiene pero la calidad de la variable es muy pobre, no podemos utilizar esta definición. \n",
    "\n",
    "Por eso, el primer paso es para obtener un primer conocimiento muy basico del dataset por un par de funciones faciles."
   ]
  },
  {
   "cell_type": "code",
   "execution_count": 4,
   "metadata": {},
   "outputs": [
    {
     "data": {
      "text/plain": [
       "(200, 16)"
      ]
     },
     "execution_count": 4,
     "metadata": {},
     "output_type": "execute_result"
    }
   ],
   "source": [
    "df_futbol.shape"
   ]
  },
  {
   "cell_type": "code",
   "execution_count": 5,
   "metadata": {},
   "outputs": [
    {
     "data": {
      "text/plain": [
       "['Unnamed: 0',\n",
       " 'Player_name',\n",
       " 'Player_position',\n",
       " 'Player_age',\n",
       " 'Transfer_season',\n",
       " 'Transfer_from_division',\n",
       " 'Transfer_from_team',\n",
       " 'Transfer_to_division',\n",
       " 'Transfer_to_team',\n",
       " 'Transfer_fee',\n",
       " 'MV_transfer',\n",
       " 'First_time_EU',\n",
       " 'Loan_Transfer',\n",
       " 'MV_4y_high',\n",
       " 'Transfer_4y',\n",
       " 'Transfer_after']"
      ]
     },
     "execution_count": 5,
     "metadata": {},
     "output_type": "execute_result"
    }
   ],
   "source": [
    "list(df_futbol)"
   ]
  },
  {
   "cell_type": "markdown",
   "metadata": {},
   "source": [
    "Aunque la significación de la mayoría de las variables son claras, algunas capaz no son. Por eso que les doy una descripción breva de todas las variables.\n",
    "\n",
    "    * Unnamed 0                   : Nombre del jugador\n",
    "    * Player_name                 : Nombre del jugador\n",
    "    * Player_position             : Posición primera del jugador en la cancha\n",
    "    * Player_age                  : Edad del jugador en el momento de su transfer\n",
    "    * Transfer_season             : En que temporada realizó el transfer del jugador (de SA a EU)?\n",
    "    * Transfer_from_division      : En que liga (en SA) estaba jugando antes su transfer?\n",
    "    * Transfer_from_team          : En que club de futbol estaba jugando antes su transfer?\n",
    "    * Transfer_to_division        : Hasta que liga (en EU) se transferó?\n",
    "    * Transfer_to_team            : Hasta que club de futbol (en EU) se transferó?\n",
    "    * Transfer_fee                : Premio del transfer\n",
    "    * MV_Transfer                 : Valor de mercado del jugador al momento de su transfer.\n",
    "    * First_time_EU               : Es la primera vez que el jugador juega en EU?\n",
    "    * Loan_transfer               : El jugador fue alquilado en el año antes su transfer?\n",
    "    * MV_4y_high                  : Valor de mercado más alto en 4 años después su transfer.\n",
    "    * Transfer_4y                 : El jugador realizó otro transfer en 4 años después su transfer inicial?\n",
    "    * Transfer_after              : Precio del transfer despúes el primer transfer. "
   ]
  },
  {
   "cell_type": "markdown",
   "metadata": {},
   "source": [
    "#### Ahora, mirando los distintos variables y sus valores, cambiarías algo en su definición? Agregarías algun otro variable?"
   ]
  },
  {
   "cell_type": "markdown",
   "metadata": {},
   "source": [
    "### Definición sugerida\n",
    "Nos ponemos en la mente del club. Primero que nada hay que entender que en 99% de los casos un club - o cualquier otra organización - implementa una sistema de machine learning con el objetivo de ganar plata. Por eso, que por la definición de éxito, tiene sentido tomar en cuenta la imagen financiera, como hecho en la definición abajo.\n",
    "\n",
    "Un club compra un jugador para precio X. Si en 4 años, se pueden vender el jugador para mas plata o el jugador se queda al club pero con un valor cual es mayor al premio inicial, el transfer fue exitoso."
   ]
  },
  {
   "cell_type": "markdown",
   "metadata": {},
   "source": [
    "<a id='Preparing-dataset'></a>\n",
    "# Preparing the dataset\n",
    "[Inicio ▲](#Indice)"
   ]
  },
  {
   "cell_type": "code",
   "execution_count": 6,
   "metadata": {},
   "outputs": [
    {
     "data": {
      "text/html": [
       "<div>\n",
       "<style scoped>\n",
       "    .dataframe tbody tr th:only-of-type {\n",
       "        vertical-align: middle;\n",
       "    }\n",
       "\n",
       "    .dataframe tbody tr th {\n",
       "        vertical-align: top;\n",
       "    }\n",
       "\n",
       "    .dataframe thead th {\n",
       "        text-align: right;\n",
       "    }\n",
       "</style>\n",
       "<table border=\"1\" class=\"dataframe\">\n",
       "  <thead>\n",
       "    <tr style=\"text-align: right;\">\n",
       "      <th></th>\n",
       "      <th>Unnamed: 0</th>\n",
       "      <th>Player_name</th>\n",
       "      <th>Player_position</th>\n",
       "      <th>Player_age</th>\n",
       "      <th>Transfer_season</th>\n",
       "      <th>Transfer_from_division</th>\n",
       "      <th>Transfer_from_team</th>\n",
       "      <th>Transfer_to_division</th>\n",
       "      <th>Transfer_to_team</th>\n",
       "      <th>Transfer_fee</th>\n",
       "      <th>MV_transfer</th>\n",
       "      <th>First_time_EU</th>\n",
       "      <th>Loan_Transfer</th>\n",
       "      <th>MV_4y_high</th>\n",
       "      <th>Transfer_4y</th>\n",
       "      <th>Transfer_after</th>\n",
       "    </tr>\n",
       "  </thead>\n",
       "  <tbody>\n",
       "    <tr>\n",
       "      <th>0</th>\n",
       "      <td>1</td>\n",
       "      <td>Adrián Luna</td>\n",
       "      <td>Right Winger</td>\n",
       "      <td>19</td>\n",
       "      <td>11/12</td>\n",
       "      <td>Primera División</td>\n",
       "      <td>Defensor</td>\n",
       "      <td>LaLiga</td>\n",
       "      <td>Espanyol</td>\n",
       "      <td>1,00 Mill. €</td>\n",
       "      <td>275000.0</td>\n",
       "      <td>Yes</td>\n",
       "      <td>No</td>\n",
       "      <td>1000000.0</td>\n",
       "      <td>Yes</td>\n",
       "      <td>0.0</td>\n",
       "    </tr>\n",
       "    <tr>\n",
       "      <th>1</th>\n",
       "      <td>2</td>\n",
       "      <td>Adrián Ramos</td>\n",
       "      <td>Centre-Forward</td>\n",
       "      <td>23</td>\n",
       "      <td>09/10</td>\n",
       "      <td>Liga Águila II</td>\n",
       "      <td>CD América</td>\n",
       "      <td>Bundesliga</td>\n",
       "      <td>Hertha BSC</td>\n",
       "      <td>2,00 Mill. €</td>\n",
       "      <td>1000000.0</td>\n",
       "      <td>Yes</td>\n",
       "      <td>No</td>\n",
       "      <td>6500000.0</td>\n",
       "      <td>No</td>\n",
       "      <td>NaN</td>\n",
       "    </tr>\n",
       "    <tr>\n",
       "      <th>2</th>\n",
       "      <td>3</td>\n",
       "      <td>Albano Bizzarri</td>\n",
       "      <td>Goalkeeper</td>\n",
       "      <td>35</td>\n",
       "      <td>13/14</td>\n",
       "      <td>Serie A</td>\n",
       "      <td>Lazio</td>\n",
       "      <td>Serie A</td>\n",
       "      <td>Genoa</td>\n",
       "      <td>300 Th. €</td>\n",
       "      <td>NaN</td>\n",
       "      <td>NaN</td>\n",
       "      <td>NaN</td>\n",
       "      <td>NaN</td>\n",
       "      <td>NaN</td>\n",
       "      <td>NaN</td>\n",
       "    </tr>\n",
       "    <tr>\n",
       "      <th>3</th>\n",
       "      <td>4</td>\n",
       "      <td>Alejandro Alonso</td>\n",
       "      <td>Right Midfield</td>\n",
       "      <td>28</td>\n",
       "      <td>10/11</td>\n",
       "      <td>Ligue 1</td>\n",
       "      <td>Monaco</td>\n",
       "      <td>Ligue 1</td>\n",
       "      <td>Saint-Étienne</td>\n",
       "      <td>200 Th. €</td>\n",
       "      <td>NaN</td>\n",
       "      <td>NaN</td>\n",
       "      <td>NaN</td>\n",
       "      <td>NaN</td>\n",
       "      <td>NaN</td>\n",
       "      <td>NaN</td>\n",
       "    </tr>\n",
       "    <tr>\n",
       "      <th>4</th>\n",
       "      <td>5</td>\n",
       "      <td>Alejandro González</td>\n",
       "      <td>Centre-Back</td>\n",
       "      <td>25</td>\n",
       "      <td>13/14</td>\n",
       "      <td>Primera División</td>\n",
       "      <td>Peñarol</td>\n",
       "      <td>Serie A</td>\n",
       "      <td>Hellas Verona</td>\n",
       "      <td>2,40 Mill. €</td>\n",
       "      <td>850000.0</td>\n",
       "      <td>Yes</td>\n",
       "      <td>No</td>\n",
       "      <td>2000000.0</td>\n",
       "      <td>No</td>\n",
       "      <td>NaN</td>\n",
       "    </tr>\n",
       "    <tr>\n",
       "      <th>5</th>\n",
       "      <td>6</td>\n",
       "      <td>Alexis Rolín</td>\n",
       "      <td>Centre-Back</td>\n",
       "      <td>23</td>\n",
       "      <td>12/13</td>\n",
       "      <td>Primera División</td>\n",
       "      <td>Nacional</td>\n",
       "      <td>Serie A</td>\n",
       "      <td>Catania</td>\n",
       "      <td>3,80 Mill. €</td>\n",
       "      <td>900000.0</td>\n",
       "      <td>Yes</td>\n",
       "      <td>No</td>\n",
       "      <td>3500000.0</td>\n",
       "      <td>Yes</td>\n",
       "      <td>1000000.0</td>\n",
       "    </tr>\n",
       "    <tr>\n",
       "      <th>6</th>\n",
       "      <td>7</td>\n",
       "      <td>Alexis Zapata</td>\n",
       "      <td>Attacking Midfield</td>\n",
       "      <td>18</td>\n",
       "      <td>13/14</td>\n",
       "      <td>Liga Águila II</td>\n",
       "      <td>Envigado</td>\n",
       "      <td>LaLiga</td>\n",
       "      <td>Granada CF</td>\n",
       "      <td>1,18 Mill. €</td>\n",
       "      <td>NaN</td>\n",
       "      <td>Yes</td>\n",
       "      <td>No</td>\n",
       "      <td>700000.0</td>\n",
       "      <td>Yes</td>\n",
       "      <td>NaN</td>\n",
       "    </tr>\n",
       "    <tr>\n",
       "      <th>7</th>\n",
       "      <td>8</td>\n",
       "      <td>Allan</td>\n",
       "      <td>Central Midfield</td>\n",
       "      <td>21</td>\n",
       "      <td>12/13</td>\n",
       "      <td>Segunda División</td>\n",
       "      <td>Maldonado</td>\n",
       "      <td>LaLiga</td>\n",
       "      <td>Granada CF</td>\n",
       "      <td>3,00 Mill. €</td>\n",
       "      <td>3000000.0</td>\n",
       "      <td>Yes</td>\n",
       "      <td>Yes</td>\n",
       "      <td>11500000.0</td>\n",
       "      <td>Yes</td>\n",
       "      <td>3000000.0</td>\n",
       "    </tr>\n",
       "    <tr>\n",
       "      <th>8</th>\n",
       "      <td>9</td>\n",
       "      <td>Álvaro González</td>\n",
       "      <td>Central Midfield</td>\n",
       "      <td>25</td>\n",
       "      <td>10/11</td>\n",
       "      <td>Primera División</td>\n",
       "      <td>Nacional</td>\n",
       "      <td>Serie A</td>\n",
       "      <td>Lazio</td>\n",
       "      <td>2,00 Mill. €</td>\n",
       "      <td>800000.0</td>\n",
       "      <td>Yes</td>\n",
       "      <td>No</td>\n",
       "      <td>7500000.0</td>\n",
       "      <td>No</td>\n",
       "      <td>NaN</td>\n",
       "    </tr>\n",
       "    <tr>\n",
       "      <th>9</th>\n",
       "      <td>10</td>\n",
       "      <td>André Dias</td>\n",
       "      <td>Centre-Back</td>\n",
       "      <td>30</td>\n",
       "      <td>09/10</td>\n",
       "      <td>Série A</td>\n",
       "      <td>São Paulo</td>\n",
       "      <td>Serie A</td>\n",
       "      <td>Lazio</td>\n",
       "      <td>2,50 Mill. €</td>\n",
       "      <td>NaN</td>\n",
       "      <td>NaN</td>\n",
       "      <td>NaN</td>\n",
       "      <td>NaN</td>\n",
       "      <td>NaN</td>\n",
       "      <td>NaN</td>\n",
       "    </tr>\n",
       "    <tr>\n",
       "      <th>10</th>\n",
       "      <td>11</td>\n",
       "      <td>Ángelo Henríquez</td>\n",
       "      <td>Centre-Forward</td>\n",
       "      <td>18</td>\n",
       "      <td>12/13</td>\n",
       "      <td>Primera División</td>\n",
       "      <td>U. de Chile</td>\n",
       "      <td>Premier League</td>\n",
       "      <td>Man Utd</td>\n",
       "      <td>5,50 Mill. €</td>\n",
       "      <td>150000.0</td>\n",
       "      <td>Yes</td>\n",
       "      <td>No</td>\n",
       "      <td>5500000.0</td>\n",
       "      <td>Yes</td>\n",
       "      <td>1670000.0</td>\n",
       "    </tr>\n",
       "    <tr>\n",
       "      <th>11</th>\n",
       "      <td>12</td>\n",
       "      <td>Anselmo</td>\n",
       "      <td>Defensive Midfield</td>\n",
       "      <td>23</td>\n",
       "      <td>12/13</td>\n",
       "      <td>Série A</td>\n",
       "      <td>Palmeiras</td>\n",
       "      <td>Serie A</td>\n",
       "      <td>Genoa</td>\n",
       "      <td>900 Th. €</td>\n",
       "      <td>900000.0</td>\n",
       "      <td>Yes</td>\n",
       "      <td>Yes</td>\n",
       "      <td>1250000.0</td>\n",
       "      <td>Yes</td>\n",
       "      <td>0.0</td>\n",
       "    </tr>\n",
       "    <tr>\n",
       "      <th>12</th>\n",
       "      <td>13</td>\n",
       "      <td>Augusto Fernández</td>\n",
       "      <td>Central Midfield</td>\n",
       "      <td>26</td>\n",
       "      <td>12/13</td>\n",
       "      <td>Torneo Final</td>\n",
       "      <td>Vélez Sarsfield</td>\n",
       "      <td>LaLiga</td>\n",
       "      <td>Celta de Vigo</td>\n",
       "      <td>1,50 Mill. €</td>\n",
       "      <td>2500000.0</td>\n",
       "      <td>No</td>\n",
       "      <td>No</td>\n",
       "      <td>8000000.0</td>\n",
       "      <td>Yes</td>\n",
       "      <td>4000000.0</td>\n",
       "    </tr>\n",
       "    <tr>\n",
       "      <th>13</th>\n",
       "      <td>14</td>\n",
       "      <td>Bamba Anderson</td>\n",
       "      <td>Centre-Back</td>\n",
       "      <td>22</td>\n",
       "      <td>10/11</td>\n",
       "      <td>Brazil</td>\n",
       "      <td>Tombense</td>\n",
       "      <td>Bundesliga</td>\n",
       "      <td>Bor. M'gladbach</td>\n",
       "      <td>1,50 Mill. €</td>\n",
       "      <td>2000000.0</td>\n",
       "      <td>No</td>\n",
       "      <td>Yes</td>\n",
       "      <td>3000000.0</td>\n",
       "      <td>Yes</td>\n",
       "      <td>800000.0</td>\n",
       "    </tr>\n",
       "    <tr>\n",
       "      <th>14</th>\n",
       "      <td>15</td>\n",
       "      <td>Braian Rodríguez</td>\n",
       "      <td>Centre-Forward</td>\n",
       "      <td>26</td>\n",
       "      <td>13/14</td>\n",
       "      <td>Primera División</td>\n",
       "      <td>Huachipato FC</td>\n",
       "      <td>LaLiga</td>\n",
       "      <td>Real Betis</td>\n",
       "      <td>1,00 Mill. €</td>\n",
       "      <td>600000.0</td>\n",
       "      <td>Yes</td>\n",
       "      <td>No</td>\n",
       "      <td>1000000.0</td>\n",
       "      <td>Yes</td>\n",
       "      <td>0.0</td>\n",
       "    </tr>\n",
       "    <tr>\n",
       "      <th>15</th>\n",
       "      <td>16</td>\n",
       "      <td>Brayan Perea</td>\n",
       "      <td>Centre-Forward</td>\n",
       "      <td>20</td>\n",
       "      <td>13/14</td>\n",
       "      <td>Liga Águila II</td>\n",
       "      <td>Deportivo Cali</td>\n",
       "      <td>Serie A</td>\n",
       "      <td>Lazio</td>\n",
       "      <td>2,30 Mill. €</td>\n",
       "      <td>2000000.0</td>\n",
       "      <td>Yes</td>\n",
       "      <td>No</td>\n",
       "      <td>2800000.0</td>\n",
       "      <td>No</td>\n",
       "      <td>NaN</td>\n",
       "    </tr>\n",
       "    <tr>\n",
       "      <th>16</th>\n",
       "      <td>17</td>\n",
       "      <td>Bruno Nazário</td>\n",
       "      <td>Left Winger</td>\n",
       "      <td>18</td>\n",
       "      <td>13/14</td>\n",
       "      <td>Brazil</td>\n",
       "      <td>Tombense</td>\n",
       "      <td>Bundesliga</td>\n",
       "      <td>TSG Hoffenheim</td>\n",
       "      <td>1,50 Mill. €</td>\n",
       "      <td>NaN</td>\n",
       "      <td>Yes</td>\n",
       "      <td>Yes</td>\n",
       "      <td>600000.0</td>\n",
       "      <td>No</td>\n",
       "      <td>NaN</td>\n",
       "    </tr>\n",
       "    <tr>\n",
       "      <th>17</th>\n",
       "      <td>18</td>\n",
       "      <td>Bruno Uvini</td>\n",
       "      <td>Centre-Back</td>\n",
       "      <td>21</td>\n",
       "      <td>12/13</td>\n",
       "      <td>Série A</td>\n",
       "      <td>São Paulo</td>\n",
       "      <td>Serie A</td>\n",
       "      <td>SSC Napoli</td>\n",
       "      <td>3,00 Mill. €</td>\n",
       "      <td>1000000.0</td>\n",
       "      <td>No</td>\n",
       "      <td>Yes</td>\n",
       "      <td>3000000.0</td>\n",
       "      <td>Yes</td>\n",
       "      <td>NaN</td>\n",
       "    </tr>\n",
       "    <tr>\n",
       "      <th>18</th>\n",
       "      <td>19</td>\n",
       "      <td>Carlinhos</td>\n",
       "      <td>Attacking Midfield</td>\n",
       "      <td>18</td>\n",
       "      <td>12/13</td>\n",
       "      <td>Brazil</td>\n",
       "      <td>Desp. Brasil</td>\n",
       "      <td>Bundesliga</td>\n",
       "      <td>Bay. Leverkusen</td>\n",
       "      <td>Loan fee:100 Th. €</td>\n",
       "      <td>NaN</td>\n",
       "      <td>NaN</td>\n",
       "      <td>NaN</td>\n",
       "      <td>NaN</td>\n",
       "      <td>NaN</td>\n",
       "      <td>NaN</td>\n",
       "    </tr>\n",
       "    <tr>\n",
       "      <th>19</th>\n",
       "      <td>20</td>\n",
       "      <td>Carlos Labrín</td>\n",
       "      <td>Centre-Back</td>\n",
       "      <td>20</td>\n",
       "      <td>11/12</td>\n",
       "      <td>Primera División</td>\n",
       "      <td>Huachipato FC</td>\n",
       "      <td>Serie A</td>\n",
       "      <td>Palermo</td>\n",
       "      <td>1,35 Mill. €</td>\n",
       "      <td>400000.0</td>\n",
       "      <td>Yes</td>\n",
       "      <td>No</td>\n",
       "      <td>750000.0</td>\n",
       "      <td>Yes</td>\n",
       "      <td>0.0</td>\n",
       "    </tr>\n",
       "    <tr>\n",
       "      <th>20</th>\n",
       "      <td>21</td>\n",
       "      <td>Casemiro</td>\n",
       "      <td>Defensive Midfield</td>\n",
       "      <td>21</td>\n",
       "      <td>13/14</td>\n",
       "      <td>Série A</td>\n",
       "      <td>São Paulo</td>\n",
       "      <td>LaLiga</td>\n",
       "      <td>Real Madrid</td>\n",
       "      <td>6,00 Mill. €</td>\n",
       "      <td>6000000.0</td>\n",
       "      <td>No</td>\n",
       "      <td>Yes</td>\n",
       "      <td>30000000.0</td>\n",
       "      <td>No</td>\n",
       "      <td>NaN</td>\n",
       "    </tr>\n",
       "    <tr>\n",
       "      <th>21</th>\n",
       "      <td>22</td>\n",
       "      <td>Charles Aránguiz</td>\n",
       "      <td>Central Midfield</td>\n",
       "      <td>24</td>\n",
       "      <td>13/14</td>\n",
       "      <td>Primera División</td>\n",
       "      <td>U. de Chile</td>\n",
       "      <td>Serie A</td>\n",
       "      <td>Udinese Calcio</td>\n",
       "      <td>4,00 Mill. €</td>\n",
       "      <td>2200000.0</td>\n",
       "      <td>Yes</td>\n",
       "      <td>No</td>\n",
       "      <td>9500000.0</td>\n",
       "      <td>Yes</td>\n",
       "      <td>8000000.0</td>\n",
       "    </tr>\n",
       "    <tr>\n",
       "      <th>22</th>\n",
       "      <td>23</td>\n",
       "      <td>Cícero</td>\n",
       "      <td>Central Midfield</td>\n",
       "      <td>25</td>\n",
       "      <td>10/11</td>\n",
       "      <td>Brazil</td>\n",
       "      <td>Tombense</td>\n",
       "      <td>Bundesliga</td>\n",
       "      <td>VfL Wolfsburg</td>\n",
       "      <td>Loan fee:800 Th. €</td>\n",
       "      <td>NaN</td>\n",
       "      <td>NaN</td>\n",
       "      <td>NaN</td>\n",
       "      <td>NaN</td>\n",
       "      <td>NaN</td>\n",
       "      <td>NaN</td>\n",
       "    </tr>\n",
       "    <tr>\n",
       "      <th>23</th>\n",
       "      <td>24</td>\n",
       "      <td>Cicinho</td>\n",
       "      <td>Right-Back</td>\n",
       "      <td>26</td>\n",
       "      <td>12/13</td>\n",
       "      <td>Série A</td>\n",
       "      <td>Palmeiras</td>\n",
       "      <td>LaLiga</td>\n",
       "      <td>Sevilla FC</td>\n",
       "      <td>2,00 Mill. €</td>\n",
       "      <td>2000000.0</td>\n",
       "      <td>Yes</td>\n",
       "      <td>No</td>\n",
       "      <td>4000000.0</td>\n",
       "      <td>Yes</td>\n",
       "      <td>0.0</td>\n",
       "    </tr>\n",
       "    <tr>\n",
       "      <th>24</th>\n",
       "      <td>25</td>\n",
       "      <td>Claiton</td>\n",
       "      <td>Centre-Back</td>\n",
       "      <td>28</td>\n",
       "      <td>13/14</td>\n",
       "      <td>Serie B</td>\n",
       "      <td>Bari</td>\n",
       "      <td>Serie A</td>\n",
       "      <td>Chievo Verona</td>\n",
       "      <td>100 Th. €</td>\n",
       "      <td>NaN</td>\n",
       "      <td>NaN</td>\n",
       "      <td>NaN</td>\n",
       "      <td>NaN</td>\n",
       "      <td>NaN</td>\n",
       "      <td>NaN</td>\n",
       "    </tr>\n",
       "    <tr>\n",
       "      <th>25</th>\n",
       "      <td>26</td>\n",
       "      <td>Cristian Chávez</td>\n",
       "      <td>Left Winger</td>\n",
       "      <td>24</td>\n",
       "      <td>11/12</td>\n",
       "      <td>Torneo Final</td>\n",
       "      <td>San Lorenzo</td>\n",
       "      <td>Serie A</td>\n",
       "      <td>SSC Napoli</td>\n",
       "      <td>1,30 Mill. €</td>\n",
       "      <td>800000.0</td>\n",
       "      <td>Yes</td>\n",
       "      <td>Yes</td>\n",
       "      <td>NaN</td>\n",
       "      <td>Yes</td>\n",
       "      <td>0.0</td>\n",
       "    </tr>\n",
       "    <tr>\n",
       "      <th>26</th>\n",
       "      <td>27</td>\n",
       "      <td>Cristian Cuevas</td>\n",
       "      <td>Left-Back</td>\n",
       "      <td>18</td>\n",
       "      <td>13/14</td>\n",
       "      <td>Primera División</td>\n",
       "      <td>O'Higgins</td>\n",
       "      <td>Premier League</td>\n",
       "      <td>Chelsea</td>\n",
       "      <td>1,90 Mill. €</td>\n",
       "      <td>75000.0</td>\n",
       "      <td>Yes</td>\n",
       "      <td>No</td>\n",
       "      <td>1700000.0</td>\n",
       "      <td>No</td>\n",
       "      <td>NaN</td>\n",
       "    </tr>\n",
       "    <tr>\n",
       "      <th>27</th>\n",
       "      <td>28</td>\n",
       "      <td>Cristóbal Jorquera</td>\n",
       "      <td>Attacking Midfield</td>\n",
       "      <td>23</td>\n",
       "      <td>11/12</td>\n",
       "      <td>Primera División</td>\n",
       "      <td>Colo Colo</td>\n",
       "      <td>Serie A</td>\n",
       "      <td>Genoa</td>\n",
       "      <td>1,73 Mill. €</td>\n",
       "      <td>1400000.0</td>\n",
       "      <td>Yes</td>\n",
       "      <td>No</td>\n",
       "      <td>2000000.0</td>\n",
       "      <td>Yes</td>\n",
       "      <td>0.0</td>\n",
       "    </tr>\n",
       "    <tr>\n",
       "      <th>28</th>\n",
       "      <td>29</td>\n",
       "      <td>Damián Suárez</td>\n",
       "      <td>Right-Back</td>\n",
       "      <td>23</td>\n",
       "      <td>11/12</td>\n",
       "      <td>Primera División</td>\n",
       "      <td>Defensor</td>\n",
       "      <td>LaLiga</td>\n",
       "      <td>Sporting Gijón</td>\n",
       "      <td>500 Th. €</td>\n",
       "      <td>450000.0</td>\n",
       "      <td>Yes</td>\n",
       "      <td>No</td>\n",
       "      <td>3000000.0</td>\n",
       "      <td>Yes</td>\n",
       "      <td>0.0</td>\n",
       "    </tr>\n",
       "    <tr>\n",
       "      <th>29</th>\n",
       "      <td>30</td>\n",
       "      <td>Danilo</td>\n",
       "      <td>Centre-Back</td>\n",
       "      <td>27</td>\n",
       "      <td>11/12</td>\n",
       "      <td>Brazil</td>\n",
       "      <td>Desp. Brasil</td>\n",
       "      <td>Serie A</td>\n",
       "      <td>Udinese Calcio</td>\n",
       "      <td>2,00 Mill. €</td>\n",
       "      <td>3500000.0</td>\n",
       "      <td>Yes</td>\n",
       "      <td>No</td>\n",
       "      <td>75000000.0</td>\n",
       "      <td>No</td>\n",
       "      <td>NaN</td>\n",
       "    </tr>\n",
       "    <tr>\n",
       "      <th>...</th>\n",
       "      <td>...</td>\n",
       "      <td>...</td>\n",
       "      <td>...</td>\n",
       "      <td>...</td>\n",
       "      <td>...</td>\n",
       "      <td>...</td>\n",
       "      <td>...</td>\n",
       "      <td>...</td>\n",
       "      <td>...</td>\n",
       "      <td>...</td>\n",
       "      <td>...</td>\n",
       "      <td>...</td>\n",
       "      <td>...</td>\n",
       "      <td>...</td>\n",
       "      <td>...</td>\n",
       "      <td>...</td>\n",
       "    </tr>\n",
       "    <tr>\n",
       "      <th>170</th>\n",
       "      <td>171</td>\n",
       "      <td>Paulo Dybala</td>\n",
       "      <td>Second Striker</td>\n",
       "      <td>18</td>\n",
       "      <td>12/13</td>\n",
       "      <td>Primera Nacional</td>\n",
       "      <td>Instituto AC</td>\n",
       "      <td>Serie A</td>\n",
       "      <td>Palermo</td>\n",
       "      <td>11,90 Mill. €</td>\n",
       "      <td>2000000.0</td>\n",
       "      <td>Yes</td>\n",
       "      <td>No</td>\n",
       "      <td>45000000.0</td>\n",
       "      <td>Yes</td>\n",
       "      <td>40000000.0</td>\n",
       "    </tr>\n",
       "    <tr>\n",
       "      <th>171</th>\n",
       "      <td>172</td>\n",
       "      <td>Rafael</td>\n",
       "      <td>Goalkeeper</td>\n",
       "      <td>23</td>\n",
       "      <td>13/14</td>\n",
       "      <td>Série A</td>\n",
       "      <td>Santos FC</td>\n",
       "      <td>Serie A</td>\n",
       "      <td>SSC Napoli</td>\n",
       "      <td>5,00 Mill. €</td>\n",
       "      <td>4000000.0</td>\n",
       "      <td>Yes</td>\n",
       "      <td>No</td>\n",
       "      <td>NaN</td>\n",
       "      <td>Yes</td>\n",
       "      <td>0.0</td>\n",
       "    </tr>\n",
       "    <tr>\n",
       "      <th>172</th>\n",
       "      <td>173</td>\n",
       "      <td>Rafael Santos</td>\n",
       "      <td>Centre-Back</td>\n",
       "      <td>24</td>\n",
       "      <td>09/10</td>\n",
       "      <td>Série A</td>\n",
       "      <td>Athletico-PR</td>\n",
       "      <td>Serie A</td>\n",
       "      <td>Bologna</td>\n",
       "      <td>Loan fee:300 Th. €</td>\n",
       "      <td>NaN</td>\n",
       "      <td>NaN</td>\n",
       "      <td>NaN</td>\n",
       "      <td>NaN</td>\n",
       "      <td>NaN</td>\n",
       "      <td>NaN</td>\n",
       "    </tr>\n",
       "    <tr>\n",
       "      <th>173</th>\n",
       "      <td>174</td>\n",
       "      <td>Raphael Martinho</td>\n",
       "      <td>Left Midfield</td>\n",
       "      <td>22</td>\n",
       "      <td>10/11</td>\n",
       "      <td>Brazil</td>\n",
       "      <td>Monte Alegre Futebol Clube (SP)</td>\n",
       "      <td>Serie A</td>\n",
       "      <td>Catania</td>\n",
       "      <td>200 Th. €</td>\n",
       "      <td>NaN</td>\n",
       "      <td>Yes</td>\n",
       "      <td>Yes</td>\n",
       "      <td>2000000.0</td>\n",
       "      <td>Yes</td>\n",
       "      <td>900000.0</td>\n",
       "    </tr>\n",
       "    <tr>\n",
       "      <th>174</th>\n",
       "      <td>175</td>\n",
       "      <td>Réver</td>\n",
       "      <td>Centre-Back</td>\n",
       "      <td>25</td>\n",
       "      <td>09/10</td>\n",
       "      <td>Série A</td>\n",
       "      <td>Grêmio</td>\n",
       "      <td>Bundesliga</td>\n",
       "      <td>VfL Wolfsburg</td>\n",
       "      <td>5,00 Mill. €</td>\n",
       "      <td>5500000.0</td>\n",
       "      <td>Yes</td>\n",
       "      <td>No</td>\n",
       "      <td>NaN</td>\n",
       "      <td>Yes</td>\n",
       "      <td>3000000.0</td>\n",
       "    </tr>\n",
       "    <tr>\n",
       "      <th>175</th>\n",
       "      <td>176</td>\n",
       "      <td>Ricardo Álvarez</td>\n",
       "      <td>Attacking Midfield</td>\n",
       "      <td>23</td>\n",
       "      <td>11/12</td>\n",
       "      <td>Torneo Final</td>\n",
       "      <td>Vélez Sarsfield</td>\n",
       "      <td>Serie A</td>\n",
       "      <td>Inter</td>\n",
       "      <td>10,50 Mill. €</td>\n",
       "      <td>3500000.0</td>\n",
       "      <td>Yes</td>\n",
       "      <td>No</td>\n",
       "      <td>16500000.0</td>\n",
       "      <td>Yes</td>\n",
       "      <td>10500000.0</td>\n",
       "    </tr>\n",
       "    <tr>\n",
       "      <th>176</th>\n",
       "      <td>177</td>\n",
       "      <td>Roberto Firmino</td>\n",
       "      <td>Centre-Forward</td>\n",
       "      <td>19</td>\n",
       "      <td>10/11</td>\n",
       "      <td>Brazil</td>\n",
       "      <td>Tombense</td>\n",
       "      <td>Bundesliga</td>\n",
       "      <td>TSG Hoffenheim</td>\n",
       "      <td>4,00 Mill. €</td>\n",
       "      <td>NaN</td>\n",
       "      <td>Yes</td>\n",
       "      <td>Yes</td>\n",
       "      <td>25000000.0</td>\n",
       "      <td>No</td>\n",
       "      <td>NaN</td>\n",
       "    </tr>\n",
       "    <tr>\n",
       "      <th>177</th>\n",
       "      <td>178</td>\n",
       "      <td>Rodrigo Palacio</td>\n",
       "      <td>Centre-Forward</td>\n",
       "      <td>27</td>\n",
       "      <td>09/10</td>\n",
       "      <td>Torneo Final</td>\n",
       "      <td>Boca Juniors</td>\n",
       "      <td>Serie A</td>\n",
       "      <td>Genoa</td>\n",
       "      <td>4,90 Mill. €</td>\n",
       "      <td>9500000.0</td>\n",
       "      <td>Yes</td>\n",
       "      <td>No</td>\n",
       "      <td>12500000.0</td>\n",
       "      <td>Yes</td>\n",
       "      <td>10500000.0</td>\n",
       "    </tr>\n",
       "    <tr>\n",
       "      <th>178</th>\n",
       "      <td>179</td>\n",
       "      <td>Roger Carvalho</td>\n",
       "      <td>Centre-Back</td>\n",
       "      <td>25</td>\n",
       "      <td>12/13</td>\n",
       "      <td>Brazil</td>\n",
       "      <td>Tombense</td>\n",
       "      <td>Serie A</td>\n",
       "      <td>Bologna</td>\n",
       "      <td>Loan fee:300 Th. €</td>\n",
       "      <td>NaN</td>\n",
       "      <td>NaN</td>\n",
       "      <td>NaN</td>\n",
       "      <td>NaN</td>\n",
       "      <td>NaN</td>\n",
       "      <td>NaN</td>\n",
       "    </tr>\n",
       "    <tr>\n",
       "      <th>179</th>\n",
       "      <td>180</td>\n",
       "      <td>Sandro</td>\n",
       "      <td>Defensive Midfield</td>\n",
       "      <td>21</td>\n",
       "      <td>10/11</td>\n",
       "      <td>Série A</td>\n",
       "      <td>Internacional</td>\n",
       "      <td>Premier League</td>\n",
       "      <td>Spurs</td>\n",
       "      <td>10,00 Mill. €</td>\n",
       "      <td>9000000.0</td>\n",
       "      <td>Yes</td>\n",
       "      <td>No</td>\n",
       "      <td>17000000.0</td>\n",
       "      <td>Yes</td>\n",
       "      <td>7500000.0</td>\n",
       "    </tr>\n",
       "    <tr>\n",
       "      <th>180</th>\n",
       "      <td>181</td>\n",
       "      <td>Sandro Silva</td>\n",
       "      <td>Defensive Midfield</td>\n",
       "      <td>26</td>\n",
       "      <td>10/11</td>\n",
       "      <td>Brazil</td>\n",
       "      <td>Desp. Brasil</td>\n",
       "      <td>LaLiga</td>\n",
       "      <td>Málaga CF</td>\n",
       "      <td>2,20 Mill. €</td>\n",
       "      <td>1000000.0</td>\n",
       "      <td>Yes</td>\n",
       "      <td>No</td>\n",
       "      <td>2000000.0</td>\n",
       "      <td>Yes</td>\n",
       "      <td>NaN</td>\n",
       "    </tr>\n",
       "    <tr>\n",
       "      <th>181</th>\n",
       "      <td>182</td>\n",
       "      <td>Santiago García</td>\n",
       "      <td>Left-Back</td>\n",
       "      <td>22</td>\n",
       "      <td>10/11</td>\n",
       "      <td>Primera Nacional</td>\n",
       "      <td>CA Rosario</td>\n",
       "      <td>Serie A</td>\n",
       "      <td>Palermo</td>\n",
       "      <td>1,60 Mill. €</td>\n",
       "      <td>300000.0</td>\n",
       "      <td>Yes</td>\n",
       "      <td>No</td>\n",
       "      <td>2000000.0</td>\n",
       "      <td>Yes</td>\n",
       "      <td>NaN</td>\n",
       "    </tr>\n",
       "    <tr>\n",
       "      <th>182</th>\n",
       "      <td>183</td>\n",
       "      <td>Santiago García</td>\n",
       "      <td>Left-Back</td>\n",
       "      <td>25</td>\n",
       "      <td>13/14</td>\n",
       "      <td>Primera División</td>\n",
       "      <td>Rangers Talca</td>\n",
       "      <td>Bundesliga</td>\n",
       "      <td>Werder Bremen</td>\n",
       "      <td>Loan fee:500 Th. €</td>\n",
       "      <td>300000.0</td>\n",
       "      <td>Yes</td>\n",
       "      <td>No</td>\n",
       "      <td>2000000.0</td>\n",
       "      <td>Yes</td>\n",
       "      <td>NaN</td>\n",
       "    </tr>\n",
       "    <tr>\n",
       "      <th>183</th>\n",
       "      <td>184</td>\n",
       "      <td>Santiago Silva</td>\n",
       "      <td>Centre-Forward</td>\n",
       "      <td>30</td>\n",
       "      <td>11/12</td>\n",
       "      <td>Torneo Final</td>\n",
       "      <td>Vélez Sarsfield</td>\n",
       "      <td>Serie A</td>\n",
       "      <td>Fiorentina</td>\n",
       "      <td>1,70 Mill. €</td>\n",
       "      <td>2500000.0</td>\n",
       "      <td>No</td>\n",
       "      <td>No</td>\n",
       "      <td>NaN</td>\n",
       "      <td>Yes</td>\n",
       "      <td>1400000.0</td>\n",
       "    </tr>\n",
       "    <tr>\n",
       "      <th>184</th>\n",
       "      <td>185</td>\n",
       "      <td>Sebastián Coates</td>\n",
       "      <td>Centre-Back</td>\n",
       "      <td>20</td>\n",
       "      <td>11/12</td>\n",
       "      <td>Primera División</td>\n",
       "      <td>Nacional</td>\n",
       "      <td>Premier League</td>\n",
       "      <td>Liverpool</td>\n",
       "      <td>8,00 Mill. €</td>\n",
       "      <td>2500000.0</td>\n",
       "      <td>Yes</td>\n",
       "      <td>No</td>\n",
       "      <td>NaN</td>\n",
       "      <td>Yes</td>\n",
       "      <td>2800000.0</td>\n",
       "    </tr>\n",
       "    <tr>\n",
       "      <th>185</th>\n",
       "      <td>186</td>\n",
       "      <td>Sebastián Cristóforo</td>\n",
       "      <td>Central Midfield</td>\n",
       "      <td>19</td>\n",
       "      <td>13/14</td>\n",
       "      <td>Primera División</td>\n",
       "      <td>Peñarol</td>\n",
       "      <td>LaLiga</td>\n",
       "      <td>Sevilla FC</td>\n",
       "      <td>2,25 Mill. €</td>\n",
       "      <td>600000.0</td>\n",
       "      <td>Yes</td>\n",
       "      <td>No</td>\n",
       "      <td>2700000.0</td>\n",
       "      <td>Yes</td>\n",
       "      <td>2500000.0</td>\n",
       "    </tr>\n",
       "    <tr>\n",
       "      <th>186</th>\n",
       "      <td>187</td>\n",
       "      <td>Sebastián Fernández</td>\n",
       "      <td>Second Striker</td>\n",
       "      <td>25</td>\n",
       "      <td>10/11</td>\n",
       "      <td>Torneo Final</td>\n",
       "      <td>CA Banfield</td>\n",
       "      <td>LaLiga</td>\n",
       "      <td>Málaga CF</td>\n",
       "      <td>3,60 Mill. €</td>\n",
       "      <td>2500000.0</td>\n",
       "      <td>Yes</td>\n",
       "      <td>No</td>\n",
       "      <td>3600000.0</td>\n",
       "      <td>Yes</td>\n",
       "      <td>0.0</td>\n",
       "    </tr>\n",
       "    <tr>\n",
       "      <th>187</th>\n",
       "      <td>188</td>\n",
       "      <td>Silvio Romero</td>\n",
       "      <td>Centre-Forward</td>\n",
       "      <td>25</td>\n",
       "      <td>13/14</td>\n",
       "      <td>Torneo Final</td>\n",
       "      <td>Lanús</td>\n",
       "      <td>Ligue 1</td>\n",
       "      <td>Stade Rennais</td>\n",
       "      <td>Loan fee:500 Th. €</td>\n",
       "      <td>NaN</td>\n",
       "      <td>NaN</td>\n",
       "      <td>NaN</td>\n",
       "      <td>NaN</td>\n",
       "      <td>NaN</td>\n",
       "      <td>NaN</td>\n",
       "    </tr>\n",
       "    <tr>\n",
       "      <th>188</th>\n",
       "      <td>189</td>\n",
       "      <td>Thiago Ribeiro</td>\n",
       "      <td>Left Winger</td>\n",
       "      <td>26</td>\n",
       "      <td>12/13</td>\n",
       "      <td>Segunda División</td>\n",
       "      <td>Rentistas</td>\n",
       "      <td>Serie A</td>\n",
       "      <td>Cagliari Calcio</td>\n",
       "      <td>2,00 Mill. €</td>\n",
       "      <td>3000000.0</td>\n",
       "      <td>No</td>\n",
       "      <td>Yes</td>\n",
       "      <td>3500000.0</td>\n",
       "      <td>Yes</td>\n",
       "      <td>3500000.0</td>\n",
       "    </tr>\n",
       "    <tr>\n",
       "      <th>189</th>\n",
       "      <td>190</td>\n",
       "      <td>Thiago Ribeiro</td>\n",
       "      <td>Left Winger</td>\n",
       "      <td>25</td>\n",
       "      <td>11/12</td>\n",
       "      <td>Primera División</td>\n",
       "      <td>Rentistas</td>\n",
       "      <td>Serie A</td>\n",
       "      <td>Cagliari Calcio</td>\n",
       "      <td>Loan fee:1,50 Mill. €</td>\n",
       "      <td>3000000.0</td>\n",
       "      <td>No</td>\n",
       "      <td>Yes</td>\n",
       "      <td>3500000.0</td>\n",
       "      <td>Yes</td>\n",
       "      <td>3500000.0</td>\n",
       "    </tr>\n",
       "    <tr>\n",
       "      <th>190</th>\n",
       "      <td>191</td>\n",
       "      <td>Víctor Ibarbo</td>\n",
       "      <td>Second Striker</td>\n",
       "      <td>21</td>\n",
       "      <td>11/12</td>\n",
       "      <td>Liga Águila II</td>\n",
       "      <td>Atl. Nacional</td>\n",
       "      <td>Serie A</td>\n",
       "      <td>Cagliari Calcio</td>\n",
       "      <td>2,00 Mill. €</td>\n",
       "      <td>900000.0</td>\n",
       "      <td>Yes</td>\n",
       "      <td>No</td>\n",
       "      <td>8500000.0</td>\n",
       "      <td>No</td>\n",
       "      <td>NaN</td>\n",
       "    </tr>\n",
       "    <tr>\n",
       "      <th>191</th>\n",
       "      <td>192</td>\n",
       "      <td>Vinícius Araújo</td>\n",
       "      <td>Centre-Forward</td>\n",
       "      <td>20</td>\n",
       "      <td>13/14</td>\n",
       "      <td>Série A</td>\n",
       "      <td>Cruzeiro</td>\n",
       "      <td>LaLiga</td>\n",
       "      <td>Valencia</td>\n",
       "      <td>3,50 Mill. €</td>\n",
       "      <td>1000000.0</td>\n",
       "      <td>Yes</td>\n",
       "      <td>No</td>\n",
       "      <td>3500000.0</td>\n",
       "      <td>Yes</td>\n",
       "      <td>0.0</td>\n",
       "    </tr>\n",
       "    <tr>\n",
       "      <th>192</th>\n",
       "      <td>193</td>\n",
       "      <td>Waldo Ponce</td>\n",
       "      <td>Centre-Back</td>\n",
       "      <td>27</td>\n",
       "      <td>10/11</td>\n",
       "      <td>Primera División</td>\n",
       "      <td>O'Higgins</td>\n",
       "      <td>LaLiga</td>\n",
       "      <td>Racing</td>\n",
       "      <td>Loan fee:315 Th. €</td>\n",
       "      <td>NaN</td>\n",
       "      <td>NaN</td>\n",
       "      <td>NaN</td>\n",
       "      <td>NaN</td>\n",
       "      <td>NaN</td>\n",
       "      <td>NaN</td>\n",
       "    </tr>\n",
       "    <tr>\n",
       "      <th>193</th>\n",
       "      <td>194</td>\n",
       "      <td>Wallace Oliveira</td>\n",
       "      <td>Right-Back</td>\n",
       "      <td>18</td>\n",
       "      <td>12/13</td>\n",
       "      <td>Série A</td>\n",
       "      <td>Fluminense</td>\n",
       "      <td>Premier League</td>\n",
       "      <td>Chelsea</td>\n",
       "      <td>5,40 Mill. €</td>\n",
       "      <td>2000000.0</td>\n",
       "      <td>Yes</td>\n",
       "      <td>No</td>\n",
       "      <td>7500000.0</td>\n",
       "      <td>No</td>\n",
       "      <td>NaN</td>\n",
       "    </tr>\n",
       "    <tr>\n",
       "      <th>194</th>\n",
       "      <td>195</td>\n",
       "      <td>Wellington Silva</td>\n",
       "      <td>Right Winger</td>\n",
       "      <td>18</td>\n",
       "      <td>10/11</td>\n",
       "      <td>Série A</td>\n",
       "      <td>Fluminense</td>\n",
       "      <td>Premier League</td>\n",
       "      <td>Arsenal</td>\n",
       "      <td>4,00 Mill. €</td>\n",
       "      <td>800000.0</td>\n",
       "      <td>Yes</td>\n",
       "      <td>No</td>\n",
       "      <td>2000000.0</td>\n",
       "      <td>Yes</td>\n",
       "      <td>3000000.0</td>\n",
       "    </tr>\n",
       "    <tr>\n",
       "      <th>195</th>\n",
       "      <td>196</td>\n",
       "      <td>Wesley</td>\n",
       "      <td>Central Midfield</td>\n",
       "      <td>23</td>\n",
       "      <td>10/11</td>\n",
       "      <td>Série A</td>\n",
       "      <td>Santos FC</td>\n",
       "      <td>Bundesliga</td>\n",
       "      <td>Werder Bremen</td>\n",
       "      <td>7,50 Mill. €</td>\n",
       "      <td>6000000.0</td>\n",
       "      <td>Yes</td>\n",
       "      <td>No</td>\n",
       "      <td>8000000.0</td>\n",
       "      <td>Yes</td>\n",
       "      <td>6000000.0</td>\n",
       "    </tr>\n",
       "    <tr>\n",
       "      <th>196</th>\n",
       "      <td>197</td>\n",
       "      <td>Willians</td>\n",
       "      <td>Defensive Midfield</td>\n",
       "      <td>26</td>\n",
       "      <td>12/13</td>\n",
       "      <td>Série A</td>\n",
       "      <td>Flamengo</td>\n",
       "      <td>Serie A</td>\n",
       "      <td>Udinese Calcio</td>\n",
       "      <td>3,00 Mill. €</td>\n",
       "      <td>3500000.0</td>\n",
       "      <td>Yes</td>\n",
       "      <td>No</td>\n",
       "      <td>NaN</td>\n",
       "      <td>Yes</td>\n",
       "      <td>2000000.0</td>\n",
       "    </tr>\n",
       "    <tr>\n",
       "      <th>197</th>\n",
       "      <td>198</td>\n",
       "      <td>Zé Eduardo</td>\n",
       "      <td>Defensive Midfield</td>\n",
       "      <td>18</td>\n",
       "      <td>10/11</td>\n",
       "      <td>Brazil</td>\n",
       "      <td>Maga</td>\n",
       "      <td>Serie A</td>\n",
       "      <td>Parma</td>\n",
       "      <td>Loan fee:500 Th. €</td>\n",
       "      <td>NaN</td>\n",
       "      <td>NaN</td>\n",
       "      <td>NaN</td>\n",
       "      <td>NaN</td>\n",
       "      <td>NaN</td>\n",
       "      <td>NaN</td>\n",
       "    </tr>\n",
       "    <tr>\n",
       "      <th>198</th>\n",
       "      <td>199</td>\n",
       "      <td>Zé Love</td>\n",
       "      <td>Centre-Forward</td>\n",
       "      <td>23</td>\n",
       "      <td>11/12</td>\n",
       "      <td>Série A</td>\n",
       "      <td>Santos FC</td>\n",
       "      <td>Serie A</td>\n",
       "      <td>Genoa</td>\n",
       "      <td>4,50 Mill. €</td>\n",
       "      <td>3000000.0</td>\n",
       "      <td>Yes</td>\n",
       "      <td>Yes</td>\n",
       "      <td>4000000.0</td>\n",
       "      <td>Yes</td>\n",
       "      <td>0.0</td>\n",
       "    </tr>\n",
       "    <tr>\n",
       "      <th>199</th>\n",
       "      <td>200</td>\n",
       "      <td>Zé Roberto</td>\n",
       "      <td>Left Midfield</td>\n",
       "      <td>35</td>\n",
       "      <td>09/10</td>\n",
       "      <td>Primera División</td>\n",
       "      <td>Nacional</td>\n",
       "      <td>Bundesliga</td>\n",
       "      <td>Hamburger SV</td>\n",
       "      <td>4,00 Mill. €</td>\n",
       "      <td>4000000.0</td>\n",
       "      <td>No</td>\n",
       "      <td>Yes</td>\n",
       "      <td>NaN</td>\n",
       "      <td>Yes</td>\n",
       "      <td>0.0</td>\n",
       "    </tr>\n",
       "  </tbody>\n",
       "</table>\n",
       "<p>200 rows × 16 columns</p>\n",
       "</div>"
      ],
      "text/plain": [
       "     Unnamed: 0           Player_name     Player_position  Player_age  \\\n",
       "0             1           Adrián Luna        Right Winger          19   \n",
       "1             2          Adrián Ramos      Centre-Forward          23   \n",
       "2             3       Albano Bizzarri          Goalkeeper          35   \n",
       "3             4      Alejandro Alonso      Right Midfield          28   \n",
       "4             5    Alejandro González         Centre-Back          25   \n",
       "5             6          Alexis Rolín         Centre-Back          23   \n",
       "6             7         Alexis Zapata  Attacking Midfield          18   \n",
       "7             8                 Allan    Central Midfield          21   \n",
       "8             9       Álvaro González    Central Midfield          25   \n",
       "9            10            André Dias         Centre-Back          30   \n",
       "10           11      Ángelo Henríquez      Centre-Forward          18   \n",
       "11           12               Anselmo  Defensive Midfield          23   \n",
       "12           13     Augusto Fernández    Central Midfield          26   \n",
       "13           14        Bamba Anderson         Centre-Back          22   \n",
       "14           15      Braian Rodríguez      Centre-Forward          26   \n",
       "15           16          Brayan Perea      Centre-Forward          20   \n",
       "16           17         Bruno Nazário         Left Winger          18   \n",
       "17           18           Bruno Uvini         Centre-Back          21   \n",
       "18           19             Carlinhos  Attacking Midfield          18   \n",
       "19           20         Carlos Labrín         Centre-Back          20   \n",
       "20           21              Casemiro  Defensive Midfield          21   \n",
       "21           22      Charles Aránguiz    Central Midfield          24   \n",
       "22           23                Cícero    Central Midfield          25   \n",
       "23           24               Cicinho          Right-Back          26   \n",
       "24           25               Claiton         Centre-Back          28   \n",
       "25           26       Cristian Chávez         Left Winger          24   \n",
       "26           27       Cristian Cuevas           Left-Back          18   \n",
       "27           28    Cristóbal Jorquera  Attacking Midfield          23   \n",
       "28           29         Damián Suárez          Right-Back          23   \n",
       "29           30                Danilo         Centre-Back          27   \n",
       "..          ...                   ...                 ...         ...   \n",
       "170         171          Paulo Dybala      Second Striker          18   \n",
       "171         172                Rafael          Goalkeeper          23   \n",
       "172         173         Rafael Santos         Centre-Back          24   \n",
       "173         174      Raphael Martinho       Left Midfield          22   \n",
       "174         175                 Réver         Centre-Back          25   \n",
       "175         176       Ricardo Álvarez  Attacking Midfield          23   \n",
       "176         177       Roberto Firmino      Centre-Forward          19   \n",
       "177         178       Rodrigo Palacio      Centre-Forward          27   \n",
       "178         179        Roger Carvalho         Centre-Back          25   \n",
       "179         180                Sandro  Defensive Midfield          21   \n",
       "180         181          Sandro Silva  Defensive Midfield          26   \n",
       "181         182       Santiago García           Left-Back          22   \n",
       "182         183       Santiago García           Left-Back          25   \n",
       "183         184        Santiago Silva      Centre-Forward          30   \n",
       "184         185      Sebastián Coates         Centre-Back          20   \n",
       "185         186  Sebastián Cristóforo    Central Midfield          19   \n",
       "186         187   Sebastián Fernández      Second Striker          25   \n",
       "187         188         Silvio Romero      Centre-Forward          25   \n",
       "188         189        Thiago Ribeiro         Left Winger          26   \n",
       "189         190        Thiago Ribeiro         Left Winger          25   \n",
       "190         191         Víctor Ibarbo      Second Striker          21   \n",
       "191         192       Vinícius Araújo      Centre-Forward          20   \n",
       "192         193           Waldo Ponce         Centre-Back          27   \n",
       "193         194      Wallace Oliveira          Right-Back          18   \n",
       "194         195      Wellington Silva        Right Winger          18   \n",
       "195         196                Wesley    Central Midfield          23   \n",
       "196         197              Willians  Defensive Midfield          26   \n",
       "197         198            Zé Eduardo  Defensive Midfield          18   \n",
       "198         199               Zé Love      Centre-Forward          23   \n",
       "199         200            Zé Roberto       Left Midfield          35   \n",
       "\n",
       "    Transfer_season Transfer_from_division               Transfer_from_team  \\\n",
       "0             11/12       Primera División                         Defensor   \n",
       "1             09/10         Liga Águila II                       CD América   \n",
       "2             13/14                Serie A                            Lazio   \n",
       "3             10/11                Ligue 1                           Monaco   \n",
       "4             13/14       Primera División                          Peñarol   \n",
       "5             12/13       Primera División                         Nacional   \n",
       "6             13/14         Liga Águila II                         Envigado   \n",
       "7             12/13       Segunda División                        Maldonado   \n",
       "8             10/11       Primera División                         Nacional   \n",
       "9             09/10                Série A                        São Paulo   \n",
       "10            12/13       Primera División                      U. de Chile   \n",
       "11            12/13                Série A                        Palmeiras   \n",
       "12            12/13           Torneo Final                  Vélez Sarsfield   \n",
       "13            10/11                 Brazil                         Tombense   \n",
       "14            13/14       Primera División                    Huachipato FC   \n",
       "15            13/14         Liga Águila II                   Deportivo Cali   \n",
       "16            13/14                 Brazil                         Tombense   \n",
       "17            12/13                Série A                        São Paulo   \n",
       "18            12/13                 Brazil                     Desp. Brasil   \n",
       "19            11/12       Primera División                    Huachipato FC   \n",
       "20            13/14                Série A                        São Paulo   \n",
       "21            13/14       Primera División                      U. de Chile   \n",
       "22            10/11                 Brazil                         Tombense   \n",
       "23            12/13                Série A                        Palmeiras   \n",
       "24            13/14                Serie B                             Bari   \n",
       "25            11/12           Torneo Final                      San Lorenzo   \n",
       "26            13/14       Primera División                        O'Higgins   \n",
       "27            11/12       Primera División                        Colo Colo   \n",
       "28            11/12       Primera División                         Defensor   \n",
       "29            11/12                 Brazil                     Desp. Brasil   \n",
       "..              ...                    ...                              ...   \n",
       "170           12/13       Primera Nacional                     Instituto AC   \n",
       "171           13/14                Série A                        Santos FC   \n",
       "172           09/10                Série A                     Athletico-PR   \n",
       "173           10/11                 Brazil  Monte Alegre Futebol Clube (SP)   \n",
       "174           09/10                Série A                           Grêmio   \n",
       "175           11/12           Torneo Final                  Vélez Sarsfield   \n",
       "176           10/11                 Brazil                         Tombense   \n",
       "177           09/10           Torneo Final                     Boca Juniors   \n",
       "178           12/13                 Brazil                         Tombense   \n",
       "179           10/11                Série A                    Internacional   \n",
       "180           10/11                 Brazil                     Desp. Brasil   \n",
       "181           10/11       Primera Nacional                       CA Rosario   \n",
       "182           13/14       Primera División                    Rangers Talca   \n",
       "183           11/12           Torneo Final                  Vélez Sarsfield   \n",
       "184           11/12       Primera División                         Nacional   \n",
       "185           13/14       Primera División                          Peñarol   \n",
       "186           10/11           Torneo Final                      CA Banfield   \n",
       "187           13/14           Torneo Final                            Lanús   \n",
       "188           12/13       Segunda División                        Rentistas   \n",
       "189           11/12       Primera División                        Rentistas   \n",
       "190           11/12         Liga Águila II                    Atl. Nacional   \n",
       "191           13/14                Série A                         Cruzeiro   \n",
       "192           10/11       Primera División                        O'Higgins   \n",
       "193           12/13                Série A                       Fluminense   \n",
       "194           10/11                Série A                       Fluminense   \n",
       "195           10/11                Série A                        Santos FC   \n",
       "196           12/13                Série A                         Flamengo   \n",
       "197           10/11                 Brazil                             Maga   \n",
       "198           11/12                Série A                        Santos FC   \n",
       "199           09/10       Primera División                         Nacional   \n",
       "\n",
       "    Transfer_to_division Transfer_to_team           Transfer_fee  MV_transfer  \\\n",
       "0                 LaLiga         Espanyol           1,00 Mill. €     275000.0   \n",
       "1             Bundesliga       Hertha BSC           2,00 Mill. €    1000000.0   \n",
       "2                Serie A            Genoa              300 Th. €          NaN   \n",
       "3                Ligue 1    Saint-Étienne              200 Th. €          NaN   \n",
       "4                Serie A    Hellas Verona           2,40 Mill. €     850000.0   \n",
       "5                Serie A          Catania           3,80 Mill. €     900000.0   \n",
       "6                 LaLiga       Granada CF           1,18 Mill. €          NaN   \n",
       "7                 LaLiga       Granada CF           3,00 Mill. €    3000000.0   \n",
       "8                Serie A            Lazio           2,00 Mill. €     800000.0   \n",
       "9                Serie A            Lazio           2,50 Mill. €          NaN   \n",
       "10        Premier League          Man Utd           5,50 Mill. €     150000.0   \n",
       "11               Serie A            Genoa              900 Th. €     900000.0   \n",
       "12                LaLiga    Celta de Vigo           1,50 Mill. €    2500000.0   \n",
       "13            Bundesliga  Bor. M'gladbach           1,50 Mill. €    2000000.0   \n",
       "14                LaLiga       Real Betis           1,00 Mill. €     600000.0   \n",
       "15               Serie A            Lazio           2,30 Mill. €    2000000.0   \n",
       "16            Bundesliga   TSG Hoffenheim           1,50 Mill. €          NaN   \n",
       "17               Serie A       SSC Napoli           3,00 Mill. €    1000000.0   \n",
       "18            Bundesliga  Bay. Leverkusen     Loan fee:100 Th. €          NaN   \n",
       "19               Serie A          Palermo           1,35 Mill. €     400000.0   \n",
       "20                LaLiga      Real Madrid           6,00 Mill. €    6000000.0   \n",
       "21               Serie A   Udinese Calcio           4,00 Mill. €    2200000.0   \n",
       "22            Bundesliga    VfL Wolfsburg     Loan fee:800 Th. €          NaN   \n",
       "23                LaLiga       Sevilla FC           2,00 Mill. €    2000000.0   \n",
       "24               Serie A    Chievo Verona              100 Th. €          NaN   \n",
       "25               Serie A       SSC Napoli           1,30 Mill. €     800000.0   \n",
       "26        Premier League          Chelsea           1,90 Mill. €      75000.0   \n",
       "27               Serie A            Genoa           1,73 Mill. €    1400000.0   \n",
       "28                LaLiga   Sporting Gijón              500 Th. €     450000.0   \n",
       "29               Serie A   Udinese Calcio           2,00 Mill. €    3500000.0   \n",
       "..                   ...              ...                    ...          ...   \n",
       "170              Serie A          Palermo          11,90 Mill. €    2000000.0   \n",
       "171              Serie A       SSC Napoli           5,00 Mill. €    4000000.0   \n",
       "172              Serie A          Bologna     Loan fee:300 Th. €          NaN   \n",
       "173              Serie A          Catania              200 Th. €          NaN   \n",
       "174           Bundesliga    VfL Wolfsburg           5,00 Mill. €    5500000.0   \n",
       "175              Serie A            Inter          10,50 Mill. €    3500000.0   \n",
       "176           Bundesliga   TSG Hoffenheim           4,00 Mill. €          NaN   \n",
       "177              Serie A            Genoa           4,90 Mill. €    9500000.0   \n",
       "178              Serie A          Bologna     Loan fee:300 Th. €          NaN   \n",
       "179       Premier League            Spurs          10,00 Mill. €    9000000.0   \n",
       "180               LaLiga        Málaga CF           2,20 Mill. €    1000000.0   \n",
       "181              Serie A          Palermo           1,60 Mill. €     300000.0   \n",
       "182           Bundesliga    Werder Bremen     Loan fee:500 Th. €     300000.0   \n",
       "183              Serie A       Fiorentina           1,70 Mill. €    2500000.0   \n",
       "184       Premier League        Liverpool           8,00 Mill. €    2500000.0   \n",
       "185               LaLiga       Sevilla FC           2,25 Mill. €     600000.0   \n",
       "186               LaLiga        Málaga CF           3,60 Mill. €    2500000.0   \n",
       "187              Ligue 1    Stade Rennais     Loan fee:500 Th. €          NaN   \n",
       "188              Serie A  Cagliari Calcio           2,00 Mill. €    3000000.0   \n",
       "189              Serie A  Cagliari Calcio  Loan fee:1,50 Mill. €    3000000.0   \n",
       "190              Serie A  Cagliari Calcio           2,00 Mill. €     900000.0   \n",
       "191               LaLiga         Valencia           3,50 Mill. €    1000000.0   \n",
       "192               LaLiga           Racing     Loan fee:315 Th. €          NaN   \n",
       "193       Premier League          Chelsea           5,40 Mill. €    2000000.0   \n",
       "194       Premier League          Arsenal           4,00 Mill. €     800000.0   \n",
       "195           Bundesliga    Werder Bremen           7,50 Mill. €    6000000.0   \n",
       "196              Serie A   Udinese Calcio           3,00 Mill. €    3500000.0   \n",
       "197              Serie A            Parma     Loan fee:500 Th. €          NaN   \n",
       "198              Serie A            Genoa           4,50 Mill. €    3000000.0   \n",
       "199           Bundesliga     Hamburger SV           4,00 Mill. €    4000000.0   \n",
       "\n",
       "    First_time_EU Loan_Transfer  MV_4y_high Transfer_4y  Transfer_after  \n",
       "0             Yes            No   1000000.0         Yes             0.0  \n",
       "1             Yes            No   6500000.0          No             NaN  \n",
       "2             NaN           NaN         NaN         NaN             NaN  \n",
       "3             NaN           NaN         NaN         NaN             NaN  \n",
       "4             Yes            No   2000000.0          No             NaN  \n",
       "5             Yes            No   3500000.0         Yes       1000000.0  \n",
       "6             Yes            No    700000.0         Yes             NaN  \n",
       "7             Yes           Yes  11500000.0         Yes       3000000.0  \n",
       "8             Yes            No   7500000.0          No             NaN  \n",
       "9             NaN           NaN         NaN         NaN             NaN  \n",
       "10            Yes            No   5500000.0         Yes       1670000.0  \n",
       "11            Yes           Yes   1250000.0         Yes             0.0  \n",
       "12             No            No   8000000.0         Yes       4000000.0  \n",
       "13             No           Yes   3000000.0         Yes        800000.0  \n",
       "14            Yes            No   1000000.0         Yes             0.0  \n",
       "15            Yes            No   2800000.0          No             NaN  \n",
       "16            Yes           Yes    600000.0          No             NaN  \n",
       "17             No           Yes   3000000.0         Yes             NaN  \n",
       "18            NaN           NaN         NaN         NaN             NaN  \n",
       "19            Yes            No    750000.0         Yes             0.0  \n",
       "20             No           Yes  30000000.0          No             NaN  \n",
       "21            Yes            No   9500000.0         Yes       8000000.0  \n",
       "22            NaN           NaN         NaN         NaN             NaN  \n",
       "23            Yes            No   4000000.0         Yes             0.0  \n",
       "24            NaN           NaN         NaN         NaN             NaN  \n",
       "25            Yes           Yes         NaN         Yes             0.0  \n",
       "26            Yes            No   1700000.0          No             NaN  \n",
       "27            Yes            No   2000000.0         Yes             0.0  \n",
       "28            Yes            No   3000000.0         Yes             0.0  \n",
       "29            Yes            No  75000000.0          No             NaN  \n",
       "..            ...           ...         ...         ...             ...  \n",
       "170           Yes            No  45000000.0         Yes      40000000.0  \n",
       "171           Yes            No         NaN         Yes             0.0  \n",
       "172           NaN           NaN         NaN         NaN             NaN  \n",
       "173           Yes           Yes   2000000.0         Yes        900000.0  \n",
       "174           Yes            No         NaN         Yes       3000000.0  \n",
       "175           Yes            No  16500000.0         Yes      10500000.0  \n",
       "176           Yes           Yes  25000000.0          No             NaN  \n",
       "177           Yes            No  12500000.0         Yes      10500000.0  \n",
       "178           NaN           NaN         NaN         NaN             NaN  \n",
       "179           Yes            No  17000000.0         Yes       7500000.0  \n",
       "180           Yes            No   2000000.0         Yes             NaN  \n",
       "181           Yes            No   2000000.0         Yes             NaN  \n",
       "182           Yes            No   2000000.0         Yes             NaN  \n",
       "183            No            No         NaN         Yes       1400000.0  \n",
       "184           Yes            No         NaN         Yes       2800000.0  \n",
       "185           Yes            No   2700000.0         Yes       2500000.0  \n",
       "186           Yes            No   3600000.0         Yes             0.0  \n",
       "187           NaN           NaN         NaN         NaN             NaN  \n",
       "188            No           Yes   3500000.0         Yes       3500000.0  \n",
       "189            No           Yes   3500000.0         Yes       3500000.0  \n",
       "190           Yes            No   8500000.0          No             NaN  \n",
       "191           Yes            No   3500000.0         Yes             0.0  \n",
       "192           NaN           NaN         NaN         NaN             NaN  \n",
       "193           Yes            No   7500000.0          No             NaN  \n",
       "194           Yes            No   2000000.0         Yes       3000000.0  \n",
       "195           Yes            No   8000000.0         Yes       6000000.0  \n",
       "196           Yes            No         NaN         Yes       2000000.0  \n",
       "197           NaN           NaN         NaN         NaN             NaN  \n",
       "198           Yes           Yes   4000000.0         Yes             0.0  \n",
       "199            No           Yes         NaN         Yes             0.0  \n",
       "\n",
       "[200 rows x 16 columns]"
      ]
     },
     "execution_count": 6,
     "metadata": {},
     "output_type": "execute_result"
    }
   ],
   "source": [
    "df_futbol"
   ]
  },
  {
   "cell_type": "markdown",
   "metadata": {},
   "source": [
    "Mirando el dataset vemos algo raro en la variable Transfer_fee no contiene valores numericos. Además, vemos que hay filas cuales refieren a \"loan transfers\" donde un club alquila un jugador pero no lo compra definitivamente. Borramos esas filas y después transformamos los valores a numericos."
   ]
  },
  {
   "cell_type": "markdown",
   "metadata": {},
   "source": [
    "## Borrar todos \"loan transfers\""
   ]
  },
  {
   "cell_type": "code",
   "execution_count": 7,
   "metadata": {},
   "outputs": [],
   "source": [
    "df_futbol = df_futbol[~df_futbol.Transfer_fee.str.contains(\"Loan\")]"
   ]
  },
  {
   "cell_type": "code",
   "execution_count": 8,
   "metadata": {},
   "outputs": [
    {
     "data": {
      "text/plain": [
       "(166, 16)"
      ]
     },
     "execution_count": 8,
     "metadata": {},
     "output_type": "execute_result"
    }
   ],
   "source": [
    "df_futbol.shape"
   ]
  },
  {
   "cell_type": "markdown",
   "metadata": {},
   "source": [
    "<a id='Transformación-Transfer_fee'></a>\n",
    "## Transformación de transfer fee\n",
    "[Inicio ▲](#Indice)\n",
    "\n",
    "Hasta ahora, el premio del transfer o Transfer_fee, todavía no es un numéro. Por eso tenemos que transformarlo. Lo hacemos por los próximos pasos.\n",
    "\n",
    "1) borrar el ,\n",
    "\n",
    "2) cambiar Mill por 0000 (porque ya contiene dos ceros)\n",
    "\n",
    "3) Cambiar TH. por 000\n",
    "\n",
    "4) Cortar hasta el ultimo numero\n",
    "\n",
    "5) Transformar el tipo de valor, de character a numeric"
   ]
  },
  {
   "cell_type": "code",
   "execution_count": 9,
   "metadata": {},
   "outputs": [
    {
     "name": "stderr",
     "output_type": "stream",
     "text": [
      "/home/emiliano/.conda/envs/taller_cdatos2/lib/python3.7/site-packages/ipykernel_launcher.py:1: SettingWithCopyWarning: \n",
      "A value is trying to be set on a copy of a slice from a DataFrame.\n",
      "Try using .loc[row_indexer,col_indexer] = value instead\n",
      "\n",
      "See the caveats in the documentation: http://pandas.pydata.org/pandas-docs/stable/indexing.html#indexing-view-versus-copy\n",
      "  \"\"\"Entry point for launching an IPython kernel.\n"
     ]
    }
   ],
   "source": [
    "df_futbol['Transfer_fee'] = df_futbol['Transfer_fee'].apply(lambda x: x.replace(\",\",\"\"))"
   ]
  },
  {
   "cell_type": "code",
   "execution_count": 10,
   "metadata": {},
   "outputs": [
    {
     "name": "stderr",
     "output_type": "stream",
     "text": [
      "/home/emiliano/.conda/envs/taller_cdatos2/lib/python3.7/site-packages/ipykernel_launcher.py:1: SettingWithCopyWarning: \n",
      "A value is trying to be set on a copy of a slice from a DataFrame.\n",
      "Try using .loc[row_indexer,col_indexer] = value instead\n",
      "\n",
      "See the caveats in the documentation: http://pandas.pydata.org/pandas-docs/stable/indexing.html#indexing-view-versus-copy\n",
      "  \"\"\"Entry point for launching an IPython kernel.\n"
     ]
    }
   ],
   "source": [
    "df_futbol['Transfer_fee'] = df_futbol['Transfer_fee'].apply(lambda x: x.replace(' Mill. €','0000'))"
   ]
  },
  {
   "cell_type": "code",
   "execution_count": 11,
   "metadata": {},
   "outputs": [
    {
     "name": "stderr",
     "output_type": "stream",
     "text": [
      "/home/emiliano/.conda/envs/taller_cdatos2/lib/python3.7/site-packages/ipykernel_launcher.py:1: SettingWithCopyWarning: \n",
      "A value is trying to be set on a copy of a slice from a DataFrame.\n",
      "Try using .loc[row_indexer,col_indexer] = value instead\n",
      "\n",
      "See the caveats in the documentation: http://pandas.pydata.org/pandas-docs/stable/indexing.html#indexing-view-versus-copy\n",
      "  \"\"\"Entry point for launching an IPython kernel.\n"
     ]
    }
   ],
   "source": [
    "df_futbol['Transfer_fee'] = df_futbol['Transfer_fee'].apply(lambda x: x.replace(' Th. €','000'))"
   ]
  },
  {
   "cell_type": "code",
   "execution_count": 12,
   "metadata": {},
   "outputs": [
    {
     "name": "stderr",
     "output_type": "stream",
     "text": [
      "/home/emiliano/.conda/envs/taller_cdatos2/lib/python3.7/site-packages/ipykernel_launcher.py:1: SettingWithCopyWarning: \n",
      "A value is trying to be set on a copy of a slice from a DataFrame.\n",
      "Try using .loc[row_indexer,col_indexer] = value instead\n",
      "\n",
      "See the caveats in the documentation: http://pandas.pydata.org/pandas-docs/stable/indexing.html#indexing-view-versus-copy\n",
      "  \"\"\"Entry point for launching an IPython kernel.\n"
     ]
    }
   ],
   "source": [
    "df_futbol['Transfer_fee'] = pd.to_numeric(df_futbol['Transfer_fee'])"
   ]
  },
  {
   "cell_type": "code",
   "execution_count": 13,
   "metadata": {},
   "outputs": [
    {
     "data": {
      "text/plain": [
       "<bound method Series.unique of 0       1000000\n",
       "1       2000000\n",
       "2        300000\n",
       "3        200000\n",
       "4       2400000\n",
       "5       3800000\n",
       "6       1180000\n",
       "7       3000000\n",
       "8       2000000\n",
       "9       2500000\n",
       "10      5500000\n",
       "11       900000\n",
       "12      1500000\n",
       "13      1500000\n",
       "14      1000000\n",
       "15      2300000\n",
       "16      1500000\n",
       "17      3000000\n",
       "19      1350000\n",
       "20      6000000\n",
       "21      4000000\n",
       "23      2000000\n",
       "24       100000\n",
       "25      1300000\n",
       "26      1900000\n",
       "27      1730000\n",
       "28       500000\n",
       "29      2000000\n",
       "30      3000000\n",
       "32      1500000\n",
       "         ...   \n",
       "161      400000\n",
       "162     2350000\n",
       "163     4000000\n",
       "166      950000\n",
       "167     1400000\n",
       "168     2500000\n",
       "169    19730000\n",
       "170    11900000\n",
       "171     5000000\n",
       "173      200000\n",
       "174     5000000\n",
       "175    10500000\n",
       "176     4000000\n",
       "177     4900000\n",
       "179    10000000\n",
       "180     2200000\n",
       "181     1600000\n",
       "183     1700000\n",
       "184     8000000\n",
       "185     2250000\n",
       "186     3600000\n",
       "188     2000000\n",
       "190     2000000\n",
       "191     3500000\n",
       "193     5400000\n",
       "194     4000000\n",
       "195     7500000\n",
       "196     3000000\n",
       "198     4500000\n",
       "199     4000000\n",
       "Name: Transfer_fee, Length: 166, dtype: int64>"
      ]
     },
     "execution_count": 13,
     "metadata": {},
     "output_type": "execute_result"
    }
   ],
   "source": [
    "df_futbol.Transfer_fee.unique"
   ]
  },
  {
   "cell_type": "code",
   "execution_count": 14,
   "metadata": {},
   "outputs": [
    {
     "data": {
      "text/html": [
       "<div>\n",
       "<style scoped>\n",
       "    .dataframe tbody tr th:only-of-type {\n",
       "        vertical-align: middle;\n",
       "    }\n",
       "\n",
       "    .dataframe tbody tr th {\n",
       "        vertical-align: top;\n",
       "    }\n",
       "\n",
       "    .dataframe thead th {\n",
       "        text-align: right;\n",
       "    }\n",
       "</style>\n",
       "<table border=\"1\" class=\"dataframe\">\n",
       "  <thead>\n",
       "    <tr style=\"text-align: right;\">\n",
       "      <th></th>\n",
       "      <th>Unnamed: 0</th>\n",
       "      <th>Player_name</th>\n",
       "      <th>Player_position</th>\n",
       "      <th>Player_age</th>\n",
       "      <th>Transfer_season</th>\n",
       "      <th>Transfer_from_division</th>\n",
       "      <th>Transfer_from_team</th>\n",
       "      <th>Transfer_to_division</th>\n",
       "      <th>Transfer_to_team</th>\n",
       "      <th>Transfer_fee</th>\n",
       "      <th>MV_transfer</th>\n",
       "      <th>First_time_EU</th>\n",
       "      <th>Loan_Transfer</th>\n",
       "      <th>MV_4y_high</th>\n",
       "      <th>Transfer_4y</th>\n",
       "      <th>Transfer_after</th>\n",
       "    </tr>\n",
       "  </thead>\n",
       "  <tbody>\n",
       "    <tr>\n",
       "      <th>0</th>\n",
       "      <td>1</td>\n",
       "      <td>Adrián Luna</td>\n",
       "      <td>Right Winger</td>\n",
       "      <td>19</td>\n",
       "      <td>11/12</td>\n",
       "      <td>Primera División</td>\n",
       "      <td>Defensor</td>\n",
       "      <td>LaLiga</td>\n",
       "      <td>Espanyol</td>\n",
       "      <td>1000000</td>\n",
       "      <td>275000.0</td>\n",
       "      <td>Yes</td>\n",
       "      <td>No</td>\n",
       "      <td>1000000.0</td>\n",
       "      <td>Yes</td>\n",
       "      <td>0.0</td>\n",
       "    </tr>\n",
       "    <tr>\n",
       "      <th>1</th>\n",
       "      <td>2</td>\n",
       "      <td>Adrián Ramos</td>\n",
       "      <td>Centre-Forward</td>\n",
       "      <td>23</td>\n",
       "      <td>09/10</td>\n",
       "      <td>Liga Águila II</td>\n",
       "      <td>CD América</td>\n",
       "      <td>Bundesliga</td>\n",
       "      <td>Hertha BSC</td>\n",
       "      <td>2000000</td>\n",
       "      <td>1000000.0</td>\n",
       "      <td>Yes</td>\n",
       "      <td>No</td>\n",
       "      <td>6500000.0</td>\n",
       "      <td>No</td>\n",
       "      <td>NaN</td>\n",
       "    </tr>\n",
       "    <tr>\n",
       "      <th>2</th>\n",
       "      <td>3</td>\n",
       "      <td>Albano Bizzarri</td>\n",
       "      <td>Goalkeeper</td>\n",
       "      <td>35</td>\n",
       "      <td>13/14</td>\n",
       "      <td>Serie A</td>\n",
       "      <td>Lazio</td>\n",
       "      <td>Serie A</td>\n",
       "      <td>Genoa</td>\n",
       "      <td>300000</td>\n",
       "      <td>NaN</td>\n",
       "      <td>NaN</td>\n",
       "      <td>NaN</td>\n",
       "      <td>NaN</td>\n",
       "      <td>NaN</td>\n",
       "      <td>NaN</td>\n",
       "    </tr>\n",
       "    <tr>\n",
       "      <th>3</th>\n",
       "      <td>4</td>\n",
       "      <td>Alejandro Alonso</td>\n",
       "      <td>Right Midfield</td>\n",
       "      <td>28</td>\n",
       "      <td>10/11</td>\n",
       "      <td>Ligue 1</td>\n",
       "      <td>Monaco</td>\n",
       "      <td>Ligue 1</td>\n",
       "      <td>Saint-Étienne</td>\n",
       "      <td>200000</td>\n",
       "      <td>NaN</td>\n",
       "      <td>NaN</td>\n",
       "      <td>NaN</td>\n",
       "      <td>NaN</td>\n",
       "      <td>NaN</td>\n",
       "      <td>NaN</td>\n",
       "    </tr>\n",
       "    <tr>\n",
       "      <th>4</th>\n",
       "      <td>5</td>\n",
       "      <td>Alejandro González</td>\n",
       "      <td>Centre-Back</td>\n",
       "      <td>25</td>\n",
       "      <td>13/14</td>\n",
       "      <td>Primera División</td>\n",
       "      <td>Peñarol</td>\n",
       "      <td>Serie A</td>\n",
       "      <td>Hellas Verona</td>\n",
       "      <td>2400000</td>\n",
       "      <td>850000.0</td>\n",
       "      <td>Yes</td>\n",
       "      <td>No</td>\n",
       "      <td>2000000.0</td>\n",
       "      <td>No</td>\n",
       "      <td>NaN</td>\n",
       "    </tr>\n",
       "  </tbody>\n",
       "</table>\n",
       "</div>"
      ],
      "text/plain": [
       "   Unnamed: 0         Player_name Player_position  Player_age Transfer_season  \\\n",
       "0           1         Adrián Luna    Right Winger          19           11/12   \n",
       "1           2        Adrián Ramos  Centre-Forward          23           09/10   \n",
       "2           3     Albano Bizzarri      Goalkeeper          35           13/14   \n",
       "3           4    Alejandro Alonso  Right Midfield          28           10/11   \n",
       "4           5  Alejandro González     Centre-Back          25           13/14   \n",
       "\n",
       "  Transfer_from_division Transfer_from_team Transfer_to_division  \\\n",
       "0       Primera División           Defensor               LaLiga   \n",
       "1         Liga Águila II         CD América           Bundesliga   \n",
       "2                Serie A              Lazio              Serie A   \n",
       "3                Ligue 1             Monaco              Ligue 1   \n",
       "4       Primera División            Peñarol              Serie A   \n",
       "\n",
       "  Transfer_to_team  Transfer_fee  MV_transfer First_time_EU Loan_Transfer  \\\n",
       "0         Espanyol       1000000     275000.0           Yes            No   \n",
       "1       Hertha BSC       2000000    1000000.0           Yes            No   \n",
       "2            Genoa        300000          NaN           NaN           NaN   \n",
       "3    Saint-Étienne        200000          NaN           NaN           NaN   \n",
       "4    Hellas Verona       2400000     850000.0           Yes            No   \n",
       "\n",
       "   MV_4y_high Transfer_4y  Transfer_after  \n",
       "0   1000000.0         Yes             0.0  \n",
       "1   6500000.0          No             NaN  \n",
       "2         NaN         NaN             NaN  \n",
       "3         NaN         NaN             NaN  \n",
       "4   2000000.0          No             NaN  "
      ]
     },
     "execution_count": 14,
     "metadata": {},
     "output_type": "execute_result"
    }
   ],
   "source": [
    "df_futbol.head()"
   ]
  },
  {
   "cell_type": "markdown",
   "metadata": {},
   "source": [
    "<a id='Agregar-exito'></a>\n",
    "## Agregar exito\n",
    "[Inicio ▲](#Indice)"
   ]
  },
  {
   "cell_type": "code",
   "execution_count": 15,
   "metadata": {},
   "outputs": [],
   "source": [
    "def decide_success(Transfer_fee, MV_4y_high, Transfer_4y, Transfer_after):\n",
    "    if (Transfer_4y == \"Yes\") and (Transfer_after > Transfer_fee):\n",
    "         return True\n",
    "    elif (Transfer_4y == \"No\") and (MV_4y_high > Transfer_fee):\n",
    "        return True\n",
    "    elif pd.isna(Transfer_4y):\n",
    "        return np.NaN\n",
    "    elif  pd.isna(Transfer_fee):\n",
    "        return np.NaN\n",
    "    else:\n",
    "        return False"
   ]
  },
  {
   "cell_type": "code",
   "execution_count": 16,
   "metadata": {},
   "outputs": [
    {
     "name": "stderr",
     "output_type": "stream",
     "text": [
      "/home/emiliano/.conda/envs/taller_cdatos2/lib/python3.7/site-packages/ipykernel_launcher.py:5: SettingWithCopyWarning: \n",
      "A value is trying to be set on a copy of a slice from a DataFrame.\n",
      "Try using .loc[row_indexer,col_indexer] = value instead\n",
      "\n",
      "See the caveats in the documentation: http://pandas.pydata.org/pandas-docs/stable/indexing.html#indexing-view-versus-copy\n",
      "  \"\"\"\n"
     ]
    }
   ],
   "source": [
    "df_futbol['succeeded'] = df_futbol.apply(lambda x: decide_success(x['Transfer_fee'],\n",
    "                                                                x['MV_4y_high'],\n",
    "                                                                x['Transfer_4y'],\n",
    "                                                                x['Transfer_after']),\n",
    "                                      axis=1)"
   ]
  },
  {
   "cell_type": "code",
   "execution_count": 17,
   "metadata": {},
   "outputs": [
    {
     "data": {
      "text/plain": [
       "False    111\n",
       "True      50\n",
       "NaN        5\n",
       "Name: succeeded, dtype: int64"
      ]
     },
     "execution_count": 17,
     "metadata": {},
     "output_type": "execute_result"
    }
   ],
   "source": [
    "df_futbol['succeeded'].value_counts(dropna=False)"
   ]
  },
  {
   "cell_type": "markdown",
   "metadata": {},
   "source": [
    "<a id='Limpiando'></a>\n",
    "## Limpiando el dataset\n",
    "[Inicio ▲](#Indice)\n",
    "\n",
    "Borrar filas donde succeeded es NA"
   ]
  },
  {
   "cell_type": "code",
   "execution_count": 18,
   "metadata": {},
   "outputs": [],
   "source": [
    "df_futbol = df_futbol.dropna(subset=['succeeded'])"
   ]
  },
  {
   "cell_type": "code",
   "execution_count": 19,
   "metadata": {},
   "outputs": [
    {
     "data": {
      "text/plain": [
       "False    111\n",
       "True      50\n",
       "Name: succeeded, dtype: int64"
      ]
     },
     "execution_count": 19,
     "metadata": {},
     "output_type": "execute_result"
    }
   ],
   "source": [
    "df_futbol['succeeded'].value_counts(dropna=False)"
   ]
  },
  {
   "cell_type": "markdown",
   "metadata": {},
   "source": [
    "<a id='Exploratory-data-analysis'></a>\n",
    "# Exploratory data analysis (EDA)\n",
    "[Inicio ▲](#Indice)\n",
    "\n",
    "Un EDA es una etapa extremadamente importante en data science o en machine learning. A un alto nivel, EDA es el práctica de describir los datos por técnicas estadísticas y por visualización para extraer aspectos importantes y ocultos. \n",
    "\n",
    "En lo que sige vamos a ver primero un par de técnicas estadisticas basicas, como implementarlas en R y como nos informan sobre nuestro dataset. \n",
    "\n",
    "Segundo, vamos a ver varias tecnicas de visualización que ofrece R y como apliquarlas en nuestro dataset."
   ]
  },
  {
   "cell_type": "markdown",
   "metadata": {},
   "source": [
    "<a id='Estadistica-basica'></a>\n",
    "# EDA - Estadistica basica\n",
    "[Inicio ▲](#Indice)\n",
    "\n",
    "En este parte vamos a examinar termos y medidas de la estadistica basica. Aunque parecen basicos, son muy importante y forman el baso de estadistica, data science y machine learning."
   ]
  },
  {
   "cell_type": "markdown",
   "metadata": {},
   "source": [
    "<a id='Tipos-de-datos'></a>\n",
    "## Tipos de datos\n",
    "[Inicio ▲](#Indice)\n",
    "\n",
    "Hay 3 grandes tipos de datos:\n",
    "\n",
    "### Numerical\n",
    "Capaz es el tipo más común y en realidad es todo lo que es cuantificable, como por ejemplo: valor de un jugador o edad de un jugador.\n",
    "\n",
    "En numerical hay dos grandes tipos sea:\n",
    "#### Discreta\n",
    "Discreta son datos cuales son basados en INTEGERS y asi tienen un limite de posibilidades. Por ejemplo: la cantidad de personas en este clase. Son 25 o 35 pero nunca puede ser 35,61. Ejemplo en nuestro dataset puede ser edad.\n",
    "\n",
    "#### Continua\n",
    "En continua, es distinto, no hay un limite. Cuanto tiempo va tomar este clase? No precisa ser 8 horas, puede ser 7h 56m 12s 88ms ... Ejemplo en nuestro dataset puede ser valor de un jugador.\n",
    "\n",
    "### Categorical\n",
    "Datos categoricales son datos cualitativos cuales NO tienen una significación matematical. Por ejemplo departementos en Uruguay. Yo vivo en Montevideo, alguien en Canelones, ... Igual podríamos asignar un numéro a todos los departementos pero no tiene significación matematical. Departemento 1 + departemento 4 no es igual a departemento 5. Otro ejemplo en nuestro dataset es la posición del jugador.\n",
    "\n",
    "### Ordinal\n",
    "Esta forma de datos es casí un mezcla de numerical y categorical. Este tiene una significación matematical. Por ejemplo el año del transfer. Se sabe que 2009 es menor o antes de 2011. Otro ejemplo son los ratings en YouTube con estrellas. \n"
   ]
  },
  {
   "cell_type": "markdown",
   "metadata": {},
   "source": [
    "<a id='Promedio-Mediana'></a>\n",
    "## Promedio VS Mediana\n",
    "[Inicio ▲](#Indice)\n",
    "\n",
    "El promedio es el \"average\", la suma de todos los valores dividido por la cantidad de valores. En el caso de Valor promedio de jugadores sera algo tipo (100.000 + 2.000.000 + ... + 950.000) / (cantidad de jugadores).\n",
    "\n",
    "En el caso de mediano, es en realidad el valor medio cuando ordenamos todos los valores de peaueño a mayor. El avantaje de la mediana es que NO es influenciado por outliers o valores extremos. Lo vemos abajo."
   ]
  },
  {
   "cell_type": "code",
   "execution_count": 20,
   "metadata": {},
   "outputs": [
    {
     "data": {
      "text/plain": [
       "4392391.304347826"
      ]
     },
     "execution_count": 20,
     "metadata": {},
     "output_type": "execute_result"
    }
   ],
   "source": [
    "df_futbol[\"Transfer_fee\"].mean()"
   ]
  },
  {
   "cell_type": "code",
   "execution_count": 21,
   "metadata": {},
   "outputs": [
    {
     "data": {
      "text/plain": [
       "2500000.0"
      ]
     },
     "execution_count": 21,
     "metadata": {},
     "output_type": "execute_result"
    }
   ],
   "source": [
    "df_futbol[\"Transfer_fee\"].median()"
   ]
  },
  {
   "cell_type": "markdown",
   "metadata": {},
   "source": [
    "Lo que pasó es que hay algun(es) transfers de muy alto valor. Pueden adivinar quien es?"
   ]
  },
  {
   "cell_type": "markdown",
   "metadata": {},
   "source": [
    "<a id='Variación-desviación_estándar'></a>\n",
    "## Variación y desviación estándar\n",
    "[Inicio ▲](#Indice)\n",
    "\n",
    "Basicamente son medidas de la propagación de una distribución de datos. En nuestro dataset hay premios de transfer entre gratis o cero y 80.000.000 cual parece mucho, pero es? En realidad vamos a mirar al promedio para decir o es mucho o no. Viendo que el promedio es 4.000.000, hay una propagación de 20 veces el promedio cual es bastante. En realidad así no calculamos la variación pero es una forma facíl para darles una idea.\n",
    "\n",
    "La forma correcta para calcular la varianza es solo \"el promedio de las diferencias al cuadrado del promedio del dataset\". En este ejemplo sera [[(100.000 - 4712807)² + (2.000.000 - 4712807)² + ... + (950.000 - 4712807)²] / (cantidad de jugadores)].\n",
    "\n",
    "Mientras que la desviación estándar es simplemente el raíz cuadrado de la varianza."
   ]
  },
  {
   "cell_type": "code",
   "execution_count": 22,
   "metadata": {},
   "outputs": [
    {
     "data": {
      "text/plain": [
       "67736622527173.92"
      ]
     },
     "execution_count": 22,
     "metadata": {},
     "output_type": "execute_result"
    }
   ],
   "source": [
    "df_futbol[\"Transfer_fee\"].var()"
   ]
  },
  {
   "cell_type": "code",
   "execution_count": 23,
   "metadata": {},
   "outputs": [
    {
     "data": {
      "text/plain": [
       "8230226.152857157"
      ]
     },
     "execution_count": 23,
     "metadata": {},
     "output_type": "execute_result"
    }
   ],
   "source": [
    "df_futbol[\"Transfer_fee\"].std()"
   ]
  },
  {
   "cell_type": "markdown",
   "metadata": {},
   "source": [
    "Vemos que la desviación estánder es mas pequeño pero también es más entendible. En este ejemplo es 8.125.501,80 y normalmente se dice que cualquier valor que es mas lejos del promedio que 1 desviación estándar es un outlier o valor extremo."
   ]
  },
  {
   "cell_type": "markdown",
   "metadata": {},
   "source": [
    "<a id='Distribuciones-comunes'></a>\n",
    "## Distribuciones comunes\n",
    "[Inicio ▲](#Indice)\n",
    "\n",
    "\n",
    "Uniforme\n",
    "\n",
    "Normal / Gaussian\n",
    "\n",
    "Exponencial\n",
    "\n"
   ]
  },
  {
   "cell_type": "markdown",
   "metadata": {},
   "source": [
    "### Distribución uniforme\n",
    "En este tipo de distribución, hay una probabilidad plana y constante de que ocurra un valor dentro de un rango dado. La probabilidad que el valor es x o el valor es y es totalmente igual."
   ]
  },
  {
   "cell_type": "code",
   "execution_count": 24,
   "metadata": {},
   "outputs": [
    {
     "data": {
      "image/png": "[encoded data removed]",
      "text/plain": [
       "<Figure size 432x288 with 1 Axes>"
      ]
     },
     "metadata": {
      "needs_background": "light"
     },
     "output_type": "display_data"
    }
   ],
   "source": [
    "values = np.random.uniform(-10.0, 10.0, 100000)\n",
    "plt.hist(values, 50)\n",
    "plt.show()"
   ]
  },
  {
   "cell_type": "markdown",
   "metadata": {},
   "source": [
    "### Distribución normal / Gaussian\n",
    "Una distribución con una concentración sobre el promedio y con una propagación de su desviación estándar. Abajo vemos un ejemplo."
   ]
  },
  {
   "cell_type": "code",
   "execution_count": 25,
   "metadata": {},
   "outputs": [
    {
     "data": {
      "text/plain": [
       "[<matplotlib.lines.Line2D at 0x7f1664443518>]"
      ]
     },
     "execution_count": 25,
     "metadata": {},
     "output_type": "execute_result"
    },
    {
     "data": {
      "image/png": "[encoded data removed]",
      "text/plain": [
       "<Figure size 432x288 with 1 Axes>"
      ]
     },
     "metadata": {
      "needs_background": "light"
     },
     "output_type": "display_data"
    }
   ],
   "source": [
    "from scipy.stats import norm\n",
    "import matplotlib.pyplot as plt\n",
    "\n",
    "x = np.arange(-3, 3, 0.001)\n",
    "plt.plot(x, norm.pdf(x))"
   ]
  },
  {
   "cell_type": "code",
   "execution_count": 26,
   "metadata": {},
   "outputs": [
    {
     "data": {
      "image/png": "[encoded data removed]",
      "text/plain": [
       "<Figure size 432x288 with 1 Axes>"
      ]
     },
     "metadata": {
      "needs_background": "light"
     },
     "output_type": "display_data"
    }
   ],
   "source": [
    "mu = 5.0\n",
    "sigma = 2.0\n",
    "values = np.random.normal(mu, sigma, 10000)\n",
    "plt.hist(values, 50)\n",
    "plt.show()"
   ]
  },
  {
   "cell_type": "markdown",
   "metadata": {},
   "source": [
    "### Exponencial\n",
    "La función de distribución de probabilidad exponencial es una distribución donde las cosas se caen de manera exponencial."
   ]
  },
  {
   "cell_type": "code",
   "execution_count": 27,
   "metadata": {},
   "outputs": [
    {
     "data": {
      "text/plain": [
       "[<matplotlib.lines.Line2D at 0x7f1664325208>]"
      ]
     },
     "execution_count": 27,
     "metadata": {},
     "output_type": "execute_result"
    },
    {
     "data": {
      "image/png": "[encoded data removed]",
      "text/plain": [
       "<Figure size 432x288 with 1 Axes>"
      ]
     },
     "metadata": {
      "needs_background": "light"
     },
     "output_type": "display_data"
    }
   ],
   "source": [
    "x = np.arange(0, 10, 0.001)\n",
    "plt.plot(x, expon.pdf(x))"
   ]
  },
  {
   "cell_type": "markdown",
   "metadata": {},
   "source": [
    "<a id='Covarianza-correlación'></a>\n",
    "## Covarianza y correlación\n",
    "[Inicio ▲](#Indice)\n",
    "\n",
    "Estas son formas de medir si dos atributos diferentes están relacionados entre sí en un conjunto de datos. Eso es importantisimo para saber. Por ejemplo: hay una correlación entre mis gastos de publicidad y mis ventas? Si no hay, no te sirve invertir en publicidad. Y si hay, hasta que punta? Que relación hay entre los dos? Exponential? Linear?\n",
    "\n",
    "La diferencia entre covarianza y correlación es que el valor de correlación siempre esta entre 0 - 1, mientras que el valor de covarianza es dependiente de la varianza, por eso que la correlación es más facíl para entender.   "
   ]
  },
  {
   "cell_type": "code",
   "execution_count": 28,
   "metadata": {},
   "outputs": [],
   "source": [
    "def de_mean(x):\n",
    "    xmean = mean(x)\n",
    "    return [xi - xmean for xi in x]\n",
    "\n",
    "def covariance(x, y):\n",
    "    n = len(x)\n",
    "    return dot(de_mean(x), de_mean(y)) / (n-1)"
   ]
  },
  {
   "cell_type": "code",
   "execution_count": 29,
   "metadata": {},
   "outputs": [],
   "source": [
    "df_corr = df_futbol[np.isfinite(df_futbol['MV_transfer'])]"
   ]
  },
  {
   "cell_type": "code",
   "execution_count": 30,
   "metadata": {},
   "outputs": [
    {
     "data": {
      "text/plain": [
       "<matplotlib.collections.PathCollection at 0x7f1664286780>"
      ]
     },
     "execution_count": 30,
     "metadata": {},
     "output_type": "execute_result"
    },
    {
     "data": {
      "image/png": "[encoded data removed]",
      "text/plain": [
       "<Figure size 432x288 with 1 Axes>"
      ]
     },
     "metadata": {
      "needs_background": "light"
     },
     "output_type": "display_data"
    }
   ],
   "source": [
    "scatter(df_corr['MV_transfer'], df_corr['Transfer_fee'])"
   ]
  },
  {
   "cell_type": "code",
   "execution_count": 31,
   "metadata": {},
   "outputs": [
    {
     "data": {
      "text/plain": [
       "42178533029878.62"
      ]
     },
     "execution_count": 31,
     "metadata": {},
     "output_type": "execute_result"
    }
   ],
   "source": [
    "covariance(df_corr['MV_transfer'], df_corr['Transfer_fee'])"
   ]
  },
  {
   "cell_type": "code",
   "execution_count": 32,
   "metadata": {},
   "outputs": [
    {
     "data": {
      "text/plain": [
       "0.9360930431227552"
      ]
     },
     "execution_count": 32,
     "metadata": {},
     "output_type": "execute_result"
    }
   ],
   "source": [
    "def correlation(x, y):\n",
    "    stddevx = x.std()\n",
    "    stddevy = y.std()\n",
    "    return covariance(x,y) / stddevx / stddevy  \n",
    "\n",
    "correlation(df_corr['MV_transfer'], df_corr['Transfer_fee'])"
   ]
  },
  {
   "cell_type": "markdown",
   "metadata": {},
   "source": [
    "<a id='TAREA2'></a>\n",
    "# TAREA: Estadistica basica + Business understanding\n",
    "[Inicio ▲](#Indice)"
   ]
  },
  {
   "cell_type": "markdown",
   "metadata": {},
   "source": [
    "#### 1. Que tipo de datos son los variables: Transfer_to_division, MV_transfer, Edad, Transfer_after?"
   ]
  },
  {
   "cell_type": "code",
   "execution_count": null,
   "metadata": {},
   "outputs": [],
   "source": []
  },
  {
   "cell_type": "markdown",
   "metadata": {},
   "source": [
    "#### 2. Calcula el promedio, mediana, varianza y desvación estandar de Transfer_fee y MV_4y_high"
   ]
  },
  {
   "cell_type": "code",
   "execution_count": null,
   "metadata": {},
   "outputs": [],
   "source": []
  },
  {
   "cell_type": "markdown",
   "metadata": {},
   "source": [
    "#### 3. Calcula la covarianza y correlacion entre Transfer_fee y MV_4y_high. Esperas que es mas alto o bajo de la correlacion entre Transfer_fee y MV_transfer? Que es y podes encontrar una explicación?"
   ]
  },
  {
   "cell_type": "code",
   "execution_count": null,
   "metadata": {},
   "outputs": [],
   "source": []
  },
  {
   "cell_type": "markdown",
   "metadata": {},
   "source": [
    "#### 4. Calcula el promedio y mediana de Transfer_fee y MV_4y_high por jugadores que son exitosos y por jugadores que no fueron exitosos. Hay una diferencia entre los dos datasets? Que significa eso? Hay una diferencia entre promedio y median, porque si o no?"
   ]
  },
  {
   "cell_type": "code",
   "execution_count": null,
   "metadata": {},
   "outputs": [],
   "source": []
  },
  {
   "cell_type": "markdown",
   "metadata": {},
   "source": [
    "#### 5. Compara la edad promedio y mediana entre el grupo de succeeded y non succeeded."
   ]
  },
  {
   "cell_type": "code",
   "execution_count": null,
   "metadata": {},
   "outputs": [],
   "source": []
  },
  {
   "cell_type": "markdown",
   "metadata": {},
   "source": [
    "#### 6. Compara el promedio, mediana y desveción estandar de Transfer_after entre los dos grupos. Compara también con el MV_high que ya calculaste arriba."
   ]
  },
  {
   "cell_type": "code",
   "execution_count": null,
   "metadata": {},
   "outputs": [],
   "source": []
  },
  {
   "cell_type": "markdown",
   "metadata": {},
   "source": [
    "#### 7. Compara el Transfer_fee promedio y mediana cual se paga en todos los distintos ligas de Europa. Hay una diferencia entre ellos? "
   ]
  },
  {
   "cell_type": "code",
   "execution_count": null,
   "metadata": {},
   "outputs": [],
   "source": []
  },
  {
   "cell_type": "markdown",
   "metadata": {},
   "source": [
    "<a id='Visualización'></a>\n",
    "# EDA - Visualización\n",
    "[Inicio ▲](#Indice)\n",
    "\n",
    "Técnicas de visualización tiene una grande importancia en el mundo de analíticas de (big) data. Nos da la oportunidad para dar conocimiento a miles de datos por resumirlos en una sola graphica. \n",
    "\n",
    "..."
   ]
  },
  {
   "cell_type": "markdown",
   "metadata": {},
   "source": [
    "<a id='Primer-paso'></a>\n",
    "## Primer paso\n",
    "[Inicio ▲](#Indice)\n",
    "\n",
    "Aunque parece muy o igual demasiado basico y se puede argumentar que no es necesariamente 'visual', la funcion 'summary' ofrece mucho valor. Da la posibilidad al usuario para ver un resumen de todos los variables facilmente en un tabla simple."
   ]
  },
  {
   "cell_type": "code",
   "execution_count": 33,
   "metadata": {},
   "outputs": [
    {
     "data": {
      "text/html": [
       "<div>\n",
       "<style scoped>\n",
       "    .dataframe tbody tr th:only-of-type {\n",
       "        vertical-align: middle;\n",
       "    }\n",
       "\n",
       "    .dataframe tbody tr th {\n",
       "        vertical-align: top;\n",
       "    }\n",
       "\n",
       "    .dataframe thead th {\n",
       "        text-align: right;\n",
       "    }\n",
       "</style>\n",
       "<table border=\"1\" class=\"dataframe\">\n",
       "  <thead>\n",
       "    <tr style=\"text-align: right;\">\n",
       "      <th></th>\n",
       "      <th>Unnamed: 0</th>\n",
       "      <th>Player_name</th>\n",
       "      <th>Player_position</th>\n",
       "      <th>Player_age</th>\n",
       "      <th>Transfer_season</th>\n",
       "      <th>Transfer_from_division</th>\n",
       "      <th>Transfer_from_team</th>\n",
       "      <th>Transfer_to_division</th>\n",
       "      <th>Transfer_to_team</th>\n",
       "      <th>Transfer_fee</th>\n",
       "      <th>MV_transfer</th>\n",
       "      <th>First_time_EU</th>\n",
       "      <th>Loan_Transfer</th>\n",
       "      <th>MV_4y_high</th>\n",
       "      <th>Transfer_4y</th>\n",
       "      <th>Transfer_after</th>\n",
       "      <th>succeeded</th>\n",
       "    </tr>\n",
       "  </thead>\n",
       "  <tbody>\n",
       "    <tr>\n",
       "      <th>count</th>\n",
       "      <td>161.000000</td>\n",
       "      <td>161</td>\n",
       "      <td>161</td>\n",
       "      <td>161.000000</td>\n",
       "      <td>161</td>\n",
       "      <td>161</td>\n",
       "      <td>161</td>\n",
       "      <td>161</td>\n",
       "      <td>161</td>\n",
       "      <td>1.610000e+02</td>\n",
       "      <td>1.540000e+02</td>\n",
       "      <td>161</td>\n",
       "      <td>161</td>\n",
       "      <td>1.280000e+02</td>\n",
       "      <td>161</td>\n",
       "      <td>1.120000e+02</td>\n",
       "      <td>161</td>\n",
       "    </tr>\n",
       "    <tr>\n",
       "      <th>unique</th>\n",
       "      <td>NaN</td>\n",
       "      <td>154</td>\n",
       "      <td>12</td>\n",
       "      <td>NaN</td>\n",
       "      <td>5</td>\n",
       "      <td>9</td>\n",
       "      <td>65</td>\n",
       "      <td>5</td>\n",
       "      <td>66</td>\n",
       "      <td>NaN</td>\n",
       "      <td>NaN</td>\n",
       "      <td>2</td>\n",
       "      <td>3</td>\n",
       "      <td>NaN</td>\n",
       "      <td>3</td>\n",
       "      <td>NaN</td>\n",
       "      <td>2</td>\n",
       "    </tr>\n",
       "    <tr>\n",
       "      <th>top</th>\n",
       "      <td>NaN</td>\n",
       "      <td>Maicosuel</td>\n",
       "      <td>Centre-Back</td>\n",
       "      <td>NaN</td>\n",
       "      <td>12/13</td>\n",
       "      <td>Série A</td>\n",
       "      <td>Nacional</td>\n",
       "      <td>Serie A</td>\n",
       "      <td>Udinese Calcio</td>\n",
       "      <td>NaN</td>\n",
       "      <td>NaN</td>\n",
       "      <td>Yes</td>\n",
       "      <td>No</td>\n",
       "      <td>NaN</td>\n",
       "      <td>Yes</td>\n",
       "      <td>NaN</td>\n",
       "      <td>False</td>\n",
       "    </tr>\n",
       "    <tr>\n",
       "      <th>freq</th>\n",
       "      <td>NaN</td>\n",
       "      <td>4</td>\n",
       "      <td>33</td>\n",
       "      <td>NaN</td>\n",
       "      <td>36</td>\n",
       "      <td>45</td>\n",
       "      <td>9</td>\n",
       "      <td>78</td>\n",
       "      <td>11</td>\n",
       "      <td>NaN</td>\n",
       "      <td>NaN</td>\n",
       "      <td>124</td>\n",
       "      <td>133</td>\n",
       "      <td>NaN</td>\n",
       "      <td>131</td>\n",
       "      <td>NaN</td>\n",
       "      <td>111</td>\n",
       "    </tr>\n",
       "    <tr>\n",
       "      <th>mean</th>\n",
       "      <td>99.074534</td>\n",
       "      <td>NaN</td>\n",
       "      <td>NaN</td>\n",
       "      <td>22.726708</td>\n",
       "      <td>NaN</td>\n",
       "      <td>NaN</td>\n",
       "      <td>NaN</td>\n",
       "      <td>NaN</td>\n",
       "      <td>NaN</td>\n",
       "      <td>4.392391e+06</td>\n",
       "      <td>3.055519e+06</td>\n",
       "      <td>NaN</td>\n",
       "      <td>NaN</td>\n",
       "      <td>9.445312e+06</td>\n",
       "      <td>NaN</td>\n",
       "      <td>6.052411e+06</td>\n",
       "      <td>NaN</td>\n",
       "    </tr>\n",
       "    <tr>\n",
       "      <th>std</th>\n",
       "      <td>57.066250</td>\n",
       "      <td>NaN</td>\n",
       "      <td>NaN</td>\n",
       "      <td>3.166204</td>\n",
       "      <td>NaN</td>\n",
       "      <td>NaN</td>\n",
       "      <td>NaN</td>\n",
       "      <td>NaN</td>\n",
       "      <td>NaN</td>\n",
       "      <td>8.230226e+06</td>\n",
       "      <td>5.371147e+06</td>\n",
       "      <td>NaN</td>\n",
       "      <td>NaN</td>\n",
       "      <td>1.852205e+07</td>\n",
       "      <td>NaN</td>\n",
       "      <td>2.186103e+07</td>\n",
       "      <td>NaN</td>\n",
       "    </tr>\n",
       "    <tr>\n",
       "      <th>min</th>\n",
       "      <td>1.000000</td>\n",
       "      <td>NaN</td>\n",
       "      <td>NaN</td>\n",
       "      <td>18.000000</td>\n",
       "      <td>NaN</td>\n",
       "      <td>NaN</td>\n",
       "      <td>NaN</td>\n",
       "      <td>NaN</td>\n",
       "      <td>NaN</td>\n",
       "      <td>2.000000e+05</td>\n",
       "      <td>7.500000e+04</td>\n",
       "      <td>NaN</td>\n",
       "      <td>NaN</td>\n",
       "      <td>5.000000e+05</td>\n",
       "      <td>NaN</td>\n",
       "      <td>0.000000e+00</td>\n",
       "      <td>NaN</td>\n",
       "    </tr>\n",
       "    <tr>\n",
       "      <th>25%</th>\n",
       "      <td>51.000000</td>\n",
       "      <td>NaN</td>\n",
       "      <td>NaN</td>\n",
       "      <td>20.000000</td>\n",
       "      <td>NaN</td>\n",
       "      <td>NaN</td>\n",
       "      <td>NaN</td>\n",
       "      <td>NaN</td>\n",
       "      <td>NaN</td>\n",
       "      <td>1.500000e+06</td>\n",
       "      <td>8.000000e+05</td>\n",
       "      <td>NaN</td>\n",
       "      <td>NaN</td>\n",
       "      <td>2.150000e+06</td>\n",
       "      <td>NaN</td>\n",
       "      <td>0.000000e+00</td>\n",
       "      <td>NaN</td>\n",
       "    </tr>\n",
       "    <tr>\n",
       "      <th>50%</th>\n",
       "      <td>99.000000</td>\n",
       "      <td>NaN</td>\n",
       "      <td>NaN</td>\n",
       "      <td>23.000000</td>\n",
       "      <td>NaN</td>\n",
       "      <td>NaN</td>\n",
       "      <td>NaN</td>\n",
       "      <td>NaN</td>\n",
       "      <td>NaN</td>\n",
       "      <td>2.500000e+06</td>\n",
       "      <td>2.000000e+06</td>\n",
       "      <td>NaN</td>\n",
       "      <td>NaN</td>\n",
       "      <td>4.000000e+06</td>\n",
       "      <td>NaN</td>\n",
       "      <td>1.825000e+06</td>\n",
       "      <td>NaN</td>\n",
       "    </tr>\n",
       "    <tr>\n",
       "      <th>75%</th>\n",
       "      <td>150.000000</td>\n",
       "      <td>NaN</td>\n",
       "      <td>NaN</td>\n",
       "      <td>25.000000</td>\n",
       "      <td>NaN</td>\n",
       "      <td>NaN</td>\n",
       "      <td>NaN</td>\n",
       "      <td>NaN</td>\n",
       "      <td>NaN</td>\n",
       "      <td>4.200000e+06</td>\n",
       "      <td>3.000000e+06</td>\n",
       "      <td>NaN</td>\n",
       "      <td>NaN</td>\n",
       "      <td>9.625000e+06</td>\n",
       "      <td>NaN</td>\n",
       "      <td>4.000000e+06</td>\n",
       "      <td>NaN</td>\n",
       "    </tr>\n",
       "    <tr>\n",
       "      <th>max</th>\n",
       "      <td>200.000000</td>\n",
       "      <td>NaN</td>\n",
       "      <td>NaN</td>\n",
       "      <td>35.000000</td>\n",
       "      <td>NaN</td>\n",
       "      <td>NaN</td>\n",
       "      <td>NaN</td>\n",
       "      <td>NaN</td>\n",
       "      <td>NaN</td>\n",
       "      <td>8.820000e+07</td>\n",
       "      <td>5.000000e+07</td>\n",
       "      <td>NaN</td>\n",
       "      <td>NaN</td>\n",
       "      <td>1.800000e+08</td>\n",
       "      <td>NaN</td>\n",
       "      <td>2.220000e+08</td>\n",
       "      <td>NaN</td>\n",
       "    </tr>\n",
       "  </tbody>\n",
       "</table>\n",
       "</div>"
      ],
      "text/plain": [
       "        Unnamed: 0 Player_name Player_position  Player_age Transfer_season  \\\n",
       "count   161.000000         161             161  161.000000             161   \n",
       "unique         NaN         154              12         NaN               5   \n",
       "top            NaN   Maicosuel     Centre-Back         NaN           12/13   \n",
       "freq           NaN           4              33         NaN              36   \n",
       "mean     99.074534         NaN             NaN   22.726708             NaN   \n",
       "std      57.066250         NaN             NaN    3.166204             NaN   \n",
       "min       1.000000         NaN             NaN   18.000000             NaN   \n",
       "25%      51.000000         NaN             NaN   20.000000             NaN   \n",
       "50%      99.000000         NaN             NaN   23.000000             NaN   \n",
       "75%     150.000000         NaN             NaN   25.000000             NaN   \n",
       "max     200.000000         NaN             NaN   35.000000             NaN   \n",
       "\n",
       "       Transfer_from_division Transfer_from_team Transfer_to_division  \\\n",
       "count                     161                161                  161   \n",
       "unique                      9                 65                    5   \n",
       "top                   Série A           Nacional              Serie A   \n",
       "freq                       45                  9                   78   \n",
       "mean                      NaN                NaN                  NaN   \n",
       "std                       NaN                NaN                  NaN   \n",
       "min                       NaN                NaN                  NaN   \n",
       "25%                       NaN                NaN                  NaN   \n",
       "50%                       NaN                NaN                  NaN   \n",
       "75%                       NaN                NaN                  NaN   \n",
       "max                       NaN                NaN                  NaN   \n",
       "\n",
       "       Transfer_to_team  Transfer_fee   MV_transfer First_time_EU  \\\n",
       "count               161  1.610000e+02  1.540000e+02           161   \n",
       "unique               66           NaN           NaN             2   \n",
       "top      Udinese Calcio           NaN           NaN           Yes   \n",
       "freq                 11           NaN           NaN           124   \n",
       "mean                NaN  4.392391e+06  3.055519e+06           NaN   \n",
       "std                 NaN  8.230226e+06  5.371147e+06           NaN   \n",
       "min                 NaN  2.000000e+05  7.500000e+04           NaN   \n",
       "25%                 NaN  1.500000e+06  8.000000e+05           NaN   \n",
       "50%                 NaN  2.500000e+06  2.000000e+06           NaN   \n",
       "75%                 NaN  4.200000e+06  3.000000e+06           NaN   \n",
       "max                 NaN  8.820000e+07  5.000000e+07           NaN   \n",
       "\n",
       "       Loan_Transfer    MV_4y_high Transfer_4y  Transfer_after succeeded  \n",
       "count            161  1.280000e+02         161    1.120000e+02       161  \n",
       "unique             3           NaN           3             NaN         2  \n",
       "top               No           NaN         Yes             NaN     False  \n",
       "freq             133           NaN         131             NaN       111  \n",
       "mean             NaN  9.445312e+06         NaN    6.052411e+06       NaN  \n",
       "std              NaN  1.852205e+07         NaN    2.186103e+07       NaN  \n",
       "min              NaN  5.000000e+05         NaN    0.000000e+00       NaN  \n",
       "25%              NaN  2.150000e+06         NaN    0.000000e+00       NaN  \n",
       "50%              NaN  4.000000e+06         NaN    1.825000e+06       NaN  \n",
       "75%              NaN  9.625000e+06         NaN    4.000000e+06       NaN  \n",
       "max              NaN  1.800000e+08         NaN    2.220000e+08       NaN  "
      ]
     },
     "execution_count": 33,
     "metadata": {},
     "output_type": "execute_result"
    }
   ],
   "source": [
    "df_futbol.describe(include = \"all\")"
   ]
  },
  {
   "cell_type": "markdown",
   "metadata": {},
   "source": [
    "<a id='Graficas'></a>\n",
    "## Graficas\n",
    "[Inicio ▲](#Indice)"
   ]
  },
  {
   "cell_type": "markdown",
   "metadata": {},
   "source": [
    "### Scatterplot\n",
    "Para ser capaz de interpretar bien un scatterplot (o cualquier graphica), los limites de los axis son muy importante. En el ejemplo abajo vemos que la graphica incluye unos valores extremos. Igual, es bastante sencillo exlcuirlos de la graphica con ylim y xlim. Intentalo para ti mismo."
   ]
  },
  {
   "cell_type": "code",
   "execution_count": 98,
   "metadata": {},
   "outputs": [
    {
     "data": {
      "text/plain": [
       "<matplotlib.collections.PathCollection at 0x7fc3a1d6bc18>"
      ]
     },
     "execution_count": 98,
     "metadata": {},
     "output_type": "execute_result"
    },
    {
     "data": {
      "image/png": "[encoded data removed]",
      "text/plain": [
       "<Figure size 432x288 with 1 Axes>"
      ]
     },
     "metadata": {},
     "output_type": "display_data"
    }
   ],
   "source": [
    "scatter(df_futbol.Player_age, df_futbol.MV_transfer)"
   ]
  },
  {
   "cell_type": "code",
   "execution_count": 99,
   "metadata": {},
   "outputs": [
    {
     "data": {
      "image/png": "[encoded data removed]",
      "text/plain": [
       "<Figure size 432x288 with 1 Axes>"
      ]
     },
     "metadata": {},
     "output_type": "display_data"
    }
   ],
   "source": [
    "plt.scatter(df_futbol.Player_age, df_futbol.MV_transfer, c=df_futbol.succeeded)\n",
    "plt.title(\"Player age vs Market value at time of transfer\")\n",
    "plt.xlabel(\"Player age\")\n",
    "plt.ylabel(\"Market value (in millions €)\")\n",
    "plt.show()"
   ]
  },
  {
   "cell_type": "markdown",
   "metadata": {},
   "source": [
    "### Histogram\n",
    "Un histograma o diagrama de columna es la representación gráfica de la distribución de frecuencia de datos agrupados en clases. En el ejemplo abajo, presentamos la cantidad de jugadores por posición. Igual vemos que no esta muy interpretable, sería mejor con menos grupos (como vamos a ver más abajo). \n",
    "\n",
    "Cuando utilizamos la función plot en R sobre un variable categorical, nos da un histogram. También podríamos utilizar plot(table(df$variable)). Table es la presentación non-grafica de un variable."
   ]
  },
  {
   "cell_type": "code",
   "execution_count": 100,
   "metadata": {},
   "outputs": [
    {
     "data": {
      "text/plain": [
       "Centre-Back           33\n",
       "Centre-Forward        27\n",
       "Central Midfield      16\n",
       "Defensive Midfield    15\n",
       "Left Winger           14\n",
       "Attacking Midfield    13\n",
       "Right-Back            11\n",
       "Right Winger           9\n",
       "Left-Back              8\n",
       "Second Striker         6\n",
       "Goalkeeper             5\n",
       "Left Midfield          4\n",
       "Name: Player_position, dtype: int64"
      ]
     },
     "execution_count": 100,
     "metadata": {},
     "output_type": "execute_result"
    }
   ],
   "source": [
    "df_futbol.Player_position.value_counts()"
   ]
  },
  {
   "cell_type": "code",
   "execution_count": 101,
   "metadata": {},
   "outputs": [
    {
     "data": {
      "text/plain": [
       "Text(0, 0.5, 'Amount of players')"
      ]
     },
     "execution_count": 101,
     "metadata": {},
     "output_type": "execute_result"
    },
    {
     "data": {
      "image/png": "[encoded data removed]",
      "text/plain": [
       "<Figure size 432x288 with 1 Axes>"
      ]
     },
     "metadata": {},
     "output_type": "display_data"
    }
   ],
   "source": [
    "plt.style.use('ggplot')\n",
    "plt.hist(df_futbol.Player_position)\n",
    "plt.xticks(rotation='vertical')\n",
    "plt.title(\"Player positions\")\n",
    "plt.ylabel(\"Amount of players\")"
   ]
  },
  {
   "cell_type": "markdown",
   "metadata": {},
   "source": [
    "### Diagrama de torta\n",
    "Un gráfico circular es un gráfico estadístico circular, que se divide en sectores para ilustrar la proporción numérica. Abaja mostramos un ejemplo con la proporción de jugadores quienes van a las distintas divisiones en Europa."
   ]
  },
  {
   "cell_type": "code",
   "execution_count": 102,
   "metadata": {},
   "outputs": [
    {
     "data": {
      "text/plain": [
       "<matplotlib.axes._subplots.AxesSubplot at 0x7fc3a19b7e48>"
      ]
     },
     "execution_count": 102,
     "metadata": {},
     "output_type": "execute_result"
    },
    {
     "data": {
      "image/png": "[encoded data removed]",
      "text/plain": [
       "<Figure size 432x288 with 1 Axes>"
      ]
     },
     "metadata": {},
     "output_type": "display_data"
    }
   ],
   "source": [
    "df_futbol.Transfer_to_division.value_counts().plot(kind='pie')"
   ]
  },
  {
   "cell_type": "code",
   "execution_count": 103,
   "metadata": {},
   "outputs": [
    {
     "data": {
      "image/png": "[encoded data removed]",
      "text/plain": [
       "<Figure size 432x288 with 1 Axes>"
      ]
     },
     "metadata": {},
     "output_type": "display_data"
    }
   ],
   "source": [
    "League_spendings = df_futbol.groupby('Transfer_to_division')['Transfer_fee'].sum()\n",
    "labels = \"Premier League\", \"Bundesliga\", \"La Liga\", \"Ligue 1\", \"Serie A\"\n",
    "\n",
    "colors = ['gold', 'yellowgreen', 'lightcoral', 'lightskyblue', 'blueviolet']\n",
    "explode = (0.1, 0, 0, 0, 0)  # explode 1st slice\n",
    "\n",
    "# Plot\n",
    "plt.pie(League_spendings, explode=explode, labels=labels, colors=colors,\n",
    "autopct='%1.1f%%', shadow=True, startangle=140)\n",
    "\n",
    "plt.axis('equal')\n",
    "plt.show()"
   ]
  },
  {
   "cell_type": "markdown",
   "metadata": {},
   "source": [
    "### Gráfico de líneas\n",
    "Un gráfico de líneas o un gráfico de líneas o un gráfico de líneas es un tipo de gráfico que muestra información como una serie o puntos de datos llamados 'marcadores' conectados por segmentos de línea.\n",
    "\n",
    "En el ejemplo abajo, presentamos la evolución de gastos por transfer por temporada. Para mostrarlo, primero tenemos que calcularlo. Mostramos dos metodos. \n",
    "\n",
    "En el primer methodo, utilizamos un for loop para sumar todos los gastos por temporada. Aunque este methodo es perfectamente correcto, se puede hacerlo mucho mas eficiente como mostramos más abajo."
   ]
  },
  {
   "cell_type": "code",
   "execution_count": 104,
   "metadata": {},
   "outputs": [
    {
     "name": "stdout",
     "output_type": "stream",
     "text": [
      "Transfer_season\n",
      "09/10    117755000\n",
      "10/11    112810000\n",
      "11/12    116710000\n",
      "12/13    173990000\n",
      "13/14    185910000\n",
      "Name: Transfer_fee, dtype: int64\n"
     ]
    },
    {
     "data": {
      "text/plain": [
       "Text(0.5, 0, 'Season')"
      ]
     },
     "execution_count": 104,
     "metadata": {},
     "output_type": "execute_result"
    },
    {
     "data": {
      "image/png": "[encoded data removed]",
      "text/plain": [
       "<Figure size 432x288 with 1 Axes>"
      ]
     },
     "metadata": {},
     "output_type": "display_data"
    }
   ],
   "source": [
    "Season_spendings = df_futbol.groupby('Transfer_season')['Transfer_fee'].sum()\n",
    "print(Season_spendings)\n",
    "\n",
    "labels = [\"09/10\", \"10/11\", \"11/12\", \"12/13\", \"13/14\"]\n",
    "\n",
    "plt.plot(labels, Season_spendings)\n",
    "plt.title(\"Season spendings\")\n",
    "plt.ylabel(\"Total spendings in 100 million €\")\n",
    "plt.xlabel(\"Season\")"
   ]
  },
  {
   "cell_type": "markdown",
   "metadata": {},
   "source": [
    "### Boxplot\n",
    "\n",
    "Un diagrama de caja es un resumen gráfico de una variable basada en la representación de cinco dígitos. Este resumen de cinco dígitos consta del mínimo, el primer cuartil, la mediana (o segundo cuartil), el tercer cuartil y el máximo de los datos observados."
   ]
  },
  {
   "cell_type": "code",
   "execution_count": 109,
   "metadata": {},
   "outputs": [
    {
     "data": {
      "image/png": "[encoded data removed]",
      "text/plain": [
       "<Figure size 432x288 with 1 Axes>"
      ]
     },
     "metadata": {},
     "output_type": "display_data"
    }
   ],
   "source": [
    "boxplot(df_futbol.Transfer_fee)\n",
    "ymax = 10000000\n",
    "ymin = -100000\n",
    "plt.ylim(ymin, ymax)\n",
    "plt.show()"
   ]
  },
  {
   "cell_type": "markdown",
   "metadata": {},
   "source": [
    "### Stacked histogram\n",
    "\n",
    "Un gráfico de barras apiladas es un gráfico que utiliza barras para mostrar comparaciones entre categorías de datos, pero con la capacidad de presentar otro variable en las barras. \n",
    "\n",
    "Abajo mostramos un histogram de las divisiones destinarios y aplicamos un color cual presenta la distribución de jugadores exitosos vs no-exitosos."
   ]
  },
  {
   "cell_type": "code",
   "execution_count": 110,
   "metadata": {},
   "outputs": [
    {
     "data": {
      "text/plain": [
       "<matplotlib.axes._subplots.AxesSubplot at 0x7fc3a1ad57b8>"
      ]
     },
     "execution_count": 110,
     "metadata": {},
     "output_type": "execute_result"
    },
    {
     "data": {
      "image/png": "[encoded data removed]",
      "text/plain": [
       "<Figure size 432x288 with 1 Axes>"
      ]
     },
     "metadata": {},
     "output_type": "display_data"
    }
   ],
   "source": [
    "df2 = df_futbol.groupby(['Transfer_to_division', 'succeeded'])['Transfer_to_division'].count().unstack('succeeded').fillna(0)\n",
    "df2.plot(kind='bar', stacked=True)"
   ]
  },
  {
   "cell_type": "markdown",
   "metadata": {},
   "source": [
    "### Stacked area chart\n",
    "Un gráfico de área apilada es la extensión de un gráfico de área básico para mostrar la evolución del valor de varios grupos en el mismo gráfico. Los valores de cada grupo se muestran uno encima del otro.\n",
    "\n",
    "Abajo mostramos la evolución de gastos por año y además la distribución de gastos totales por división destinario.  "
   ]
  },
  {
   "cell_type": "code",
   "execution_count": 111,
   "metadata": {},
   "outputs": [
    {
     "data": {
      "text/plain": [
       "<matplotlib.axes._subplots.AxesSubplot at 0x7fc3a1959278>"
      ]
     },
     "execution_count": 111,
     "metadata": {},
     "output_type": "execute_result"
    },
    {
     "data": {
      "image/png": "[encoded data removed]",
      "text/plain": [
       "<Figure size 432x288 with 1 Axes>"
      ]
     },
     "metadata": {},
     "output_type": "display_data"
    }
   ],
   "source": [
    "df2 = df_futbol.groupby(['Transfer_season', 'Transfer_to_division'])['Transfer_fee'].sum().unstack('Transfer_to_division').fillna(0)\n",
    "df2.plot(kind='area', stacked=True)"
   ]
  },
  {
   "cell_type": "code",
   "execution_count": 112,
   "metadata": {},
   "outputs": [
    {
     "data": {
      "text/plain": [
       "<matplotlib.axes._subplots.AxesSubplot at 0x7fc3a1842898>"
      ]
     },
     "execution_count": 112,
     "metadata": {},
     "output_type": "execute_result"
    },
    {
     "data": {
      "image/png": "[encoded data removed]",
      "text/plain": [
       "<Figure size 432x288 with 1 Axes>"
      ]
     },
     "metadata": {},
     "output_type": "display_data"
    }
   ],
   "source": [
    "df2 = df_futbol.groupby(['Transfer_season', 'Transfer_to_division'])['Transfer_fee'].mean().unstack('Transfer_to_division').fillna(0)\n",
    "df2.plot(kind='area', stacked=True)"
   ]
  },
  {
   "cell_type": "markdown",
   "metadata": {},
   "source": [
    "<a id='TAREA3'></a>\n",
    "# TAREA: Visualizaciónes + Data understanding\n",
    "[Inicio ▲](#Indice)"
   ]
  },
  {
   "cell_type": "markdown",
   "metadata": {},
   "source": [
    "### 1. En el summary vemos algunos nombres estan 4 veces en la lista. Como es posible? Investiga, verifica su hypothesis y borra filas duplicados si es necesario."
   ]
  },
  {
   "cell_type": "code",
   "execution_count": null,
   "metadata": {},
   "outputs": [],
   "source": []
  },
  {
   "cell_type": "markdown",
   "metadata": {},
   "source": [
    "### 2. El histogram de distintas posiciones no nos da una vista muy clara. Arma un codigo para agregar un nuevo variable cual grupa las posiciones en 4 categorias. (Golero, Defensa, Media cancha, Adelante)"
   ]
  },
  {
   "cell_type": "code",
   "execution_count": null,
   "metadata": {},
   "outputs": [],
   "source": []
  },
  {
   "cell_type": "markdown",
   "metadata": {},
   "source": [
    "### 3. Visualiza su nuevo variable de posiciones en un histogram."
   ]
  },
  {
   "cell_type": "code",
   "execution_count": null,
   "metadata": {},
   "outputs": [],
   "source": []
  },
  {
   "cell_type": "markdown",
   "metadata": {},
   "source": [
    "### 4.  Visualiza de nuevo la nueva variable, pero ahora implementa también que el color muestra la distribución de succeeded. Describe que se observa."
   ]
  },
  {
   "cell_type": "code",
   "execution_count": null,
   "metadata": {},
   "outputs": [],
   "source": []
  },
  {
   "cell_type": "markdown",
   "metadata": {},
   "source": [
    "### 5. Arma otro stacked histogram, esta vez de las distintas divisiones y el color presentado las distintas posiciones."
   ]
  },
  {
   "cell_type": "code",
   "execution_count": null,
   "metadata": {},
   "outputs": [],
   "source": []
  },
  {
   "cell_type": "markdown",
   "metadata": {},
   "source": [
    "### 6. Arma un stacked area chart, para los MV_4y_high por los distintas temporadas y por división. Describe lo que se observa. "
   ]
  },
  {
   "cell_type": "code",
   "execution_count": null,
   "metadata": {},
   "outputs": [],
   "source": []
  },
  {
   "cell_type": "markdown",
   "metadata": {},
   "source": [
    "# SOLUCIONES: Estadistica basica + Business understanding\n",
    "[Inicio ▲](#Indice)"
   ]
  },
  {
   "cell_type": "markdown",
   "metadata": {},
   "source": [
    "#### 1. Que tipo de datos son los variables: Transfer_to_division, MV_transfer, Edad, Transfer_after?"
   ]
  },
  {
   "cell_type": "markdown",
   "metadata": {},
   "source": [
    "Categorical, Numerical (continua), Numerical(discreto), Numerical (continua)"
   ]
  },
  {
   "cell_type": "markdown",
   "metadata": {},
   "source": [
    "#### 2. Calcula el promedio, mediana, varianza y desvación estandar de Transfer_fee y MV_4y_high"
   ]
  },
  {
   "cell_type": "code",
   "execution_count": 208,
   "metadata": {},
   "outputs": [
    {
     "name": "stdout",
     "output_type": "stream",
     "text": [
      "mean equals 4298644.578313253 \n",
      "median equals 2500000.0 \n",
      "variance equals 66023779515334.07 \n",
      "standard deviation equals 8125501.800832615\n"
     ]
    }
   ],
   "source": [
    "mean_fee = df_futbol[\"Transfer_fee\"].mean()\n",
    "median_fee = df_futbol[\"Transfer_fee\"].median()\n",
    "var_fee = df_futbol[\"Transfer_fee\"].var()\n",
    "std_fee = df_futbol[\"Transfer_fee\"].std()\n",
    "print(\"mean equals\", mean_fee,'\\n' \"median equals\", median_fee, '\\n' \"variance equals\", var_fee, '\\n' \"standard deviation equals\", std_fee)"
   ]
  },
  {
   "cell_type": "code",
   "execution_count": 25,
   "metadata": {},
   "outputs": [
    {
     "name": "stdout",
     "output_type": "stream",
     "text": [
      "mean equals 9445312.5 \n",
      "median equals 4000000.0 \n",
      "variance equals 343066158956692.94 \n",
      "standard deviation equals 18522045.215275038\n"
     ]
    }
   ],
   "source": [
    "df_MVhigh = df_futbol[np.isfinite(df_futbol['MV_4y_high'])]\n",
    "mean_fee = df_MVhigh[\"MV_4y_high\"].mean()\n",
    "median_fee = df_MVhigh[\"MV_4y_high\"].median()\n",
    "var_fee = df_MVhigh[\"MV_4y_high\"].var()\n",
    "std_fee = df_MVhigh[\"MV_4y_high\"].std()\n",
    "print(\"mean equals\", mean_fee,'\\n' \"median equals\", median_fee, '\\n' \"variance equals\", var_fee, '\\n' \"standard deviation equals\", std_fee)"
   ]
  },
  {
   "cell_type": "markdown",
   "metadata": {},
   "source": [
    "#### 3. Calcula la covarianza y correlacion entre Transfer_fee y MV_4y_high. Esperas que es mas alto o bajo de la correlacion entre Transfer_fee y MV_transfer? Que es y podes encontrar una explicación?"
   ]
  },
  {
   "cell_type": "code",
   "execution_count": 29,
   "metadata": {},
   "outputs": [
    {
     "name": "stdout",
     "output_type": "stream",
     "text": [
      "covariance equals 143256044783464.56 \n",
      "correlation equals 0.8499599079839167\n"
     ]
    }
   ],
   "source": [
    "cov_fee_MVhigh = covariance(df_MVhigh[\"Transfer_fee\"], df_MVhigh[\"MV_4y_high\"])\n",
    "cor_fee_MVhigh = correlation(df_MVhigh[\"Transfer_fee\"], df_MVhigh[\"MV_4y_high\"])\n",
    "print(\"covariance equals\", cov_fee_MVhigh,'\\n' \"correlation equals\", cor_fee_MVhigh)"
   ]
  },
  {
   "cell_type": "markdown",
   "metadata": {},
   "source": [
    "La correlación entre Transfer_fee (precio del jugador) y MV_4y_high (valor mas alto del jugador en los 4 años enseguidos) es menor porque en 4 años muchas cosas pueden pasar. Un jugador se vuelve el mejor del mundo o no juega mas por leciones y entonces su valor cambia mucho de su precio inicial. Dicho eso, 0.85 aún es muy alto y muestra gran correlación."
   ]
  },
  {
   "cell_type": "markdown",
   "metadata": {},
   "source": [
    "#### 4. Calcula el promedio y mediana de Transfer_fee y MV_4y_high por jugadores que son exitosos y por jugadores que no fueron exitosos. Hay una diferencia entre los dos datasets? Que significa eso? Hay una diferencia entre promedio y median, porque si o no?"
   ]
  },
  {
   "cell_type": "code",
   "execution_count": 42,
   "metadata": {},
   "outputs": [
    {
     "data": {
      "text/plain": [
       "(50, 17)"
      ]
     },
     "execution_count": 42,
     "metadata": {},
     "output_type": "execute_result"
    }
   ],
   "source": [
    "df_suc = df_futbol.drop(df_futbol[df_futbol.succeeded == False].index)\n",
    "shape(df_suc)"
   ]
  },
  {
   "cell_type": "code",
   "execution_count": 43,
   "metadata": {},
   "outputs": [
    {
     "data": {
      "text/plain": [
       "(116, 17)"
      ]
     },
     "execution_count": 43,
     "metadata": {},
     "output_type": "execute_result"
    }
   ],
   "source": [
    "df_nosuc = df_futbol.drop(df_futbol[df_futbol.succeeded == True].index)\n",
    "shape(df_nosuc)"
   ]
  },
  {
   "cell_type": "code",
   "execution_count": 44,
   "metadata": {},
   "outputs": [],
   "source": [
    "df_suc_MVhigh = df_suc[np.isfinite(df_suc['MV_4y_high'])]\n",
    "df_nosuc_MVhigh = df_nosuc[np.isfinite(df_nosuc['MV_4y_high'])]"
   ]
  },
  {
   "cell_type": "code",
   "execution_count": 47,
   "metadata": {},
   "outputs": [
    {
     "name": "stdout",
     "output_type": "stream",
     "text": [
      "For succesful players the mean highest merket value is 17904081.63265306 \n",
      "while the median equals 10000000.0\n",
      "For players that did not succeed, the mean highest merket value is 4198734.17721519 \n",
      "while the median equals 3000000.0\n"
     ]
    }
   ],
   "source": [
    "mean_MVh_succeeded = df_suc_MVhigh['MV_4y_high'].mean() \n",
    "median_MVh_succeeded = df_suc_MVhigh['MV_4y_high'].median()\n",
    "\n",
    "mean_MVh_nosucceed = df_nosuc_MVhigh['MV_4y_high'].mean() \n",
    "median_MVh_nosucceed = df_nosuc_MVhigh['MV_4y_high'].median()\n",
    "\n",
    "print(\"For succesful players the mean highest merket value is\", mean_MVh_succeeded,'\\n' \"while the median equals\", median_MVh_succeeded) \n",
    "print(\"For players that did not succeed, the mean highest merket value is\", mean_MVh_nosucceed,'\\n' \"while the median equals\", median_MVh_nosucceed)"
   ]
  },
  {
   "cell_type": "code",
   "execution_count": 48,
   "metadata": {},
   "outputs": [
    {
     "name": "stdout",
     "output_type": "stream",
     "text": [
      "For succesful players the mean Transfer price is 6183061.224489796 \n",
      "while the median equals 3000000.0\n",
      "For players that did not succeed, the mean Transfer price is 3804936.7088607596 \n",
      "while the median equals 2500000.0\n"
     ]
    }
   ],
   "source": [
    "mean_MVh_succeeded = df_suc_MVhigh['Transfer_fee'].mean() \n",
    "median_MVh_succeeded = df_suc_MVhigh['Transfer_fee'].median()\n",
    "\n",
    "mean_MVh_nosucceed = df_nosuc_MVhigh['Transfer_fee'].mean() \n",
    "median_MVh_nosucceed = df_nosuc_MVhigh['Transfer_fee'].median()\n",
    "\n",
    "print(\"For succesful players the mean Transfer price is\", mean_MVh_succeeded,'\\n' \"while the median equals\", median_MVh_succeeded) \n",
    "print(\"For players that did not succeed, the mean Transfer price is\", mean_MVh_nosucceed,'\\n' \"while the median equals\", median_MVh_nosucceed)"
   ]
  },
  {
   "cell_type": "markdown",
   "metadata": {},
   "source": [
    "Primera que nada observamos que el promedio y mediana del valor mas alto de jugadores exitosos es bastante mas alto que los no-exitosos, cual es muy logico, jugadores exitosos van a tener mejor valor que los non-exitosos.\n",
    "\n",
    "Al otro lado, cuando ponemos foque en precio o transfer_fee, vemos que aunque vemos la misma tendencia, la diferencia es mucho más chico, lo que quiere decir que altos precios no necesariamente garantan jugadores exitos.\n",
    "\n",
    "Por ultimo, vemos aue hay una grande diferencia entre los promedios y medianas. Eso tiene que ver con valores extremos, entonces nuestro dataset contiene bastante jugadores con un valor o precio muy alto comparado con el promedio."
   ]
  },
  {
   "cell_type": "markdown",
   "metadata": {},
   "source": [
    "#### 5. Compara la edad promedio y mediana entre el grupo de succeeded y non succeeded."
   ]
  },
  {
   "cell_type": "code",
   "execution_count": 51,
   "metadata": {},
   "outputs": [
    {
     "name": "stdout",
     "output_type": "stream",
     "text": [
      "For succesful players the mean age is 22.02 \n",
      "while the median equals 22.0\n",
      "For players that did not succeed, the mean age is 23.28448275862069 \n",
      "while the median equals 23.0\n"
     ]
    }
   ],
   "source": [
    "mean_suc_age = df_suc['Player_age'].mean()\n",
    "median_suc_age = df_suc['Player_age'].median()\n",
    "\n",
    "mean_nosuc_age = df_nosuc['Player_age'].mean()\n",
    "median_nosuc_age = df_nosuc['Player_age'].median()\n",
    "\n",
    "print(\"For succesful players the mean age is\", mean_suc_age,'\\n' \"while the median equals\", median_suc_age) \n",
    "print(\"For players that did not succeed, the mean age is\", mean_nosuc_age,'\\n' \"while the median equals\", median_nosuc_age)"
   ]
  },
  {
   "cell_type": "markdown",
   "metadata": {},
   "source": [
    "La edad promedio/mediana de jugadores exitos es 22 mientras lo de jugadores no-exitosos es 23. Parece que jugadores jovenes tienen más probilidad de ser exitoso aunque un año no es una grande diferencia."
   ]
  },
  {
   "cell_type": "markdown",
   "metadata": {},
   "source": [
    "#### 6. Compara el promedio, mediana y desveción estandar de Transfer_after entre los dos grupos. Compara también con el MV_high que ya calculaste arriba."
   ]
  },
  {
   "cell_type": "code",
   "execution_count": 55,
   "metadata": {},
   "outputs": [],
   "source": [
    "df_sucTA = df_suc[np.isfinite(df_suc['Transfer_after'])]\n",
    "df_nosucTA = df_nosuc[np.isfinite(df_nosuc['Transfer_after'])]"
   ]
  },
  {
   "cell_type": "code",
   "execution_count": 56,
   "metadata": {},
   "outputs": [
    {
     "name": "stdout",
     "output_type": "stream",
     "text": [
      "For succesful players who got transferred in the 4 years after their initial transfer, the mean transfer fee price was 16796363.636363637 whilst the median and the std were respectively 7000000.0 and 38367508.61879928\n"
     ]
    }
   ],
   "source": [
    "mean_sucTA = df_sucTA['Transfer_after'].mean()\n",
    "median_sucTA = df_sucTA['Transfer_after'].median()\n",
    "std_sucTA = df_sucTA['Transfer_after'].std()\n",
    "\n",
    "print(\"For succesful players who got transferred in the 4 years after their initial transfer, the mean transfer fee price was\", mean_sucTA, \"whilst the median and the std were respectively\", median_sucTA, \"and\", std_sucTA)"
   ]
  },
  {
   "cell_type": "code",
   "execution_count": 57,
   "metadata": {},
   "outputs": [
    {
     "name": "stdout",
     "output_type": "stream",
     "text": [
      "For succesful players who got transferred in the 4 years after their initial transfer, the mean transfer fee price was 1564430.3797468354 whilst the median and the std were respectively 0.0 and 2633188.9347794103\n"
     ]
    }
   ],
   "source": [
    "mean_nosucTA = df_nosucTA['Transfer_after'].mean()\n",
    "median_nosucTA = df_nosucTA['Transfer_after'].median()\n",
    "std_nosucTA = df_nosucTA['Transfer_after'].std()\n",
    "\n",
    "print(\"For succesful players who got transferred in the 4 years after their initial transfer, the mean transfer fee price was\", mean_nosucTA, \"whilst the median and the std were respectively\", median_nosucTA, \"and\", std_nosucTA)"
   ]
  },
  {
   "cell_type": "markdown",
   "metadata": {},
   "source": [
    "Primero que nada, hay una tremenda diferencia entre los promedios/medianas del precio de nuevos transfers de jugadores exitos y no-exitosos, cual tiene sentido. \n",
    "\n",
    "Otra observación es que jugadores no-exitosos, estan vendido muchas veces gratis. Vemos eso porque la mediana es 0.\n",
    "\n",
    "Además, vemos que el sd de exitosos es muy alto, cual indica que los precios de nuevos transfers varian mucho.\n",
    "\n",
    "Por ultimo, cuando comparamos estas medidas con MV_4_high, vemos una tendencia igual, cual es bastante logico."
   ]
  },
  {
   "cell_type": "markdown",
   "metadata": {},
   "source": [
    "#### 7. Compara el Transfer_fee promedio y mediana cual se paga en todos los distintos ligas de Europa. Hay una diferencia entre ellos? "
   ]
  },
  {
   "cell_type": "code",
   "execution_count": 63,
   "metadata": {},
   "outputs": [
    {
     "data": {
      "text/plain": [
       "Transfer_to_division\n",
       "Bundesliga        3.542857e+06\n",
       "LaLiga            5.051026e+06\n",
       "Ligue 1           4.642812e+06\n",
       "Premier League    7.465333e+06\n",
       "Serie A           3.423415e+06\n",
       "Name: Transfer_fee, dtype: float64"
      ]
     },
     "execution_count": 63,
     "metadata": {},
     "output_type": "execute_result"
    }
   ],
   "source": [
    "df_futbol.groupby('Transfer_to_division')['Transfer_fee'].mean()"
   ]
  },
  {
   "cell_type": "markdown",
   "metadata": {},
   "source": [
    "El Premier League paga mucho más que las otras ligas. Bundesliga y Serie A lo menos."
   ]
  },
  {
   "cell_type": "code",
   "execution_count": null,
   "metadata": {},
   "outputs": [],
   "source": []
  },
  {
   "cell_type": "markdown",
   "metadata": {},
   "source": [
    "<a id='TAREA3'></a>\n",
    "# SOLUCIONES: Visualizaciónes + Data understanding\n",
    "[Inicio ▲](#Indice)"
   ]
  },
  {
   "cell_type": "markdown",
   "metadata": {},
   "source": [
    "### 1. En el summary vemos algunos nombres estan 4 veces en la lista. Como es posible? Investiga, verifica su hypothesis y borra filas duplicados si es necesario."
   ]
  },
  {
   "cell_type": "code",
   "execution_count": 44,
   "metadata": {},
   "outputs": [
    {
     "data": {
      "text/plain": [
       "Marcos Angeleri         4\n",
       "Maicosuel               4\n",
       "Nicolás Bianchi Arce    2\n",
       "Wallace Oliveira        1\n",
       "Pablo Pérez             1\n",
       "Eduardo Costa           1\n",
       "Álvaro González         1\n",
       "Duván Zapata            1\n",
       "Marcelo Silva           1\n",
       "Maxi Moralez            1\n",
       "Pablo Pintos            1\n",
       "Damián Suárez           1\n",
       "Marquinhos              1\n",
       "Diego Ifrán             1\n",
       "Gabriel Paulista        1\n",
       "Juan Gonzalo Lorca      1\n",
       "Sebastián Cristóforo    1\n",
       "Francisco Silva         1\n",
       "Raphael Martinho        1\n",
       "Oscar                   1\n",
       "Juan Forlín             1\n",
       "Marco Estrada           1\n",
       "Luan                    1\n",
       "Hernanes                1\n",
       "Emiliano Alfaro         1\n",
       "Juan Jesus              1\n",
       "Mariano Andújar         1\n",
       "Sandro                  1\n",
       "Gabriel                 1\n",
       "Alejandro González      1\n",
       "                       ..\n",
       "Sandro Silva            1\n",
       "Matías Cabrera          1\n",
       "Felipe Mattioni         1\n",
       "Lorenzo Reyes           1\n",
       "Cristóbal Jorquera      1\n",
       "Gastón Ramírez          1\n",
       "Claiton                 1\n",
       "Mozart                  1\n",
       "Vinícius Araújo         1\n",
       "Casemiro                1\n",
       "Augusto Fernández       1\n",
       "Braian Rodríguez        1\n",
       "Ángelo Henríquez        1\n",
       "André Dias              1\n",
       "Santiago García         1\n",
       "Dorlan Pabón            1\n",
       "Federico Fernández      1\n",
       "Eduardo Vargas          1\n",
       "Gil                     1\n",
       "Alexis Zapata           1\n",
       "Jádson                  1\n",
       "Neuton                  1\n",
       "Mauricio Sperduti       1\n",
       "Charles Aránguiz        1\n",
       "Fágner                  1\n",
       "Santiago Silva          1\n",
       "Bruno Nazário           1\n",
       "José María Giménez      1\n",
       "Lucas Castro            1\n",
       "Gino Peruzzi            1\n",
       "Name: Player_name, Length: 159, dtype: int64"
      ]
     },
     "execution_count": 44,
     "metadata": {},
     "output_type": "execute_result"
    }
   ],
   "source": [
    "df_futbol.Player_name.value_counts()"
   ]
  },
  {
   "cell_type": "code",
   "execution_count": 49,
   "metadata": {},
   "outputs": [
    {
     "data": {
      "text/html": [
       "<div>\n",
       "<style scoped>\n",
       "    .dataframe tbody tr th:only-of-type {\n",
       "        vertical-align: middle;\n",
       "    }\n",
       "\n",
       "    .dataframe tbody tr th {\n",
       "        vertical-align: top;\n",
       "    }\n",
       "\n",
       "    .dataframe thead th {\n",
       "        text-align: right;\n",
       "    }\n",
       "</style>\n",
       "<table border=\"1\" class=\"dataframe\">\n",
       "  <thead>\n",
       "    <tr style=\"text-align: right;\">\n",
       "      <th></th>\n",
       "      <th>Unnamed: 0</th>\n",
       "      <th>Player_name</th>\n",
       "      <th>Player_position</th>\n",
       "      <th>Player_age</th>\n",
       "      <th>Transfer_season</th>\n",
       "      <th>Transfer_from_division</th>\n",
       "      <th>Transfer_from_team</th>\n",
       "      <th>Transfer_to_division</th>\n",
       "      <th>Transfer_to_team</th>\n",
       "      <th>Transfer_fee</th>\n",
       "      <th>MV_transfer</th>\n",
       "      <th>First_time_EU</th>\n",
       "      <th>Loan_Transfer</th>\n",
       "      <th>MV_4y_high</th>\n",
       "      <th>Transfer_4y</th>\n",
       "      <th>Transfer_after</th>\n",
       "      <th>succeeded</th>\n",
       "    </tr>\n",
       "  </thead>\n",
       "  <tbody>\n",
       "    <tr>\n",
       "      <th>116</th>\n",
       "      <td>117</td>\n",
       "      <td>Maicosuel</td>\n",
       "      <td>Left Winger</td>\n",
       "      <td>26</td>\n",
       "      <td>12/13</td>\n",
       "      <td>Série A</td>\n",
       "      <td>Botafogo</td>\n",
       "      <td>Serie A</td>\n",
       "      <td>Udinese Calcio</td>\n",
       "      <td>5300000</td>\n",
       "      <td>2500000.0</td>\n",
       "      <td>No</td>\n",
       "      <td>No</td>\n",
       "      <td>3000000.0</td>\n",
       "      <td>Yes</td>\n",
       "      <td>3000000.0</td>\n",
       "      <td>False</td>\n",
       "    </tr>\n",
       "    <tr>\n",
       "      <th>117</th>\n",
       "      <td>118</td>\n",
       "      <td>Maicosuel</td>\n",
       "      <td>Left Winger</td>\n",
       "      <td>26</td>\n",
       "      <td>12/13</td>\n",
       "      <td>Série A</td>\n",
       "      <td>Botafogo</td>\n",
       "      <td>Serie A</td>\n",
       "      <td>Udinese Calcio</td>\n",
       "      <td>5300000</td>\n",
       "      <td>2000000.0</td>\n",
       "      <td>Yes</td>\n",
       "      <td>Yes</td>\n",
       "      <td>4500000.0</td>\n",
       "      <td>Yes</td>\n",
       "      <td>4000000.0</td>\n",
       "      <td>False</td>\n",
       "    </tr>\n",
       "    <tr>\n",
       "      <th>118</th>\n",
       "      <td>119</td>\n",
       "      <td>Maicosuel</td>\n",
       "      <td>Left Winger</td>\n",
       "      <td>23</td>\n",
       "      <td>09/10</td>\n",
       "      <td>Brazil</td>\n",
       "      <td>Desp. Brasil</td>\n",
       "      <td>Bundesliga</td>\n",
       "      <td>TSG Hoffenheim</td>\n",
       "      <td>4500000</td>\n",
       "      <td>2500000.0</td>\n",
       "      <td>No</td>\n",
       "      <td>No</td>\n",
       "      <td>3000000.0</td>\n",
       "      <td>Yes</td>\n",
       "      <td>3000000.0</td>\n",
       "      <td>False</td>\n",
       "    </tr>\n",
       "    <tr>\n",
       "      <th>119</th>\n",
       "      <td>120</td>\n",
       "      <td>Maicosuel</td>\n",
       "      <td>Left Winger</td>\n",
       "      <td>23</td>\n",
       "      <td>09/10</td>\n",
       "      <td>Brazil</td>\n",
       "      <td>Desp. Brasil</td>\n",
       "      <td>Bundesliga</td>\n",
       "      <td>TSG Hoffenheim</td>\n",
       "      <td>4500000</td>\n",
       "      <td>2000000.0</td>\n",
       "      <td>Yes</td>\n",
       "      <td>Yes</td>\n",
       "      <td>4500000.0</td>\n",
       "      <td>Yes</td>\n",
       "      <td>4000000.0</td>\n",
       "      <td>False</td>\n",
       "    </tr>\n",
       "    <tr>\n",
       "      <th>122</th>\n",
       "      <td>123</td>\n",
       "      <td>Marcos Angeleri</td>\n",
       "      <td>Centre-Back</td>\n",
       "      <td>30</td>\n",
       "      <td>13/14</td>\n",
       "      <td>Torneo Final</td>\n",
       "      <td>Estudiantes</td>\n",
       "      <td>LaLiga</td>\n",
       "      <td>Málaga CF</td>\n",
       "      <td>230000</td>\n",
       "      <td>500000.0</td>\n",
       "      <td>No</td>\n",
       "      <td>No</td>\n",
       "      <td>1500000.0</td>\n",
       "      <td>Yes</td>\n",
       "      <td>100000.0</td>\n",
       "      <td>False</td>\n",
       "    </tr>\n",
       "    <tr>\n",
       "      <th>123</th>\n",
       "      <td>124</td>\n",
       "      <td>Marcos Angeleri</td>\n",
       "      <td>Centre-Back</td>\n",
       "      <td>30</td>\n",
       "      <td>13/14</td>\n",
       "      <td>Torneo Final</td>\n",
       "      <td>Estudiantes</td>\n",
       "      <td>LaLiga</td>\n",
       "      <td>Málaga CF</td>\n",
       "      <td>230000</td>\n",
       "      <td>3500000.0</td>\n",
       "      <td>Yes</td>\n",
       "      <td>No</td>\n",
       "      <td>NaN</td>\n",
       "      <td>Yes</td>\n",
       "      <td>0.0</td>\n",
       "      <td>False</td>\n",
       "    </tr>\n",
       "    <tr>\n",
       "      <th>124</th>\n",
       "      <td>125</td>\n",
       "      <td>Marcos Angeleri</td>\n",
       "      <td>Centre-Back</td>\n",
       "      <td>27</td>\n",
       "      <td>10/11</td>\n",
       "      <td>Torneo Final</td>\n",
       "      <td>Estudiantes</td>\n",
       "      <td>Premier League</td>\n",
       "      <td>Sunderland</td>\n",
       "      <td>1800000</td>\n",
       "      <td>500000.0</td>\n",
       "      <td>No</td>\n",
       "      <td>No</td>\n",
       "      <td>1500000.0</td>\n",
       "      <td>Yes</td>\n",
       "      <td>100000.0</td>\n",
       "      <td>False</td>\n",
       "    </tr>\n",
       "    <tr>\n",
       "      <th>125</th>\n",
       "      <td>126</td>\n",
       "      <td>Marcos Angeleri</td>\n",
       "      <td>Centre-Back</td>\n",
       "      <td>27</td>\n",
       "      <td>10/11</td>\n",
       "      <td>Torneo Final</td>\n",
       "      <td>Estudiantes</td>\n",
       "      <td>Premier League</td>\n",
       "      <td>Sunderland</td>\n",
       "      <td>1800000</td>\n",
       "      <td>3500000.0</td>\n",
       "      <td>Yes</td>\n",
       "      <td>No</td>\n",
       "      <td>NaN</td>\n",
       "      <td>Yes</td>\n",
       "      <td>0.0</td>\n",
       "      <td>False</td>\n",
       "    </tr>\n",
       "  </tbody>\n",
       "</table>\n",
       "</div>"
      ],
      "text/plain": [
       "     Unnamed: 0      Player_name Player_position  Player_age Transfer_season  \\\n",
       "116         117        Maicosuel     Left Winger          26           12/13   \n",
       "117         118        Maicosuel     Left Winger          26           12/13   \n",
       "118         119        Maicosuel     Left Winger          23           09/10   \n",
       "119         120        Maicosuel     Left Winger          23           09/10   \n",
       "122         123  Marcos Angeleri     Centre-Back          30           13/14   \n",
       "123         124  Marcos Angeleri     Centre-Back          30           13/14   \n",
       "124         125  Marcos Angeleri     Centre-Back          27           10/11   \n",
       "125         126  Marcos Angeleri     Centre-Back          27           10/11   \n",
       "\n",
       "    Transfer_from_division Transfer_from_team Transfer_to_division  \\\n",
       "116                Série A           Botafogo              Serie A   \n",
       "117                Série A           Botafogo              Serie A   \n",
       "118                 Brazil       Desp. Brasil           Bundesliga   \n",
       "119                 Brazil       Desp. Brasil           Bundesliga   \n",
       "122           Torneo Final        Estudiantes               LaLiga   \n",
       "123           Torneo Final        Estudiantes               LaLiga   \n",
       "124           Torneo Final        Estudiantes       Premier League   \n",
       "125           Torneo Final        Estudiantes       Premier League   \n",
       "\n",
       "    Transfer_to_team  Transfer_fee  MV_transfer First_time_EU Loan_Transfer  \\\n",
       "116   Udinese Calcio       5300000    2500000.0            No            No   \n",
       "117   Udinese Calcio       5300000    2000000.0           Yes           Yes   \n",
       "118   TSG Hoffenheim       4500000    2500000.0            No            No   \n",
       "119   TSG Hoffenheim       4500000    2000000.0           Yes           Yes   \n",
       "122        Málaga CF        230000     500000.0            No            No   \n",
       "123        Málaga CF        230000    3500000.0           Yes            No   \n",
       "124       Sunderland       1800000     500000.0            No            No   \n",
       "125       Sunderland       1800000    3500000.0           Yes            No   \n",
       "\n",
       "     MV_4y_high Transfer_4y  Transfer_after  succeeded  \n",
       "116   3000000.0         Yes       3000000.0      False  \n",
       "117   4500000.0         Yes       4000000.0      False  \n",
       "118   3000000.0         Yes       3000000.0      False  \n",
       "119   4500000.0         Yes       4000000.0      False  \n",
       "122   1500000.0         Yes        100000.0      False  \n",
       "123         NaN         Yes             0.0      False  \n",
       "124   1500000.0         Yes        100000.0      False  \n",
       "125         NaN         Yes             0.0      False  "
      ]
     },
     "execution_count": 49,
     "metadata": {},
     "output_type": "execute_result"
    }
   ],
   "source": [
    "namecheck = df_futbol.drop(df_futbol[(df_futbol.Player_name != \"Marcos Angeleri\") & (df_futbol.Player_name != \"Maicosuel\")].index)\n",
    "namecheck"
   ]
  },
  {
   "cell_type": "markdown",
   "metadata": {},
   "source": [
    "Vemos que los jugadores hicieron dos transfers en el periodo de alcance, cada transfer es guardado dos veces con distintos \"valor de mercado\". Tenemos que buscar en transfermarkt cual es la observación correcto y borrar los otros.\n",
    "\n",
    "Haciendo eso, concluimos que tenemos que borrar filas of column \"Unnamed: 0\" 118, 119, 124, 125"
   ]
  },
  {
   "cell_type": "code",
   "execution_count": 53,
   "metadata": {},
   "outputs": [
    {
     "data": {
      "text/plain": [
       "Index(['Unnamed: 0', 'Player_name', 'Player_position', 'Player_age',\n",
       "       'Transfer_season', 'Transfer_from_division', 'Transfer_from_team',\n",
       "       'Transfer_to_division', 'Transfer_to_team', 'Transfer_fee',\n",
       "       'MV_transfer', 'First_time_EU', 'Loan_Transfer', 'MV_4y_high',\n",
       "       'Transfer_4y', 'Transfer_after', 'succeeded'],\n",
       "      dtype='object')"
      ]
     },
     "execution_count": 53,
     "metadata": {},
     "output_type": "execute_result"
    }
   ],
   "source": [
    "df_futbol.columns"
   ]
  },
  {
   "cell_type": "code",
   "execution_count": 54,
   "metadata": {},
   "outputs": [],
   "source": [
    "df_futbol.columns = ['ID', 'Player_name', 'Player_position', 'Player_age', 'Transfer_season', 'Transfer_from_division', 'Transfer_from_team','Transfer_to_division', 'Transfer_to_team', 'Transfer_fee', 'MV_transfer', 'First_time_EU', 'Loan_Transfer', 'MV_4y_high', 'Transfer_4y', 'Transfer_after', 'succeeded']"
   ]
  },
  {
   "cell_type": "code",
   "execution_count": 55,
   "metadata": {},
   "outputs": [
    {
     "data": {
      "text/plain": [
       "Nicolás Bianchi Arce    2\n",
       "Maicosuel               2\n",
       "Marcos Angeleri         2\n",
       "Wallace Oliveira        1\n",
       "Pablo Pérez             1\n",
       "Eduardo Costa           1\n",
       "Álvaro González         1\n",
       "Duván Zapata            1\n",
       "Marcelo Silva           1\n",
       "Maxi Moralez            1\n",
       "Pablo Pintos            1\n",
       "Damián Suárez           1\n",
       "Marquinhos              1\n",
       "Diego Ifrán             1\n",
       "Gabriel Paulista        1\n",
       "Juan Gonzalo Lorca      1\n",
       "Sebastián Cristóforo    1\n",
       "Francisco Silva         1\n",
       "Raphael Martinho        1\n",
       "Oscar                   1\n",
       "Juan Forlín             1\n",
       "Marco Estrada           1\n",
       "Luan                    1\n",
       "Hernanes                1\n",
       "Emiliano Alfaro         1\n",
       "Juan Jesus              1\n",
       "Mariano Andújar         1\n",
       "Sandro                  1\n",
       "Gabriel                 1\n",
       "Alejandro González      1\n",
       "                       ..\n",
       "Sandro Silva            1\n",
       "Matías Cabrera          1\n",
       "Felipe Mattioni         1\n",
       "Lorenzo Reyes           1\n",
       "Cristóbal Jorquera      1\n",
       "Gastón Ramírez          1\n",
       "Claiton                 1\n",
       "Mozart                  1\n",
       "Vinícius Araújo         1\n",
       "Casemiro                1\n",
       "Augusto Fernández       1\n",
       "Braian Rodríguez        1\n",
       "Ángelo Henríquez        1\n",
       "André Dias              1\n",
       "Santiago García         1\n",
       "Dorlan Pabón            1\n",
       "Federico Fernández      1\n",
       "Eduardo Vargas          1\n",
       "Gil                     1\n",
       "Alexis Zapata           1\n",
       "Jádson                  1\n",
       "Neuton                  1\n",
       "Mauricio Sperduti       1\n",
       "Charles Aránguiz        1\n",
       "Fágner                  1\n",
       "Santiago Silva          1\n",
       "Bruno Nazário           1\n",
       "José María Giménez      1\n",
       "Lucas Castro            1\n",
       "Gino Peruzzi            1\n",
       "Name: Player_name, Length: 159, dtype: int64"
      ]
     },
     "execution_count": 55,
     "metadata": {},
     "output_type": "execute_result"
    }
   ],
   "source": [
    "df_futbol = df_futbol.drop(df_futbol[(df_futbol.ID == 118) | (df_futbol.ID == 119) | (df_futbol.ID == 124) | (df_futbol.ID == 125)].index)\n",
    "df_futbol.Player_name.value_counts()"
   ]
  },
  {
   "cell_type": "markdown",
   "metadata": {},
   "source": [
    "### 2. El histogram de distintas posiciones no nos da una vista muy clara. Arma un codigo para agregar un nuevo variable cual grupa las posiciones en 4 categorias. (Golero, Defensa, Media cancha, Adelante)\n",
    "Una forma puede ser con un for loop y if statements. Abajo se puede encontrar un ejemplo de un 'for loop' y un 'if else if else' syntax. "
   ]
  },
  {
   "cell_type": "code",
   "execution_count": 77,
   "metadata": {},
   "outputs": [
    {
     "data": {
      "text/html": [
       "<ol class=list-inline>\n",
       "\t<li>Right Winger</li>\n",
       "\t<li>Centre-Forward</li>\n",
       "\t<li>Centre-Back</li>\n",
       "\t<li>Central Midfield</li>\n",
       "\t<li>Defensive Midfield</li>\n",
       "\t<li>Left Winger</li>\n",
       "\t<li>Right-Back</li>\n",
       "\t<li>Left-Back</li>\n",
       "\t<li>Attacking Midfield</li>\n",
       "\t<li>Left Midfield</li>\n",
       "\t<li>Second Striker</li>\n",
       "\t<li>Goalkeeper</li>\n",
       "</ol>\n",
       "\n",
       "<details>\n",
       "\t<summary style=display:list-item;cursor:pointer>\n",
       "\t\t<strong>Levels</strong>:\n",
       "\t</summary>\n",
       "\t<ol class=list-inline>\n",
       "\t\t<li>'Attacking Midfield'</li>\n",
       "\t\t<li>'Central Midfield'</li>\n",
       "\t\t<li>'Centre-Back'</li>\n",
       "\t\t<li>'Centre-Forward'</li>\n",
       "\t\t<li>'Defensive Midfield'</li>\n",
       "\t\t<li>'Goalkeeper'</li>\n",
       "\t\t<li>'Left Midfield'</li>\n",
       "\t\t<li>'Left Winger'</li>\n",
       "\t\t<li>'Left-Back'</li>\n",
       "\t\t<li>'Right Midfield'</li>\n",
       "\t\t<li>'Right Winger'</li>\n",
       "\t\t<li>'Right-Back'</li>\n",
       "\t\t<li>'Second Striker'</li>\n",
       "\t</ol>\n",
       "</details>"
      ],
      "text/latex": [
       "\\begin{enumerate*}\n",
       "\\item Right Winger\n",
       "\\item Centre-Forward\n",
       "\\item Centre-Back\n",
       "\\item Central Midfield\n",
       "\\item Defensive Midfield\n",
       "\\item Left Winger\n",
       "\\item Right-Back\n",
       "\\item Left-Back\n",
       "\\item Attacking Midfield\n",
       "\\item Left Midfield\n",
       "\\item Second Striker\n",
       "\\item Goalkeeper\n",
       "\\end{enumerate*}\n",
       "\n",
       "\\emph{Levels}: \\begin{enumerate*}\n",
       "\\item 'Attacking Midfield'\n",
       "\\item 'Central Midfield'\n",
       "\\item 'Centre-Back'\n",
       "\\item 'Centre-Forward'\n",
       "\\item 'Defensive Midfield'\n",
       "\\item 'Goalkeeper'\n",
       "\\item 'Left Midfield'\n",
       "\\item 'Left Winger'\n",
       "\\item 'Left-Back'\n",
       "\\item 'Right Midfield'\n",
       "\\item 'Right Winger'\n",
       "\\item 'Right-Back'\n",
       "\\item 'Second Striker'\n",
       "\\end{enumerate*}\n"
      ],
      "text/markdown": [
       "1. Right Winger\n",
       "2. Centre-Forward\n",
       "3. Centre-Back\n",
       "4. Central Midfield\n",
       "5. Defensive Midfield\n",
       "6. Left Winger\n",
       "7. Right-Back\n",
       "8. Left-Back\n",
       "9. Attacking Midfield\n",
       "10. Left Midfield\n",
       "11. Second Striker\n",
       "12. Goalkeeper\n",
       "\n",
       "\n",
       "\n",
       "**Levels**: 1. 'Attacking Midfield'\n",
       "2. 'Central Midfield'\n",
       "3. 'Centre-Back'\n",
       "4. 'Centre-Forward'\n",
       "5. 'Defensive Midfield'\n",
       "6. 'Goalkeeper'\n",
       "7. 'Left Midfield'\n",
       "8. 'Left Winger'\n",
       "9. 'Left-Back'\n",
       "10. 'Right Midfield'\n",
       "11. 'Right Winger'\n",
       "12. 'Right-Back'\n",
       "13. 'Second Striker'\n",
       "\n",
       "\n"
      ],
      "text/plain": [
       " [1] Right Winger       Centre-Forward     Centre-Back        Central Midfield  \n",
       " [5] Defensive Midfield Left Winger        Right-Back         Left-Back         \n",
       " [9] Attacking Midfield Left Midfield      Second Striker     Goalkeeper        \n",
       "13 Levels: Attacking Midfield Central Midfield Centre-Back ... Second Striker"
      ]
     },
     "metadata": {},
     "output_type": "display_data"
    }
   ],
   "source": [
    "unique(df_futbol$Player_position)"
   ]
  },
  {
   "cell_type": "code",
   "execution_count": 68,
   "metadata": {},
   "outputs": [],
   "source": [
    "def consolidate_player_position(player_position):\n",
    "    if player_position == \"Goalkeeper\":\n",
    "         return \"Golero\"\n",
    "    elif player_position in {\"Right-Back\", \"Left-Back\", \"Centre-Back\"}:\n",
    "        return \"Defensa\"\n",
    "    elif player_position in {\"Right Winger\", \"Left Winger\", \"Second Striker\", \"Centre-Forward\"}:\n",
    "        return \"Adelante\"\n",
    "    else:\n",
    "        return \"Media\""
   ]
  },
  {
   "cell_type": "code",
   "execution_count": 73,
   "metadata": {
    "scrolled": true
   },
   "outputs": [],
   "source": [
    "df_futbol['Player_position_cat'] = df_futbol['Player_position'].apply(consolidate_player_position)"
   ]
  },
  {
   "cell_type": "code",
   "execution_count": 74,
   "metadata": {},
   "outputs": [
    {
     "data": {
      "text/plain": [
       "0      Adelante\n",
       "1      Adelante\n",
       "2        Golero\n",
       "3         Media\n",
       "4       Defensa\n",
       "5       Defensa\n",
       "6         Media\n",
       "7         Media\n",
       "8         Media\n",
       "9       Defensa\n",
       "10     Adelante\n",
       "11        Media\n",
       "12        Media\n",
       "13      Defensa\n",
       "14     Adelante\n",
       "15     Adelante\n",
       "16     Adelante\n",
       "17      Defensa\n",
       "19      Defensa\n",
       "20        Media\n",
       "21        Media\n",
       "23      Defensa\n",
       "24      Defensa\n",
       "25     Adelante\n",
       "26      Defensa\n",
       "27        Media\n",
       "28      Defensa\n",
       "29      Defensa\n",
       "30        Media\n",
       "32     Adelante\n",
       "         ...   \n",
       "161     Defensa\n",
       "162       Media\n",
       "163     Defensa\n",
       "166       Media\n",
       "167     Defensa\n",
       "168    Adelante\n",
       "169       Media\n",
       "170    Adelante\n",
       "171      Golero\n",
       "173       Media\n",
       "174     Defensa\n",
       "175       Media\n",
       "176    Adelante\n",
       "177    Adelante\n",
       "179       Media\n",
       "180       Media\n",
       "181     Defensa\n",
       "183    Adelante\n",
       "184     Defensa\n",
       "185       Media\n",
       "186    Adelante\n",
       "188    Adelante\n",
       "190    Adelante\n",
       "191    Adelante\n",
       "193     Defensa\n",
       "194    Adelante\n",
       "195       Media\n",
       "196       Media\n",
       "198    Adelante\n",
       "199       Media\n",
       "Name: Player_position_cat, Length: 162, dtype: object"
      ]
     },
     "execution_count": 74,
     "metadata": {},
     "output_type": "execute_result"
    }
   ],
   "source": [
    "df_futbol['Player_position_cat']"
   ]
  },
  {
   "cell_type": "markdown",
   "metadata": {},
   "source": [
    "### 3. Visualiza su nuevo variable de posiciones en un histogram."
   ]
  },
  {
   "cell_type": "code",
   "execution_count": 96,
   "metadata": {},
   "outputs": [
    {
     "data": {
      "text/plain": [
       "Adelante    54\n",
       "Defensa     53\n",
       "Media       49\n",
       "Golero       6\n",
       "Name: Player_position_cat, dtype: int64"
      ]
     },
     "execution_count": 96,
     "metadata": {},
     "output_type": "execute_result"
    }
   ],
   "source": [
    "df_futbol.Player_position_cat.value_counts()"
   ]
  },
  {
   "cell_type": "code",
   "execution_count": 97,
   "metadata": {},
   "outputs": [
    {
     "data": {
      "text/plain": [
       "Text(0, 0.5, 'Amount of players')"
      ]
     },
     "execution_count": 97,
     "metadata": {},
     "output_type": "execute_result"
    },
    {
     "data": {
      "image/png": "[encoded data removed]",
      "text/plain": [
       "<Figure size 432x288 with 1 Axes>"
      ]
     },
     "metadata": {},
     "output_type": "display_data"
    }
   ],
   "source": [
    "plt.style.use('ggplot')\n",
    "plt.hist(df_futbol.Player_position_cat)\n",
    "plt.xticks(rotation='vertical')\n",
    "plt.title(\"Player positions\")\n",
    "plt.ylabel(\"Amount of players\")"
   ]
  },
  {
   "cell_type": "markdown",
   "metadata": {},
   "source": [
    "### 4.  Visualiza de nuevo la nueva variable, pero ahora implementa también que el color muestra la distribución de succeeded. Describe que se observa."
   ]
  },
  {
   "cell_type": "code",
   "execution_count": 98,
   "metadata": {},
   "outputs": [
    {
     "data": {
      "text/plain": [
       "<matplotlib.axes._subplots.AxesSubplot at 0x7f9cbcfa8898>"
      ]
     },
     "execution_count": 98,
     "metadata": {},
     "output_type": "execute_result"
    },
    {
     "data": {
      "image/png": "[encoded data removed]",
      "text/plain": [
       "<Figure size 432x288 with 1 Axes>"
      ]
     },
     "metadata": {},
     "output_type": "display_data"
    }
   ],
   "source": [
    "# En Premier League, se paga un promedio de 3.789.354 por un jugador.df2 = df_futbol.groupby(['Player_position_cat', 'succeeded'])['Player_position_cat'].count().unstack('succeeded').fillna(0)\n",
    "df2.plot(kind='bar', stacked=True)"
   ]
  },
  {
   "cell_type": "markdown",
   "metadata": {},
   "source": [
    "### 5. Arma otro stacked histogram, esta vez de las distintas divisiones y el color presentado las distintas posiciones."
   ]
  },
  {
   "cell_type": "code",
   "execution_count": 99,
   "metadata": {},
   "outputs": [
    {
     "data": {
      "text/plain": [
       "<matplotlib.axes._subplots.AxesSubplot at 0x7f9cc1bce128>"
      ]
     },
     "execution_count": 99,
     "metadata": {},
     "output_type": "execute_result"
    },
    {
     "data": {
      "image/png": "[encoded data removed]",
      "text/plain": [
       "<Figure size 432x288 with 1 Axes>"
      ]
     },
     "metadata": {},
     "output_type": "display_data"
    }
   ],
   "source": [
    "df2 = df_futbol.groupby(['Transfer_to_division', 'Player_position_cat'])['Transfer_to_division'].count().unstack('Player_position_cat').fillna(0)\n",
    "df2.plot(kind='bar', stacked=True)"
   ]
  },
  {
   "cell_type": "markdown",
   "metadata": {},
   "source": [
    "### 6. Arma un stacked area chart, para los MV_4y_high por los distintas temporadas y por división. Describe lo que se observa. "
   ]
  },
  {
   "cell_type": "code",
   "execution_count": 100,
   "metadata": {},
   "outputs": [
    {
     "data": {
      "text/plain": [
       "<matplotlib.axes._subplots.AxesSubplot at 0x7f9cc1f11c88>"
      ]
     },
     "execution_count": 100,
     "metadata": {},
     "output_type": "execute_result"
    },
    {
     "data": {
      "image/png": "[encoded data removed]",
      "text/plain": [
       "<Figure size 432x288 with 1 Axes>"
      ]
     },
     "metadata": {},
     "output_type": "display_data"
    }
   ],
   "source": [
    "# En Premier League, se paga un promedio de 3.789.354 por un jugador.df2 = df_futbol.groupby(['Transfer_season', 'Transfer_to_division'])['MV_4y_high'].sum().unstack('Transfer_to_division').fillna(0)\n",
    "df2.plot(kind='area', stacked=True)"
   ]
  },
  {
   "cell_type": "code",
   "execution_count": null,
   "metadata": {},
   "outputs": [],
   "source": []
  }
 ],
 "metadata": {
  "kernelspec": {
   "display_name": "Python 3",
   "language": "python",
   "name": "python3"
  },
  "language_info": {
   "codemirror_mode": {
    "name": "ipython",
    "version": 3
   },
   "file_extension": ".py",
   "mimetype": "text/x-python",
   "name": "python",
   "nbconvert_exporter": "python",
   "pygments_lexer": "ipython3",
   "version": "3.7.3"
  }
 },
 "nbformat": 4,
 "nbformat_minor": 2
}
